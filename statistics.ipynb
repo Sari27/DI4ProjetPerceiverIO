{
 "cells": [
  {
   "cell_type": "markdown",
   "source": [
    "# Acquisition des données"
   ],
   "metadata": {
    "collapsed": false,
    "pycharm": {
     "name": "#%% md\n"
    }
   }
  },
  {
   "cell_type": "code",
   "execution_count": 7,
   "metadata": {
    "collapsed": true
   },
   "outputs": [],
   "source": [
    "import datetime as dt\n",
    "from IPython.utils import io\n",
    "# Pickle est un module permettant la (dé)sérialisation\n",
    "import pickle\n",
    "import numpy as np"
   ]
  },
  {
   "cell_type": "code",
   "execution_count": 8,
   "outputs": [
    {
     "name": "stdout",
     "output_type": "stream",
     "text": [
      "Les hyperparametres ont ete charges.\n"
     ]
    }
   ],
   "source": [
    "# On deserialise les valeurs des hyperparametres du modele.\n",
    "\n",
    "try: params\n",
    "except NameError:\n",
    "    try:\n",
    "        print(\"Chargement des hyperparametres...\")\n",
    "        with open(\"./data/language_perceiver_io_bytes.pickle\", \"rb\") as f:\n",
    "            params = pickle.loads(f.read())\n",
    "    except (FileNotFoundError, pickle.UnpicklingError):\n",
    "        print(\"Aucun trouves. Telechargement des hyperparametres.\")\n",
    "        !wget -O ./data/language_perceiver_io_bytes.pickle \\\n",
    "                https://storage.googleapis.com/perceiver_io/language_perceiver_io_bytes.pickle\n",
    "\n",
    "assert type(params).__name__ == 'FlatMapping'\n",
    "print(\"Les hyperparametres ont ete charges.\")"
   ],
   "metadata": {
    "collapsed": false,
    "pycharm": {
     "name": "#%%\n"
    }
   }
  },
  {
   "cell_type": "code",
   "execution_count": 9,
   "outputs": [
    {
     "data": {
      "text/plain": "'Progression dans les echantillons : 5%'"
     },
     "metadata": {},
     "output_type": "display_data"
    },
    {
     "data": {
      "text/plain": "'Progression dans les echantillons : 11%'"
     },
     "metadata": {},
     "output_type": "display_data"
    },
    {
     "data": {
      "text/plain": "'Progression dans les echantillons : 16%'"
     },
     "metadata": {},
     "output_type": "display_data"
    },
    {
     "data": {
      "text/plain": "'Progression dans les echantillons : 50%'"
     },
     "metadata": {},
     "output_type": "display_data"
    },
    {
     "data": {
      "text/plain": "'Progression dans les echantillons : 55%'"
     },
     "metadata": {},
     "output_type": "display_data"
    },
    {
     "data": {
      "text/plain": "'Progression dans les echantillons : 61%'"
     },
     "metadata": {},
     "output_type": "display_data"
    },
    {
     "data": {
      "text/plain": "'Progression dans les echantillons : 66%'"
     },
     "metadata": {},
     "output_type": "display_data"
    },
    {
     "data": {
      "text/plain": "'Progression dans les echantillons : 100%'"
     },
     "metadata": {},
     "output_type": "display_data"
    },
    {
     "name": "stdout",
     "output_type": "stream",
     "text": [
      "Writing 'log' (str) to file './results/logs.txt'.\n",
      "L'execution avec un pourcentage de 5% a dure 2.1702175s et a obtenu un score de 0.3888888888888889\n",
      "\n",
      "Progression : 5%\n",
      "\n"
     ]
    },
    {
     "data": {
      "text/plain": "'Progression dans les echantillons : 5%'"
     },
     "metadata": {},
     "output_type": "display_data"
    },
    {
     "data": {
      "text/plain": "'Progression dans les echantillons : 11%'"
     },
     "metadata": {},
     "output_type": "display_data"
    },
    {
     "data": {
      "text/plain": "'Progression dans les echantillons : 16%'"
     },
     "metadata": {},
     "output_type": "display_data"
    },
    {
     "data": {
      "text/plain": "'Progression dans les echantillons : 50%'"
     },
     "metadata": {},
     "output_type": "display_data"
    },
    {
     "data": {
      "text/plain": "'Progression dans les echantillons : 55%'"
     },
     "metadata": {},
     "output_type": "display_data"
    },
    {
     "data": {
      "text/plain": "'Progression dans les echantillons : 61%'"
     },
     "metadata": {},
     "output_type": "display_data"
    },
    {
     "data": {
      "text/plain": "'Progression dans les echantillons : 66%'"
     },
     "metadata": {},
     "output_type": "display_data"
    },
    {
     "data": {
      "text/plain": "'Progression dans les echantillons : 100%'"
     },
     "metadata": {},
     "output_type": "display_data"
    },
    {
     "name": "stdout",
     "output_type": "stream",
     "text": [
      "Writing 'log' (str) to file './results/logs.txt'.\n",
      "L'execution avec un pourcentage de 10% a dure 2.203771833333333s et a obtenu un score de 0.46495535714285713\n"
     ]
    },
    {
     "data": {
      "text/plain": "'Progression dans les echantillons : 5%'"
     },
     "metadata": {},
     "output_type": "display_data"
    },
    {
     "data": {
      "text/plain": "'Progression dans les echantillons : 11%'"
     },
     "metadata": {},
     "output_type": "display_data"
    },
    {
     "data": {
      "text/plain": "'Progression dans les echantillons : 16%'"
     },
     "metadata": {},
     "output_type": "display_data"
    },
    {
     "data": {
      "text/plain": "'Progression dans les echantillons : 50%'"
     },
     "metadata": {},
     "output_type": "display_data"
    },
    {
     "data": {
      "text/plain": "'Progression dans les echantillons : 55%'"
     },
     "metadata": {},
     "output_type": "display_data"
    },
    {
     "data": {
      "text/plain": "'Progression dans les echantillons : 61%'"
     },
     "metadata": {},
     "output_type": "display_data"
    },
    {
     "data": {
      "text/plain": "'Progression dans les echantillons : 66%'"
     },
     "metadata": {},
     "output_type": "display_data"
    },
    {
     "data": {
      "text/plain": "'Progression dans les echantillons : 100%'"
     },
     "metadata": {},
     "output_type": "display_data"
    },
    {
     "name": "stdout",
     "output_type": "stream",
     "text": [
      "Writing 'log' (str) to file './results/logs.txt'.\n",
      "L'execution avec un pourcentage de 15% a dure 2.1906029444444446s et a obtenu un score de 0.3226890756302522\n"
     ]
    },
    {
     "data": {
      "text/plain": "'Progression dans les echantillons : 5%'"
     },
     "metadata": {},
     "output_type": "display_data"
    },
    {
     "data": {
      "text/plain": "'Progression dans les echantillons : 11%'"
     },
     "metadata": {},
     "output_type": "display_data"
    },
    {
     "data": {
      "text/plain": "'Progression dans les echantillons : 16%'"
     },
     "metadata": {},
     "output_type": "display_data"
    },
    {
     "data": {
      "text/plain": "'Progression dans les echantillons : 50%'"
     },
     "metadata": {},
     "output_type": "display_data"
    },
    {
     "data": {
      "text/plain": "'Progression dans les echantillons : 55%'"
     },
     "metadata": {},
     "output_type": "display_data"
    },
    {
     "data": {
      "text/plain": "'Progression dans les echantillons : 61%'"
     },
     "metadata": {},
     "output_type": "display_data"
    },
    {
     "data": {
      "text/plain": "'Progression dans les echantillons : 66%'"
     },
     "metadata": {},
     "output_type": "display_data"
    },
    {
     "data": {
      "text/plain": "'Progression dans les echantillons : 100%'"
     },
     "metadata": {},
     "output_type": "display_data"
    },
    {
     "name": "stdout",
     "output_type": "stream",
     "text": [
      "Writing 'log' (str) to file './results/logs.txt'.\n",
      "L'execution avec un pourcentage de 20% a dure 2.1770249444444447s et a obtenu un score de 0.37824397824397826\n",
      "\n",
      "Progression : 21%\n",
      "\n"
     ]
    },
    {
     "data": {
      "text/plain": "'Progression dans les echantillons : 5%'"
     },
     "metadata": {},
     "output_type": "display_data"
    },
    {
     "data": {
      "text/plain": "'Progression dans les echantillons : 11%'"
     },
     "metadata": {},
     "output_type": "display_data"
    },
    {
     "data": {
      "text/plain": "'Progression dans les echantillons : 16%'"
     },
     "metadata": {},
     "output_type": "display_data"
    },
    {
     "data": {
      "text/plain": "'Progression dans les echantillons : 50%'"
     },
     "metadata": {},
     "output_type": "display_data"
    },
    {
     "data": {
      "text/plain": "'Progression dans les echantillons : 55%'"
     },
     "metadata": {},
     "output_type": "display_data"
    },
    {
     "data": {
      "text/plain": "'Progression dans les echantillons : 61%'"
     },
     "metadata": {},
     "output_type": "display_data"
    },
    {
     "data": {
      "text/plain": "'Progression dans les echantillons : 66%'"
     },
     "metadata": {},
     "output_type": "display_data"
    },
    {
     "data": {
      "text/plain": "'Progression dans les echantillons : 100%'"
     },
     "metadata": {},
     "output_type": "display_data"
    },
    {
     "name": "stdout",
     "output_type": "stream",
     "text": [
      "Writing 'log' (str) to file './results/logs.txt'.\n",
      "L'execution avec un pourcentage de 25% a dure 2.1892570555555557s et a obtenu un score de 0.3393518518518519\n"
     ]
    },
    {
     "data": {
      "text/plain": "'Progression dans les echantillons : 5%'"
     },
     "metadata": {},
     "output_type": "display_data"
    },
    {
     "data": {
      "text/plain": "'Progression dans les echantillons : 11%'"
     },
     "metadata": {},
     "output_type": "display_data"
    },
    {
     "data": {
      "text/plain": "'Progression dans les echantillons : 16%'"
     },
     "metadata": {},
     "output_type": "display_data"
    },
    {
     "data": {
      "text/plain": "'Progression dans les echantillons : 50%'"
     },
     "metadata": {},
     "output_type": "display_data"
    },
    {
     "data": {
      "text/plain": "'Progression dans les echantillons : 55%'"
     },
     "metadata": {},
     "output_type": "display_data"
    },
    {
     "data": {
      "text/plain": "'Progression dans les echantillons : 61%'"
     },
     "metadata": {},
     "output_type": "display_data"
    },
    {
     "data": {
      "text/plain": "'Progression dans les echantillons : 66%'"
     },
     "metadata": {},
     "output_type": "display_data"
    },
    {
     "data": {
      "text/plain": "'Progression dans les echantillons : 100%'"
     },
     "metadata": {},
     "output_type": "display_data"
    },
    {
     "name": "stdout",
     "output_type": "stream",
     "text": [
      "Writing 'log' (str) to file './results/logs.txt'.\n",
      "L'execution avec un pourcentage de 30% a dure 2.190363722222222s et a obtenu un score de 0.22666475681181564\n"
     ]
    },
    {
     "data": {
      "text/plain": "'Progression dans les echantillons : 5%'"
     },
     "metadata": {},
     "output_type": "display_data"
    },
    {
     "data": {
      "text/plain": "'Progression dans les echantillons : 11%'"
     },
     "metadata": {},
     "output_type": "display_data"
    },
    {
     "data": {
      "text/plain": "'Progression dans les echantillons : 16%'"
     },
     "metadata": {},
     "output_type": "display_data"
    },
    {
     "data": {
      "text/plain": "'Progression dans les echantillons : 50%'"
     },
     "metadata": {},
     "output_type": "display_data"
    },
    {
     "data": {
      "text/plain": "'Progression dans les echantillons : 55%'"
     },
     "metadata": {},
     "output_type": "display_data"
    },
    {
     "data": {
      "text/plain": "'Progression dans les echantillons : 61%'"
     },
     "metadata": {},
     "output_type": "display_data"
    },
    {
     "data": {
      "text/plain": "'Progression dans les echantillons : 66%'"
     },
     "metadata": {},
     "output_type": "display_data"
    },
    {
     "data": {
      "text/plain": "'Progression dans les echantillons : 100%'"
     },
     "metadata": {},
     "output_type": "display_data"
    },
    {
     "name": "stdout",
     "output_type": "stream",
     "text": [
      "Writing 'log' (str) to file './results/logs.txt'.\n",
      "L'execution avec un pourcentage de 35% a dure 2.179107s et a obtenu un score de 0.22166953416953417\n"
     ]
    },
    {
     "data": {
      "text/plain": "'Progression dans les echantillons : 5%'"
     },
     "metadata": {},
     "output_type": "display_data"
    },
    {
     "data": {
      "text/plain": "'Progression dans les echantillons : 11%'"
     },
     "metadata": {},
     "output_type": "display_data"
    },
    {
     "data": {
      "text/plain": "'Progression dans les echantillons : 16%'"
     },
     "metadata": {},
     "output_type": "display_data"
    },
    {
     "data": {
      "text/plain": "'Progression dans les echantillons : 50%'"
     },
     "metadata": {},
     "output_type": "display_data"
    },
    {
     "data": {
      "text/plain": "'Progression dans les echantillons : 55%'"
     },
     "metadata": {},
     "output_type": "display_data"
    },
    {
     "data": {
      "text/plain": "'Progression dans les echantillons : 61%'"
     },
     "metadata": {},
     "output_type": "display_data"
    },
    {
     "data": {
      "text/plain": "'Progression dans les echantillons : 66%'"
     },
     "metadata": {},
     "output_type": "display_data"
    },
    {
     "data": {
      "text/plain": "'Progression dans les echantillons : 100%'"
     },
     "metadata": {},
     "output_type": "display_data"
    },
    {
     "name": "stdout",
     "output_type": "stream",
     "text": [
      "Writing 'log' (str) to file './results/logs.txt'.\n",
      "L'execution avec un pourcentage de 40% a dure 2.1990067777777775s et a obtenu un score de 0.12044252044252045\n",
      "\n",
      "Progression : 42%\n",
      "\n"
     ]
    },
    {
     "data": {
      "text/plain": "'Progression dans les echantillons : 5%'"
     },
     "metadata": {},
     "output_type": "display_data"
    },
    {
     "data": {
      "text/plain": "'Progression dans les echantillons : 11%'"
     },
     "metadata": {},
     "output_type": "display_data"
    },
    {
     "data": {
      "text/plain": "'Progression dans les echantillons : 16%'"
     },
     "metadata": {},
     "output_type": "display_data"
    },
    {
     "data": {
      "text/plain": "'Progression dans les echantillons : 50%'"
     },
     "metadata": {},
     "output_type": "display_data"
    },
    {
     "data": {
      "text/plain": "'Progression dans les echantillons : 55%'"
     },
     "metadata": {},
     "output_type": "display_data"
    },
    {
     "data": {
      "text/plain": "'Progression dans les echantillons : 61%'"
     },
     "metadata": {},
     "output_type": "display_data"
    },
    {
     "data": {
      "text/plain": "'Progression dans les echantillons : 66%'"
     },
     "metadata": {},
     "output_type": "display_data"
    },
    {
     "data": {
      "text/plain": "'Progression dans les echantillons : 100%'"
     },
     "metadata": {},
     "output_type": "display_data"
    },
    {
     "name": "stdout",
     "output_type": "stream",
     "text": [
      "Writing 'log' (str) to file './results/logs.txt'.\n",
      "L'execution avec un pourcentage de 45% a dure 2.1671526111111112s et a obtenu un score de 0.12455776340580263\n"
     ]
    },
    {
     "data": {
      "text/plain": "'Progression dans les echantillons : 5%'"
     },
     "metadata": {},
     "output_type": "display_data"
    },
    {
     "data": {
      "text/plain": "'Progression dans les echantillons : 11%'"
     },
     "metadata": {},
     "output_type": "display_data"
    },
    {
     "data": {
      "text/plain": "'Progression dans les echantillons : 16%'"
     },
     "metadata": {},
     "output_type": "display_data"
    },
    {
     "data": {
      "text/plain": "'Progression dans les echantillons : 50%'"
     },
     "metadata": {},
     "output_type": "display_data"
    },
    {
     "data": {
      "text/plain": "'Progression dans les echantillons : 55%'"
     },
     "metadata": {},
     "output_type": "display_data"
    },
    {
     "data": {
      "text/plain": "'Progression dans les echantillons : 61%'"
     },
     "metadata": {},
     "output_type": "display_data"
    },
    {
     "data": {
      "text/plain": "'Progression dans les echantillons : 66%'"
     },
     "metadata": {},
     "output_type": "display_data"
    },
    {
     "data": {
      "text/plain": "'Progression dans les echantillons : 100%'"
     },
     "metadata": {},
     "output_type": "display_data"
    },
    {
     "name": "stdout",
     "output_type": "stream",
     "text": [
      "Writing 'log' (str) to file './results/logs.txt'.\n",
      "L'execution avec un pourcentage de 50% a dure 2.183078777777778s et a obtenu un score de 0.09924270576444488\n"
     ]
    },
    {
     "data": {
      "text/plain": "'Progression dans les echantillons : 5%'"
     },
     "metadata": {},
     "output_type": "display_data"
    },
    {
     "data": {
      "text/plain": "'Progression dans les echantillons : 11%'"
     },
     "metadata": {},
     "output_type": "display_data"
    },
    {
     "data": {
      "text/plain": "'Progression dans les echantillons : 16%'"
     },
     "metadata": {},
     "output_type": "display_data"
    },
    {
     "data": {
      "text/plain": "'Progression dans les echantillons : 50%'"
     },
     "metadata": {},
     "output_type": "display_data"
    },
    {
     "data": {
      "text/plain": "'Progression dans les echantillons : 55%'"
     },
     "metadata": {},
     "output_type": "display_data"
    },
    {
     "data": {
      "text/plain": "'Progression dans les echantillons : 61%'"
     },
     "metadata": {},
     "output_type": "display_data"
    },
    {
     "data": {
      "text/plain": "'Progression dans les echantillons : 66%'"
     },
     "metadata": {},
     "output_type": "display_data"
    },
    {
     "data": {
      "text/plain": "'Progression dans les echantillons : 100%'"
     },
     "metadata": {},
     "output_type": "display_data"
    },
    {
     "name": "stdout",
     "output_type": "stream",
     "text": [
      "Writing 'log' (str) to file './results/logs.txt'.\n",
      "L'execution avec un pourcentage de 55% a dure 2.189706388888889s et a obtenu un score de 0.09910809778456836\n",
      "\n",
      "Progression : 57%\n",
      "\n"
     ]
    },
    {
     "data": {
      "text/plain": "'Progression dans les echantillons : 5%'"
     },
     "metadata": {},
     "output_type": "display_data"
    },
    {
     "data": {
      "text/plain": "'Progression dans les echantillons : 11%'"
     },
     "metadata": {},
     "output_type": "display_data"
    },
    {
     "data": {
      "text/plain": "'Progression dans les echantillons : 16%'"
     },
     "metadata": {},
     "output_type": "display_data"
    },
    {
     "data": {
      "text/plain": "'Progression dans les echantillons : 50%'"
     },
     "metadata": {},
     "output_type": "display_data"
    },
    {
     "data": {
      "text/plain": "'Progression dans les echantillons : 55%'"
     },
     "metadata": {},
     "output_type": "display_data"
    },
    {
     "data": {
      "text/plain": "'Progression dans les echantillons : 61%'"
     },
     "metadata": {},
     "output_type": "display_data"
    },
    {
     "data": {
      "text/plain": "'Progression dans les echantillons : 66%'"
     },
     "metadata": {},
     "output_type": "display_data"
    },
    {
     "data": {
      "text/plain": "'Progression dans les echantillons : 100%'"
     },
     "metadata": {},
     "output_type": "display_data"
    },
    {
     "name": "stdout",
     "output_type": "stream",
     "text": [
      "Writing 'log' (str) to file './results/logs.txt'.\n",
      "L'execution avec un pourcentage de 60% a dure 2.1708314444444445s et a obtenu un score de 0.0516790425757817\n"
     ]
    },
    {
     "data": {
      "text/plain": "'Progression dans les echantillons : 5%'"
     },
     "metadata": {},
     "output_type": "display_data"
    },
    {
     "data": {
      "text/plain": "'Progression dans les echantillons : 11%'"
     },
     "metadata": {},
     "output_type": "display_data"
    },
    {
     "data": {
      "text/plain": "'Progression dans les echantillons : 16%'"
     },
     "metadata": {},
     "output_type": "display_data"
    },
    {
     "data": {
      "text/plain": "'Progression dans les echantillons : 50%'"
     },
     "metadata": {},
     "output_type": "display_data"
    },
    {
     "data": {
      "text/plain": "'Progression dans les echantillons : 55%'"
     },
     "metadata": {},
     "output_type": "display_data"
    },
    {
     "data": {
      "text/plain": "'Progression dans les echantillons : 61%'"
     },
     "metadata": {},
     "output_type": "display_data"
    },
    {
     "data": {
      "text/plain": "'Progression dans les echantillons : 66%'"
     },
     "metadata": {},
     "output_type": "display_data"
    },
    {
     "data": {
      "text/plain": "'Progression dans les echantillons : 100%'"
     },
     "metadata": {},
     "output_type": "display_data"
    },
    {
     "name": "stdout",
     "output_type": "stream",
     "text": [
      "Writing 'log' (str) to file './results/logs.txt'.\n",
      "L'execution avec un pourcentage de 65% a dure 2.1776657777777775s et a obtenu un score de 0.05153210381968552\n"
     ]
    },
    {
     "data": {
      "text/plain": "'Progression dans les echantillons : 5%'"
     },
     "metadata": {},
     "output_type": "display_data"
    },
    {
     "data": {
      "text/plain": "'Progression dans les echantillons : 11%'"
     },
     "metadata": {},
     "output_type": "display_data"
    },
    {
     "data": {
      "text/plain": "'Progression dans les echantillons : 16%'"
     },
     "metadata": {},
     "output_type": "display_data"
    },
    {
     "data": {
      "text/plain": "'Progression dans les echantillons : 50%'"
     },
     "metadata": {},
     "output_type": "display_data"
    },
    {
     "data": {
      "text/plain": "'Progression dans les echantillons : 55%'"
     },
     "metadata": {},
     "output_type": "display_data"
    },
    {
     "data": {
      "text/plain": "'Progression dans les echantillons : 61%'"
     },
     "metadata": {},
     "output_type": "display_data"
    },
    {
     "data": {
      "text/plain": "'Progression dans les echantillons : 66%'"
     },
     "metadata": {},
     "output_type": "display_data"
    },
    {
     "data": {
      "text/plain": "'Progression dans les echantillons : 100%'"
     },
     "metadata": {},
     "output_type": "display_data"
    },
    {
     "name": "stdout",
     "output_type": "stream",
     "text": [
      "Writing 'log' (str) to file './results/logs.txt'.\n",
      "L'execution avec un pourcentage de 70% a dure 2.1653807222222223s et a obtenu un score de 0.03762635999478105\n"
     ]
    },
    {
     "data": {
      "text/plain": "'Progression dans les echantillons : 5%'"
     },
     "metadata": {},
     "output_type": "display_data"
    },
    {
     "data": {
      "text/plain": "'Progression dans les echantillons : 11%'"
     },
     "metadata": {},
     "output_type": "display_data"
    },
    {
     "data": {
      "text/plain": "'Progression dans les echantillons : 16%'"
     },
     "metadata": {},
     "output_type": "display_data"
    },
    {
     "data": {
      "text/plain": "'Progression dans les echantillons : 50%'"
     },
     "metadata": {},
     "output_type": "display_data"
    },
    {
     "data": {
      "text/plain": "'Progression dans les echantillons : 55%'"
     },
     "metadata": {},
     "output_type": "display_data"
    },
    {
     "data": {
      "text/plain": "'Progression dans les echantillons : 61%'"
     },
     "metadata": {},
     "output_type": "display_data"
    },
    {
     "data": {
      "text/plain": "'Progression dans les echantillons : 66%'"
     },
     "metadata": {},
     "output_type": "display_data"
    },
    {
     "data": {
      "text/plain": "'Progression dans les echantillons : 100%'"
     },
     "metadata": {},
     "output_type": "display_data"
    },
    {
     "name": "stdout",
     "output_type": "stream",
     "text": [
      "Writing 'log' (str) to file './results/logs.txt'.\n",
      "L'execution avec un pourcentage de 75% a dure 2.173252277777778s et a obtenu un score de 0.022922178130511464\n",
      "\n",
      "Progression : 78%\n",
      "\n"
     ]
    },
    {
     "data": {
      "text/plain": "'Progression dans les echantillons : 5%'"
     },
     "metadata": {},
     "output_type": "display_data"
    },
    {
     "data": {
      "text/plain": "'Progression dans les echantillons : 11%'"
     },
     "metadata": {},
     "output_type": "display_data"
    },
    {
     "data": {
      "text/plain": "'Progression dans les echantillons : 16%'"
     },
     "metadata": {},
     "output_type": "display_data"
    },
    {
     "data": {
      "text/plain": "'Progression dans les echantillons : 50%'"
     },
     "metadata": {},
     "output_type": "display_data"
    },
    {
     "data": {
      "text/plain": "'Progression dans les echantillons : 55%'"
     },
     "metadata": {},
     "output_type": "display_data"
    },
    {
     "data": {
      "text/plain": "'Progression dans les echantillons : 61%'"
     },
     "metadata": {},
     "output_type": "display_data"
    },
    {
     "data": {
      "text/plain": "'Progression dans les echantillons : 66%'"
     },
     "metadata": {},
     "output_type": "display_data"
    },
    {
     "data": {
      "text/plain": "'Progression dans les echantillons : 100%'"
     },
     "metadata": {},
     "output_type": "display_data"
    },
    {
     "name": "stdout",
     "output_type": "stream",
     "text": [
      "Writing 'log' (str) to file './results/logs.txt'.\n",
      "L'execution avec un pourcentage de 80% a dure 2.1682507777777777s et a obtenu un score de 0.01641972331627504\n"
     ]
    },
    {
     "data": {
      "text/plain": "'Progression dans les echantillons : 5%'"
     },
     "metadata": {},
     "output_type": "display_data"
    },
    {
     "data": {
      "text/plain": "'Progression dans les echantillons : 11%'"
     },
     "metadata": {},
     "output_type": "display_data"
    },
    {
     "data": {
      "text/plain": "'Progression dans les echantillons : 16%'"
     },
     "metadata": {},
     "output_type": "display_data"
    },
    {
     "data": {
      "text/plain": "'Progression dans les echantillons : 50%'"
     },
     "metadata": {},
     "output_type": "display_data"
    },
    {
     "data": {
      "text/plain": "'Progression dans les echantillons : 55%'"
     },
     "metadata": {},
     "output_type": "display_data"
    },
    {
     "data": {
      "text/plain": "'Progression dans les echantillons : 61%'"
     },
     "metadata": {},
     "output_type": "display_data"
    },
    {
     "data": {
      "text/plain": "'Progression dans les echantillons : 66%'"
     },
     "metadata": {},
     "output_type": "display_data"
    },
    {
     "data": {
      "text/plain": "'Progression dans les echantillons : 100%'"
     },
     "metadata": {},
     "output_type": "display_data"
    },
    {
     "name": "stdout",
     "output_type": "stream",
     "text": [
      "Writing 'log' (str) to file './results/logs.txt'.\n",
      "L'execution avec un pourcentage de 85% a dure 2.184973888888889s et a obtenu un score de 0.008275862068965516\n"
     ]
    },
    {
     "data": {
      "text/plain": "'Progression dans les echantillons : 5%'"
     },
     "metadata": {},
     "output_type": "display_data"
    },
    {
     "data": {
      "text/plain": "'Progression dans les echantillons : 11%'"
     },
     "metadata": {},
     "output_type": "display_data"
    },
    {
     "data": {
      "text/plain": "'Progression dans les echantillons : 16%'"
     },
     "metadata": {},
     "output_type": "display_data"
    },
    {
     "data": {
      "text/plain": "'Progression dans les echantillons : 50%'"
     },
     "metadata": {},
     "output_type": "display_data"
    },
    {
     "data": {
      "text/plain": "'Progression dans les echantillons : 55%'"
     },
     "metadata": {},
     "output_type": "display_data"
    },
    {
     "data": {
      "text/plain": "'Progression dans les echantillons : 61%'"
     },
     "metadata": {},
     "output_type": "display_data"
    },
    {
     "data": {
      "text/plain": "'Progression dans les echantillons : 66%'"
     },
     "metadata": {},
     "output_type": "display_data"
    },
    {
     "data": {
      "text/plain": "'Progression dans les echantillons : 100%'"
     },
     "metadata": {},
     "output_type": "display_data"
    },
    {
     "name": "stdout",
     "output_type": "stream",
     "text": [
      "Writing 'log' (str) to file './results/logs.txt'.\n",
      "L'execution avec un pourcentage de 90% a dure 2.1964583333333336s et a obtenu un score de 0.0035842293906810036\n"
     ]
    },
    {
     "data": {
      "text/plain": "'Progression dans les echantillons : 5%'"
     },
     "metadata": {},
     "output_type": "display_data"
    },
    {
     "data": {
      "text/plain": "'Progression dans les echantillons : 11%'"
     },
     "metadata": {},
     "output_type": "display_data"
    },
    {
     "data": {
      "text/plain": "'Progression dans les echantillons : 16%'"
     },
     "metadata": {},
     "output_type": "display_data"
    },
    {
     "data": {
      "text/plain": "'Progression dans les echantillons : 50%'"
     },
     "metadata": {},
     "output_type": "display_data"
    },
    {
     "data": {
      "text/plain": "'Progression dans les echantillons : 55%'"
     },
     "metadata": {},
     "output_type": "display_data"
    },
    {
     "data": {
      "text/plain": "'Progression dans les echantillons : 61%'"
     },
     "metadata": {},
     "output_type": "display_data"
    },
    {
     "data": {
      "text/plain": "'Progression dans les echantillons : 66%'"
     },
     "metadata": {},
     "output_type": "display_data"
    },
    {
     "data": {
      "text/plain": "'Progression dans les echantillons : 100%'"
     },
     "metadata": {},
     "output_type": "display_data"
    },
    {
     "name": "stdout",
     "output_type": "stream",
     "text": [
      "Writing 'log' (str) to file './results/logs.txt'.\n",
      "L'execution avec un pourcentage de 95% a dure 2.1807414444444446s et a obtenu un score de 0.001851851851851852\n",
      "\n",
      "Progression : 100%\n",
      "\n"
     ]
    }
   ],
   "source": [
    "start,stop,step = 5,100,5\n",
    "timers = [ 0.0 for percentage in range(start,stop,step) ]\n",
    "efficiencies = [ 1.0 for percentage in range(start,stop,step) ]\n",
    "standard_deviation = [ 0.0 for percentage in range(start,stop,step) ]\n",
    "\n",
    "for percentage in range(start,stop,step):\n",
    "    # Pour cacher la 'Progression dans les echantillons' il faut mettre display=True\n",
    "    with io.capture_output(display=False) as outputCaptured:\n",
    "        %run analysis.ipynb\n",
    "    log = \"<\"+str(startTime_model)+\">\\n\"+outputCaptured.stdout+\"\\n</\"+str(endTime_model)+\">\\n\"\n",
    "    %store log >>./results/logs.txt\n",
    "\n",
    "    lists_iterator = int((percentage-start)/step)\n",
    "    efficiencies[lists_iterator] = model_efficiency\n",
    "    timers[lists_iterator] = (endTime_model - startTime_model).total_seconds()/dataSize\n",
    "    standard_deviation[lists_iterator] = np.std(efficiency_samples)\n",
    "    print(f\"L'execution avec un pourcentage de {percentage}% a dure {timers[lists_iterator]}s et a obtenu un score de {model_efficiency}\")\n",
    "\n",
    "    progression = int( (percentage-start+step)/(stop-start) *100 )\n",
    "    if progression % ((stop-start)/step) <= 5:\n",
    "        print(f\"\\nProgression : {progression}%\\n\")"
   ],
   "metadata": {
    "collapsed": false,
    "pycharm": {
     "name": "#%%\n"
    }
   }
  },
  {
   "cell_type": "markdown",
   "source": [
    "# Etude des données"
   ],
   "metadata": {
    "collapsed": false,
    "pycharm": {
     "name": "#%% md\n"
    }
   }
  },
  {
   "cell_type": "code",
   "execution_count": 10,
   "outputs": [],
   "source": [
    "%matplotlib inline\n",
    "import matplotlib.pyplot as plt\n",
    "plt.style.use('seaborn-whitegrid')"
   ],
   "metadata": {
    "collapsed": false,
    "pycharm": {
     "name": "#%%\n"
    }
   }
  },
  {
   "cell_type": "code",
   "execution_count": 11,
   "outputs": [
    {
     "name": "stdout",
     "output_type": "stream",
     "text": [
      "[2.1702175, 2.203771833333333, 2.1906029444444446, 2.1770249444444447, 2.1892570555555557, 2.190363722222222, 2.179107, 2.1990067777777775, 2.1671526111111112, 2.183078777777778, 2.189706388888889, 2.1708314444444445, 2.1776657777777775, 2.1653807222222223, 2.173252277777778, 2.1682507777777777, 2.184973888888889, 2.1964583333333336, 2.1807414444444446]\n",
      "2.1653807222222223 2.203771833333333\n",
      "2.181939169590643\n",
      "[0.3888888888888889, 0.46495535714285713, 0.3226890756302522, 0.37824397824397826, 0.3393518518518519, 0.22666475681181564, 0.22166953416953417, 0.12044252044252045, 0.12455776340580263, 0.09924270576444488, 0.09910809778456836, 0.0516790425757817, 0.05153210381968552, 0.03762635999478105, 0.022922178130511464, 0.01641972331627504, 0.008275862068965516, 0.0035842293906810036, 0.001851851851851852]\n",
      "0.001851851851851852 0.46495535714285713\n",
      "0.156826625330792\n"
     ]
    }
   ],
   "source": [
    "#debut : 21:36:43\n",
    "#50% : 22:01:15 -> temps ecoule : 24:33\n",
    "#fin : 22:19:30 -> temps ecoule : 42:47\n",
    "print(timers)\n",
    "print(min(timers),max(timers))\n",
    "print(sum(timers)/len(timers))\n",
    "print(efficiencies)\n",
    "print(min(efficiencies),max(efficiencies))\n",
    "print(sum(efficiencies)/len(efficiencies))"
   ],
   "metadata": {
    "collapsed": false,
    "pycharm": {
     "name": "#%%\n"
    }
   }
  },
  {
   "cell_type": "code",
   "execution_count": 12,
   "outputs": [
    {
     "data": {
      "text/plain": "<Figure size 432x288 with 1 Axes>",
      "image/png": "[encoded data removed]"
     },
     "metadata": {},
     "output_type": "display_data"
    },
    {
     "data": {
      "text/plain": "<Figure size 432x288 with 1 Axes>",
      "image/png": "[encoded data removed]"
     },
     "metadata": {},
     "output_type": "display_data"
    },
    {
     "data": {
      "text/plain": "<Figure size 432x288 with 1 Axes>",
      "image/png": "[encoded data removed]"
     },
     "metadata": {},
     "output_type": "display_data"
    }
   ],
   "source": [
    "# Pourcentage de réussite\n",
    "percentages = [i for i in range(start,stop,step)]\n",
    "plt.title(\"Succeed percentages\")\n",
    "plt.xlabel(\"Percentages of masked words\")\n",
    "plt.ylabel(\"Efficiencies\")\n",
    "plt.plot(percentages, efficiencies)\n",
    "plt.show()\n",
    "\n",
    "# Temps d'exécution\n",
    "plt.title(\"Average execution time per sentences\")\n",
    "plt.xlabel(\"Percentages of masked words\")\n",
    "plt.ylabel(\"Time (s)\")\n",
    "plt.plot(percentages, timers)\n",
    "plt.show()\n",
    "\n",
    "# Ecarts types\n",
    "plt.title(\"Standard deviation of efficiency samples\")\n",
    "plt.xlabel(\"Percentages of masked words\")\n",
    "plt.ylabel(\"Standard deviation\")\n",
    "plt.plot(percentages, standard_deviation)\n",
    "plt.show()"
   ],
   "metadata": {
    "collapsed": false,
    "pycharm": {
     "name": "#%%\n"
    }
   }
  }
 ],
 "metadata": {
  "kernelspec": {
   "display_name": "Python 3",
   "language": "python",
   "name": "python3"
  },
  "language_info": {
   "codemirror_mode": {
    "name": "ipython",
    "version": 2
   },
   "file_extension": ".py",
   "mimetype": "text/x-python",
   "name": "python",
   "nbconvert_exporter": "python",
   "pygments_lexer": "ipython2",
   "version": "2.7.6"
  }
 },
 "nbformat": 4,
 "nbformat_minor": 0
}