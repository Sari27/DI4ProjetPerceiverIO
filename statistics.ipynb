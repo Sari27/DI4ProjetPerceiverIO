{
 "cells": [
  {
   "cell_type": "markdown",
   "source": [
    "# Acquisition des données"
   ],
   "metadata": {
    "collapsed": false,
    "pycharm": {
     "name": "#%% md\n"
    }
   }
  },
  {
   "cell_type": "code",
   "execution_count": 8,
   "metadata": {
    "collapsed": true
   },
   "outputs": [],
   "source": [
    "import datetime as dt\n",
    "from IPython.utils import io\n",
    "# Pickle est un module permettant la (dé)sérialisation\n",
    "import pickle\n",
    "import numpy as np"
   ]
  },
  {
   "cell_type": "code",
   "execution_count": 9,
   "outputs": [
    {
     "name": "stdout",
     "output_type": "stream",
     "text": [
      "Les hyperparametres ont ete charges.\n"
     ]
    }
   ],
   "source": [
    "# On deserialise les valeurs des hyperparametres du modele.\n",
    "\n",
    "try: params\n",
    "except NameError:\n",
    "    try:\n",
    "        print(\"Chargement des hyperparametres...\")\n",
    "        with open(\"./data/language_perceiver_io_bytes.pickle\", \"rb\") as f:\n",
    "            params = pickle.loads(f.read())\n",
    "    except (FileNotFoundError, pickle.UnpicklingError):\n",
    "        print(\"Aucun trouves. Telechargement des hyperparametres.\")\n",
    "        !wget -O ./data/language_perceiver_io_bytes.pickle \\\n",
    "                https://storage.googleapis.com/perceiver_io/language_perceiver_io_bytes.pickle\n",
    "\n",
    "assert type(params).__name__ == 'FlatMapping'\n",
    "print(\"Les hyperparametres ont ete charges.\")"
   ],
   "metadata": {
    "collapsed": false,
    "pycharm": {
     "name": "#%%\n"
    }
   }
  },
  {
   "cell_type": "code",
   "execution_count": 10,
   "outputs": [
    {
     "data": {
      "text/plain": "'Progression dans les echantillons : 1%'"
     },
     "metadata": {},
     "output_type": "display_data"
    },
    {
     "data": {
      "text/plain": "'Progression dans les echantillons : 5%'"
     },
     "metadata": {},
     "output_type": "display_data"
    },
    {
     "data": {
      "text/plain": "'Progression dans les echantillons : 11%'"
     },
     "metadata": {},
     "output_type": "display_data"
    },
    {
     "data": {
      "text/plain": "'Progression dans les echantillons : 16%'"
     },
     "metadata": {},
     "output_type": "display_data"
    },
    {
     "data": {
      "text/plain": "'Progression dans les echantillons : 20%'"
     },
     "metadata": {},
     "output_type": "display_data"
    },
    {
     "data": {
      "text/plain": "'Progression dans les echantillons : 25%'"
     },
     "metadata": {},
     "output_type": "display_data"
    },
    {
     "data": {
      "text/plain": "'Progression dans les echantillons : 31%'"
     },
     "metadata": {},
     "output_type": "display_data"
    },
    {
     "data": {
      "text/plain": "'Progression dans les echantillons : 35%'"
     },
     "metadata": {},
     "output_type": "display_data"
    },
    {
     "data": {
      "text/plain": "'Progression dans les echantillons : 40%'"
     },
     "metadata": {},
     "output_type": "display_data"
    },
    {
     "data": {
      "text/plain": "'Progression dans les echantillons : 46%'"
     },
     "metadata": {},
     "output_type": "display_data"
    },
    {
     "data": {
      "text/plain": "'Progression dans les echantillons : 50%'"
     },
     "metadata": {},
     "output_type": "display_data"
    },
    {
     "data": {
      "text/plain": "'Progression dans les echantillons : 51%'"
     },
     "metadata": {},
     "output_type": "display_data"
    },
    {
     "data": {
      "text/plain": "'Progression dans les echantillons : 55%'"
     },
     "metadata": {},
     "output_type": "display_data"
    },
    {
     "data": {
      "text/plain": "'Progression dans les echantillons : 61%'"
     },
     "metadata": {},
     "output_type": "display_data"
    },
    {
     "data": {
      "text/plain": "'Progression dans les echantillons : 66%'"
     },
     "metadata": {},
     "output_type": "display_data"
    },
    {
     "data": {
      "text/plain": "'Progression dans les echantillons : 70%'"
     },
     "metadata": {},
     "output_type": "display_data"
    },
    {
     "data": {
      "text/plain": "'Progression dans les echantillons : 75%'"
     },
     "metadata": {},
     "output_type": "display_data"
    },
    {
     "data": {
      "text/plain": "'Progression dans les echantillons : 81%'"
     },
     "metadata": {},
     "output_type": "display_data"
    },
    {
     "data": {
      "text/plain": "'Progression dans les echantillons : 85%'"
     },
     "metadata": {},
     "output_type": "display_data"
    },
    {
     "data": {
      "text/plain": "'Progression dans les echantillons : 90%'"
     },
     "metadata": {},
     "output_type": "display_data"
    },
    {
     "data": {
      "text/plain": "'Progression dans les echantillons : 96%'"
     },
     "metadata": {},
     "output_type": "display_data"
    },
    {
     "data": {
      "text/plain": "'Progression dans les echantillons : 100%'"
     },
     "metadata": {},
     "output_type": "display_data"
    },
    {
     "name": "stdout",
     "output_type": "stream",
     "text": [
      "Writing 'log' (str) to file './results/logs.txt'.\n",
      "L'execution avec un pourcentage de 5% a dure 2.0570782407407404s et a obtenu un score de 0.4552083333333333\n",
      "\n",
      "Progression : 5%\n",
      "\n"
     ]
    },
    {
     "data": {
      "text/plain": "'Progression dans les echantillons : 1%'"
     },
     "metadata": {},
     "output_type": "display_data"
    },
    {
     "data": {
      "text/plain": "'Progression dans les echantillons : 5%'"
     },
     "metadata": {},
     "output_type": "display_data"
    },
    {
     "data": {
      "text/plain": "'Progression dans les echantillons : 11%'"
     },
     "metadata": {},
     "output_type": "display_data"
    },
    {
     "data": {
      "text/plain": "'Progression dans les echantillons : 16%'"
     },
     "metadata": {},
     "output_type": "display_data"
    },
    {
     "data": {
      "text/plain": "'Progression dans les echantillons : 20%'"
     },
     "metadata": {},
     "output_type": "display_data"
    },
    {
     "data": {
      "text/plain": "'Progression dans les echantillons : 25%'"
     },
     "metadata": {},
     "output_type": "display_data"
    },
    {
     "data": {
      "text/plain": "'Progression dans les echantillons : 31%'"
     },
     "metadata": {},
     "output_type": "display_data"
    },
    {
     "data": {
      "text/plain": "'Progression dans les echantillons : 35%'"
     },
     "metadata": {},
     "output_type": "display_data"
    },
    {
     "data": {
      "text/plain": "'Progression dans les echantillons : 40%'"
     },
     "metadata": {},
     "output_type": "display_data"
    },
    {
     "data": {
      "text/plain": "'Progression dans les echantillons : 46%'"
     },
     "metadata": {},
     "output_type": "display_data"
    },
    {
     "data": {
      "text/plain": "'Progression dans les echantillons : 50%'"
     },
     "metadata": {},
     "output_type": "display_data"
    },
    {
     "data": {
      "text/plain": "'Progression dans les echantillons : 51%'"
     },
     "metadata": {},
     "output_type": "display_data"
    },
    {
     "data": {
      "text/plain": "'Progression dans les echantillons : 55%'"
     },
     "metadata": {},
     "output_type": "display_data"
    },
    {
     "data": {
      "text/plain": "'Progression dans les echantillons : 61%'"
     },
     "metadata": {},
     "output_type": "display_data"
    },
    {
     "data": {
      "text/plain": "'Progression dans les echantillons : 66%'"
     },
     "metadata": {},
     "output_type": "display_data"
    },
    {
     "data": {
      "text/plain": "'Progression dans les echantillons : 70%'"
     },
     "metadata": {},
     "output_type": "display_data"
    },
    {
     "data": {
      "text/plain": "'Progression dans les echantillons : 75%'"
     },
     "metadata": {},
     "output_type": "display_data"
    },
    {
     "data": {
      "text/plain": "'Progression dans les echantillons : 81%'"
     },
     "metadata": {},
     "output_type": "display_data"
    },
    {
     "data": {
      "text/plain": "'Progression dans les echantillons : 85%'"
     },
     "metadata": {},
     "output_type": "display_data"
    },
    {
     "data": {
      "text/plain": "'Progression dans les echantillons : 90%'"
     },
     "metadata": {},
     "output_type": "display_data"
    },
    {
     "data": {
      "text/plain": "'Progression dans les echantillons : 96%'"
     },
     "metadata": {},
     "output_type": "display_data"
    },
    {
     "data": {
      "text/plain": "'Progression dans les echantillons : 100%'"
     },
     "metadata": {},
     "output_type": "display_data"
    },
    {
     "name": "stdout",
     "output_type": "stream",
     "text": [
      "Writing 'log' (str) to file './results/logs.txt'.\n",
      "L'execution avec un pourcentage de 10% a dure 2.106454851851852s et a obtenu un score de 0.4584010840108401\n"
     ]
    },
    {
     "data": {
      "text/plain": "'Progression dans les echantillons : 1%'"
     },
     "metadata": {},
     "output_type": "display_data"
    },
    {
     "data": {
      "text/plain": "'Progression dans les echantillons : 5%'"
     },
     "metadata": {},
     "output_type": "display_data"
    },
    {
     "data": {
      "text/plain": "'Progression dans les echantillons : 11%'"
     },
     "metadata": {},
     "output_type": "display_data"
    },
    {
     "data": {
      "text/plain": "'Progression dans les echantillons : 16%'"
     },
     "metadata": {},
     "output_type": "display_data"
    },
    {
     "data": {
      "text/plain": "'Progression dans les echantillons : 20%'"
     },
     "metadata": {},
     "output_type": "display_data"
    },
    {
     "data": {
      "text/plain": "'Progression dans les echantillons : 25%'"
     },
     "metadata": {},
     "output_type": "display_data"
    },
    {
     "data": {
      "text/plain": "'Progression dans les echantillons : 31%'"
     },
     "metadata": {},
     "output_type": "display_data"
    },
    {
     "data": {
      "text/plain": "'Progression dans les echantillons : 35%'"
     },
     "metadata": {},
     "output_type": "display_data"
    },
    {
     "data": {
      "text/plain": "'Progression dans les echantillons : 40%'"
     },
     "metadata": {},
     "output_type": "display_data"
    },
    {
     "data": {
      "text/plain": "'Progression dans les echantillons : 46%'"
     },
     "metadata": {},
     "output_type": "display_data"
    },
    {
     "data": {
      "text/plain": "'Progression dans les echantillons : 50%'"
     },
     "metadata": {},
     "output_type": "display_data"
    },
    {
     "data": {
      "text/plain": "'Progression dans les echantillons : 51%'"
     },
     "metadata": {},
     "output_type": "display_data"
    },
    {
     "data": {
      "text/plain": "'Progression dans les echantillons : 55%'"
     },
     "metadata": {},
     "output_type": "display_data"
    },
    {
     "data": {
      "text/plain": "'Progression dans les echantillons : 61%'"
     },
     "metadata": {},
     "output_type": "display_data"
    },
    {
     "data": {
      "text/plain": "'Progression dans les echantillons : 66%'"
     },
     "metadata": {},
     "output_type": "display_data"
    },
    {
     "data": {
      "text/plain": "'Progression dans les echantillons : 70%'"
     },
     "metadata": {},
     "output_type": "display_data"
    },
    {
     "data": {
      "text/plain": "'Progression dans les echantillons : 75%'"
     },
     "metadata": {},
     "output_type": "display_data"
    },
    {
     "data": {
      "text/plain": "'Progression dans les echantillons : 81%'"
     },
     "metadata": {},
     "output_type": "display_data"
    },
    {
     "data": {
      "text/plain": "'Progression dans les echantillons : 85%'"
     },
     "metadata": {},
     "output_type": "display_data"
    },
    {
     "data": {
      "text/plain": "'Progression dans les echantillons : 90%'"
     },
     "metadata": {},
     "output_type": "display_data"
    },
    {
     "data": {
      "text/plain": "'Progression dans les echantillons : 96%'"
     },
     "metadata": {},
     "output_type": "display_data"
    },
    {
     "data": {
      "text/plain": "'Progression dans les echantillons : 100%'"
     },
     "metadata": {},
     "output_type": "display_data"
    },
    {
     "name": "stdout",
     "output_type": "stream",
     "text": [
      "Writing 'log' (str) to file './results/logs.txt'.\n",
      "L'execution avec un pourcentage de 15% a dure 2.103251074074074s et a obtenu un score de 0.4673611111111111\n"
     ]
    },
    {
     "data": {
      "text/plain": "'Progression dans les echantillons : 1%'"
     },
     "metadata": {},
     "output_type": "display_data"
    },
    {
     "data": {
      "text/plain": "'Progression dans les echantillons : 5%'"
     },
     "metadata": {},
     "output_type": "display_data"
    },
    {
     "data": {
      "text/plain": "'Progression dans les echantillons : 11%'"
     },
     "metadata": {},
     "output_type": "display_data"
    },
    {
     "data": {
      "text/plain": "'Progression dans les echantillons : 16%'"
     },
     "metadata": {},
     "output_type": "display_data"
    },
    {
     "data": {
      "text/plain": "'Progression dans les echantillons : 20%'"
     },
     "metadata": {},
     "output_type": "display_data"
    },
    {
     "data": {
      "text/plain": "'Progression dans les echantillons : 25%'"
     },
     "metadata": {},
     "output_type": "display_data"
    },
    {
     "data": {
      "text/plain": "'Progression dans les echantillons : 31%'"
     },
     "metadata": {},
     "output_type": "display_data"
    },
    {
     "data": {
      "text/plain": "'Progression dans les echantillons : 35%'"
     },
     "metadata": {},
     "output_type": "display_data"
    },
    {
     "data": {
      "text/plain": "'Progression dans les echantillons : 40%'"
     },
     "metadata": {},
     "output_type": "display_data"
    },
    {
     "data": {
      "text/plain": "'Progression dans les echantillons : 46%'"
     },
     "metadata": {},
     "output_type": "display_data"
    },
    {
     "data": {
      "text/plain": "'Progression dans les echantillons : 50%'"
     },
     "metadata": {},
     "output_type": "display_data"
    },
    {
     "data": {
      "text/plain": "'Progression dans les echantillons : 51%'"
     },
     "metadata": {},
     "output_type": "display_data"
    },
    {
     "data": {
      "text/plain": "'Progression dans les echantillons : 55%'"
     },
     "metadata": {},
     "output_type": "display_data"
    },
    {
     "data": {
      "text/plain": "'Progression dans les echantillons : 61%'"
     },
     "metadata": {},
     "output_type": "display_data"
    },
    {
     "data": {
      "text/plain": "'Progression dans les echantillons : 66%'"
     },
     "metadata": {},
     "output_type": "display_data"
    },
    {
     "data": {
      "text/plain": "'Progression dans les echantillons : 70%'"
     },
     "metadata": {},
     "output_type": "display_data"
    },
    {
     "data": {
      "text/plain": "'Progression dans les echantillons : 75%'"
     },
     "metadata": {},
     "output_type": "display_data"
    },
    {
     "data": {
      "text/plain": "'Progression dans les echantillons : 81%'"
     },
     "metadata": {},
     "output_type": "display_data"
    },
    {
     "data": {
      "text/plain": "'Progression dans les echantillons : 85%'"
     },
     "metadata": {},
     "output_type": "display_data"
    },
    {
     "data": {
      "text/plain": "'Progression dans les echantillons : 90%'"
     },
     "metadata": {},
     "output_type": "display_data"
    },
    {
     "data": {
      "text/plain": "'Progression dans les echantillons : 96%'"
     },
     "metadata": {},
     "output_type": "display_data"
    },
    {
     "data": {
      "text/plain": "'Progression dans les echantillons : 100%'"
     },
     "metadata": {},
     "output_type": "display_data"
    },
    {
     "name": "stdout",
     "output_type": "stream",
     "text": [
      "Writing 'log' (str) to file './results/logs.txt'.\n",
      "L'execution avec un pourcentage de 20% a dure 2.102091074074074s et a obtenu un score de 0.3019841269841271\n",
      "\n",
      "Progression : 21%\n",
      "\n"
     ]
    },
    {
     "data": {
      "text/plain": "'Progression dans les echantillons : 1%'"
     },
     "metadata": {},
     "output_type": "display_data"
    },
    {
     "data": {
      "text/plain": "'Progression dans les echantillons : 5%'"
     },
     "metadata": {},
     "output_type": "display_data"
    },
    {
     "data": {
      "text/plain": "'Progression dans les echantillons : 11%'"
     },
     "metadata": {},
     "output_type": "display_data"
    },
    {
     "data": {
      "text/plain": "'Progression dans les echantillons : 16%'"
     },
     "metadata": {},
     "output_type": "display_data"
    },
    {
     "data": {
      "text/plain": "'Progression dans les echantillons : 20%'"
     },
     "metadata": {},
     "output_type": "display_data"
    },
    {
     "data": {
      "text/plain": "'Progression dans les echantillons : 25%'"
     },
     "metadata": {},
     "output_type": "display_data"
    },
    {
     "data": {
      "text/plain": "'Progression dans les echantillons : 31%'"
     },
     "metadata": {},
     "output_type": "display_data"
    },
    {
     "data": {
      "text/plain": "'Progression dans les echantillons : 35%'"
     },
     "metadata": {},
     "output_type": "display_data"
    },
    {
     "data": {
      "text/plain": "'Progression dans les echantillons : 40%'"
     },
     "metadata": {},
     "output_type": "display_data"
    },
    {
     "data": {
      "text/plain": "'Progression dans les echantillons : 46%'"
     },
     "metadata": {},
     "output_type": "display_data"
    },
    {
     "data": {
      "text/plain": "'Progression dans les echantillons : 50%'"
     },
     "metadata": {},
     "output_type": "display_data"
    },
    {
     "data": {
      "text/plain": "'Progression dans les echantillons : 51%'"
     },
     "metadata": {},
     "output_type": "display_data"
    },
    {
     "data": {
      "text/plain": "'Progression dans les echantillons : 55%'"
     },
     "metadata": {},
     "output_type": "display_data"
    },
    {
     "data": {
      "text/plain": "'Progression dans les echantillons : 61%'"
     },
     "metadata": {},
     "output_type": "display_data"
    },
    {
     "data": {
      "text/plain": "'Progression dans les echantillons : 66%'"
     },
     "metadata": {},
     "output_type": "display_data"
    },
    {
     "data": {
      "text/plain": "'Progression dans les echantillons : 70%'"
     },
     "metadata": {},
     "output_type": "display_data"
    },
    {
     "data": {
      "text/plain": "'Progression dans les echantillons : 75%'"
     },
     "metadata": {},
     "output_type": "display_data"
    },
    {
     "data": {
      "text/plain": "'Progression dans les echantillons : 81%'"
     },
     "metadata": {},
     "output_type": "display_data"
    },
    {
     "data": {
      "text/plain": "'Progression dans les echantillons : 85%'"
     },
     "metadata": {},
     "output_type": "display_data"
    },
    {
     "data": {
      "text/plain": "'Progression dans les echantillons : 90%'"
     },
     "metadata": {},
     "output_type": "display_data"
    },
    {
     "data": {
      "text/plain": "'Progression dans les echantillons : 96%'"
     },
     "metadata": {},
     "output_type": "display_data"
    },
    {
     "data": {
      "text/plain": "'Progression dans les echantillons : 100%'"
     },
     "metadata": {},
     "output_type": "display_data"
    },
    {
     "name": "stdout",
     "output_type": "stream",
     "text": [
      "Writing 'log' (str) to file './results/logs.txt'.\n",
      "L'execution avec un pourcentage de 25% a dure 2.1066859814814816s et a obtenu un score de 0.39166233766233755\n"
     ]
    },
    {
     "data": {
      "text/plain": "'Progression dans les echantillons : 1%'"
     },
     "metadata": {},
     "output_type": "display_data"
    },
    {
     "data": {
      "text/plain": "'Progression dans les echantillons : 5%'"
     },
     "metadata": {},
     "output_type": "display_data"
    },
    {
     "data": {
      "text/plain": "'Progression dans les echantillons : 11%'"
     },
     "metadata": {},
     "output_type": "display_data"
    },
    {
     "data": {
      "text/plain": "'Progression dans les echantillons : 16%'"
     },
     "metadata": {},
     "output_type": "display_data"
    },
    {
     "data": {
      "text/plain": "'Progression dans les echantillons : 20%'"
     },
     "metadata": {},
     "output_type": "display_data"
    },
    {
     "data": {
      "text/plain": "'Progression dans les echantillons : 25%'"
     },
     "metadata": {},
     "output_type": "display_data"
    },
    {
     "data": {
      "text/plain": "'Progression dans les echantillons : 31%'"
     },
     "metadata": {},
     "output_type": "display_data"
    },
    {
     "data": {
      "text/plain": "'Progression dans les echantillons : 35%'"
     },
     "metadata": {},
     "output_type": "display_data"
    },
    {
     "data": {
      "text/plain": "'Progression dans les echantillons : 40%'"
     },
     "metadata": {},
     "output_type": "display_data"
    },
    {
     "data": {
      "text/plain": "'Progression dans les echantillons : 46%'"
     },
     "metadata": {},
     "output_type": "display_data"
    },
    {
     "data": {
      "text/plain": "'Progression dans les echantillons : 50%'"
     },
     "metadata": {},
     "output_type": "display_data"
    },
    {
     "data": {
      "text/plain": "'Progression dans les echantillons : 51%'"
     },
     "metadata": {},
     "output_type": "display_data"
    },
    {
     "data": {
      "text/plain": "'Progression dans les echantillons : 55%'"
     },
     "metadata": {},
     "output_type": "display_data"
    },
    {
     "data": {
      "text/plain": "'Progression dans les echantillons : 61%'"
     },
     "metadata": {},
     "output_type": "display_data"
    },
    {
     "data": {
      "text/plain": "'Progression dans les echantillons : 66%'"
     },
     "metadata": {},
     "output_type": "display_data"
    },
    {
     "data": {
      "text/plain": "'Progression dans les echantillons : 70%'"
     },
     "metadata": {},
     "output_type": "display_data"
    },
    {
     "data": {
      "text/plain": "'Progression dans les echantillons : 75%'"
     },
     "metadata": {},
     "output_type": "display_data"
    },
    {
     "data": {
      "text/plain": "'Progression dans les echantillons : 81%'"
     },
     "metadata": {},
     "output_type": "display_data"
    },
    {
     "data": {
      "text/plain": "'Progression dans les echantillons : 85%'"
     },
     "metadata": {},
     "output_type": "display_data"
    },
    {
     "data": {
      "text/plain": "'Progression dans les echantillons : 90%'"
     },
     "metadata": {},
     "output_type": "display_data"
    },
    {
     "data": {
      "text/plain": "'Progression dans les echantillons : 96%'"
     },
     "metadata": {},
     "output_type": "display_data"
    },
    {
     "data": {
      "text/plain": "'Progression dans les echantillons : 100%'"
     },
     "metadata": {},
     "output_type": "display_data"
    },
    {
     "name": "stdout",
     "output_type": "stream",
     "text": [
      "Writing 'log' (str) to file './results/logs.txt'.\n",
      "L'execution avec un pourcentage de 30% a dure 2.135555851851852s et a obtenu un score de 0.30253598294663775\n"
     ]
    },
    {
     "data": {
      "text/plain": "'Progression dans les echantillons : 1%'"
     },
     "metadata": {},
     "output_type": "display_data"
    },
    {
     "data": {
      "text/plain": "'Progression dans les echantillons : 5%'"
     },
     "metadata": {},
     "output_type": "display_data"
    },
    {
     "data": {
      "text/plain": "'Progression dans les echantillons : 11%'"
     },
     "metadata": {},
     "output_type": "display_data"
    },
    {
     "data": {
      "text/plain": "'Progression dans les echantillons : 16%'"
     },
     "metadata": {},
     "output_type": "display_data"
    },
    {
     "data": {
      "text/plain": "'Progression dans les echantillons : 20%'"
     },
     "metadata": {},
     "output_type": "display_data"
    },
    {
     "data": {
      "text/plain": "'Progression dans les echantillons : 25%'"
     },
     "metadata": {},
     "output_type": "display_data"
    },
    {
     "data": {
      "text/plain": "'Progression dans les echantillons : 31%'"
     },
     "metadata": {},
     "output_type": "display_data"
    },
    {
     "data": {
      "text/plain": "'Progression dans les echantillons : 35%'"
     },
     "metadata": {},
     "output_type": "display_data"
    },
    {
     "data": {
      "text/plain": "'Progression dans les echantillons : 40%'"
     },
     "metadata": {},
     "output_type": "display_data"
    },
    {
     "data": {
      "text/plain": "'Progression dans les echantillons : 46%'"
     },
     "metadata": {},
     "output_type": "display_data"
    },
    {
     "data": {
      "text/plain": "'Progression dans les echantillons : 50%'"
     },
     "metadata": {},
     "output_type": "display_data"
    },
    {
     "data": {
      "text/plain": "'Progression dans les echantillons : 51%'"
     },
     "metadata": {},
     "output_type": "display_data"
    },
    {
     "data": {
      "text/plain": "'Progression dans les echantillons : 55%'"
     },
     "metadata": {},
     "output_type": "display_data"
    },
    {
     "data": {
      "text/plain": "'Progression dans les echantillons : 61%'"
     },
     "metadata": {},
     "output_type": "display_data"
    },
    {
     "data": {
      "text/plain": "'Progression dans les echantillons : 66%'"
     },
     "metadata": {},
     "output_type": "display_data"
    },
    {
     "data": {
      "text/plain": "'Progression dans les echantillons : 70%'"
     },
     "metadata": {},
     "output_type": "display_data"
    },
    {
     "data": {
      "text/plain": "'Progression dans les echantillons : 75%'"
     },
     "metadata": {},
     "output_type": "display_data"
    },
    {
     "data": {
      "text/plain": "'Progression dans les echantillons : 81%'"
     },
     "metadata": {},
     "output_type": "display_data"
    },
    {
     "data": {
      "text/plain": "'Progression dans les echantillons : 85%'"
     },
     "metadata": {},
     "output_type": "display_data"
    },
    {
     "data": {
      "text/plain": "'Progression dans les echantillons : 90%'"
     },
     "metadata": {},
     "output_type": "display_data"
    },
    {
     "data": {
      "text/plain": "'Progression dans les echantillons : 96%'"
     },
     "metadata": {},
     "output_type": "display_data"
    },
    {
     "data": {
      "text/plain": "'Progression dans les echantillons : 100%'"
     },
     "metadata": {},
     "output_type": "display_data"
    },
    {
     "name": "stdout",
     "output_type": "stream",
     "text": [
      "Writing 'log' (str) to file './results/logs.txt'.\n",
      "L'execution avec un pourcentage de 35% a dure 2.1036371481481484s et a obtenu un score de 0.28925179758513087\n"
     ]
    },
    {
     "data": {
      "text/plain": "'Progression dans les echantillons : 1%'"
     },
     "metadata": {},
     "output_type": "display_data"
    },
    {
     "data": {
      "text/plain": "'Progression dans les echantillons : 5%'"
     },
     "metadata": {},
     "output_type": "display_data"
    },
    {
     "data": {
      "text/plain": "'Progression dans les echantillons : 11%'"
     },
     "metadata": {},
     "output_type": "display_data"
    },
    {
     "data": {
      "text/plain": "'Progression dans les echantillons : 16%'"
     },
     "metadata": {},
     "output_type": "display_data"
    },
    {
     "data": {
      "text/plain": "'Progression dans les echantillons : 20%'"
     },
     "metadata": {},
     "output_type": "display_data"
    },
    {
     "data": {
      "text/plain": "'Progression dans les echantillons : 25%'"
     },
     "metadata": {},
     "output_type": "display_data"
    },
    {
     "data": {
      "text/plain": "'Progression dans les echantillons : 31%'"
     },
     "metadata": {},
     "output_type": "display_data"
    },
    {
     "data": {
      "text/plain": "'Progression dans les echantillons : 35%'"
     },
     "metadata": {},
     "output_type": "display_data"
    },
    {
     "data": {
      "text/plain": "'Progression dans les echantillons : 40%'"
     },
     "metadata": {},
     "output_type": "display_data"
    },
    {
     "data": {
      "text/plain": "'Progression dans les echantillons : 46%'"
     },
     "metadata": {},
     "output_type": "display_data"
    },
    {
     "data": {
      "text/plain": "'Progression dans les echantillons : 50%'"
     },
     "metadata": {},
     "output_type": "display_data"
    },
    {
     "data": {
      "text/plain": "'Progression dans les echantillons : 51%'"
     },
     "metadata": {},
     "output_type": "display_data"
    },
    {
     "data": {
      "text/plain": "'Progression dans les echantillons : 55%'"
     },
     "metadata": {},
     "output_type": "display_data"
    },
    {
     "data": {
      "text/plain": "'Progression dans les echantillons : 61%'"
     },
     "metadata": {},
     "output_type": "display_data"
    },
    {
     "data": {
      "text/plain": "'Progression dans les echantillons : 66%'"
     },
     "metadata": {},
     "output_type": "display_data"
    },
    {
     "data": {
      "text/plain": "'Progression dans les echantillons : 70%'"
     },
     "metadata": {},
     "output_type": "display_data"
    },
    {
     "data": {
      "text/plain": "'Progression dans les echantillons : 75%'"
     },
     "metadata": {},
     "output_type": "display_data"
    },
    {
     "data": {
      "text/plain": "'Progression dans les echantillons : 81%'"
     },
     "metadata": {},
     "output_type": "display_data"
    },
    {
     "data": {
      "text/plain": "'Progression dans les echantillons : 85%'"
     },
     "metadata": {},
     "output_type": "display_data"
    },
    {
     "data": {
      "text/plain": "'Progression dans les echantillons : 90%'"
     },
     "metadata": {},
     "output_type": "display_data"
    },
    {
     "data": {
      "text/plain": "'Progression dans les echantillons : 96%'"
     },
     "metadata": {},
     "output_type": "display_data"
    },
    {
     "data": {
      "text/plain": "'Progression dans les echantillons : 100%'"
     },
     "metadata": {},
     "output_type": "display_data"
    },
    {
     "name": "stdout",
     "output_type": "stream",
     "text": [
      "Writing 'log' (str) to file './results/logs.txt'.\n",
      "L'execution avec un pourcentage de 40% a dure 2.082584388888889s et a obtenu un score de 0.1758033345860143\n",
      "\n",
      "Progression : 42%\n",
      "\n"
     ]
    },
    {
     "data": {
      "text/plain": "'Progression dans les echantillons : 1%'"
     },
     "metadata": {},
     "output_type": "display_data"
    },
    {
     "data": {
      "text/plain": "'Progression dans les echantillons : 5%'"
     },
     "metadata": {},
     "output_type": "display_data"
    },
    {
     "data": {
      "text/plain": "'Progression dans les echantillons : 11%'"
     },
     "metadata": {},
     "output_type": "display_data"
    },
    {
     "data": {
      "text/plain": "'Progression dans les echantillons : 16%'"
     },
     "metadata": {},
     "output_type": "display_data"
    },
    {
     "data": {
      "text/plain": "'Progression dans les echantillons : 20%'"
     },
     "metadata": {},
     "output_type": "display_data"
    },
    {
     "data": {
      "text/plain": "'Progression dans les echantillons : 25%'"
     },
     "metadata": {},
     "output_type": "display_data"
    },
    {
     "data": {
      "text/plain": "'Progression dans les echantillons : 31%'"
     },
     "metadata": {},
     "output_type": "display_data"
    },
    {
     "data": {
      "text/plain": "'Progression dans les echantillons : 35%'"
     },
     "metadata": {},
     "output_type": "display_data"
    },
    {
     "data": {
      "text/plain": "'Progression dans les echantillons : 40%'"
     },
     "metadata": {},
     "output_type": "display_data"
    },
    {
     "data": {
      "text/plain": "'Progression dans les echantillons : 46%'"
     },
     "metadata": {},
     "output_type": "display_data"
    },
    {
     "data": {
      "text/plain": "'Progression dans les echantillons : 50%'"
     },
     "metadata": {},
     "output_type": "display_data"
    },
    {
     "data": {
      "text/plain": "'Progression dans les echantillons : 51%'"
     },
     "metadata": {},
     "output_type": "display_data"
    },
    {
     "data": {
      "text/plain": "'Progression dans les echantillons : 55%'"
     },
     "metadata": {},
     "output_type": "display_data"
    },
    {
     "data": {
      "text/plain": "'Progression dans les echantillons : 61%'"
     },
     "metadata": {},
     "output_type": "display_data"
    },
    {
     "data": {
      "text/plain": "'Progression dans les echantillons : 66%'"
     },
     "metadata": {},
     "output_type": "display_data"
    },
    {
     "data": {
      "text/plain": "'Progression dans les echantillons : 70%'"
     },
     "metadata": {},
     "output_type": "display_data"
    },
    {
     "data": {
      "text/plain": "'Progression dans les echantillons : 75%'"
     },
     "metadata": {},
     "output_type": "display_data"
    },
    {
     "data": {
      "text/plain": "'Progression dans les echantillons : 81%'"
     },
     "metadata": {},
     "output_type": "display_data"
    },
    {
     "data": {
      "text/plain": "'Progression dans les echantillons : 85%'"
     },
     "metadata": {},
     "output_type": "display_data"
    },
    {
     "data": {
      "text/plain": "'Progression dans les echantillons : 90%'"
     },
     "metadata": {},
     "output_type": "display_data"
    },
    {
     "data": {
      "text/plain": "'Progression dans les echantillons : 96%'"
     },
     "metadata": {},
     "output_type": "display_data"
    },
    {
     "data": {
      "text/plain": "'Progression dans les echantillons : 100%'"
     },
     "metadata": {},
     "output_type": "display_data"
    },
    {
     "name": "stdout",
     "output_type": "stream",
     "text": [
      "Writing 'log' (str) to file './results/logs.txt'.\n",
      "L'execution avec un pourcentage de 45% a dure 2.1138398148148148s et a obtenu un score de 0.14110060490748616\n"
     ]
    },
    {
     "data": {
      "text/plain": "'Progression dans les echantillons : 1%'"
     },
     "metadata": {},
     "output_type": "display_data"
    },
    {
     "data": {
      "text/plain": "'Progression dans les echantillons : 5%'"
     },
     "metadata": {},
     "output_type": "display_data"
    },
    {
     "data": {
      "text/plain": "'Progression dans les echantillons : 11%'"
     },
     "metadata": {},
     "output_type": "display_data"
    },
    {
     "data": {
      "text/plain": "'Progression dans les echantillons : 16%'"
     },
     "metadata": {},
     "output_type": "display_data"
    },
    {
     "data": {
      "text/plain": "'Progression dans les echantillons : 20%'"
     },
     "metadata": {},
     "output_type": "display_data"
    },
    {
     "data": {
      "text/plain": "'Progression dans les echantillons : 25%'"
     },
     "metadata": {},
     "output_type": "display_data"
    },
    {
     "data": {
      "text/plain": "'Progression dans les echantillons : 31%'"
     },
     "metadata": {},
     "output_type": "display_data"
    },
    {
     "data": {
      "text/plain": "'Progression dans les echantillons : 35%'"
     },
     "metadata": {},
     "output_type": "display_data"
    },
    {
     "data": {
      "text/plain": "'Progression dans les echantillons : 40%'"
     },
     "metadata": {},
     "output_type": "display_data"
    },
    {
     "data": {
      "text/plain": "'Progression dans les echantillons : 46%'"
     },
     "metadata": {},
     "output_type": "display_data"
    },
    {
     "data": {
      "text/plain": "'Progression dans les echantillons : 50%'"
     },
     "metadata": {},
     "output_type": "display_data"
    },
    {
     "data": {
      "text/plain": "'Progression dans les echantillons : 51%'"
     },
     "metadata": {},
     "output_type": "display_data"
    },
    {
     "data": {
      "text/plain": "'Progression dans les echantillons : 55%'"
     },
     "metadata": {},
     "output_type": "display_data"
    },
    {
     "data": {
      "text/plain": "'Progression dans les echantillons : 61%'"
     },
     "metadata": {},
     "output_type": "display_data"
    },
    {
     "data": {
      "text/plain": "'Progression dans les echantillons : 66%'"
     },
     "metadata": {},
     "output_type": "display_data"
    },
    {
     "data": {
      "text/plain": "'Progression dans les echantillons : 70%'"
     },
     "metadata": {},
     "output_type": "display_data"
    },
    {
     "data": {
      "text/plain": "'Progression dans les echantillons : 75%'"
     },
     "metadata": {},
     "output_type": "display_data"
    },
    {
     "data": {
      "text/plain": "'Progression dans les echantillons : 81%'"
     },
     "metadata": {},
     "output_type": "display_data"
    },
    {
     "data": {
      "text/plain": "'Progression dans les echantillons : 85%'"
     },
     "metadata": {},
     "output_type": "display_data"
    },
    {
     "data": {
      "text/plain": "'Progression dans les echantillons : 90%'"
     },
     "metadata": {},
     "output_type": "display_data"
    },
    {
     "data": {
      "text/plain": "'Progression dans les echantillons : 96%'"
     },
     "metadata": {},
     "output_type": "display_data"
    },
    {
     "data": {
      "text/plain": "'Progression dans les echantillons : 100%'"
     },
     "metadata": {},
     "output_type": "display_data"
    },
    {
     "name": "stdout",
     "output_type": "stream",
     "text": [
      "Writing 'log' (str) to file './results/logs.txt'.\n",
      "L'execution avec un pourcentage de 50% a dure 2.118952648148148s et a obtenu un score de 0.11930165359205555\n"
     ]
    },
    {
     "data": {
      "text/plain": "'Progression dans les echantillons : 1%'"
     },
     "metadata": {},
     "output_type": "display_data"
    },
    {
     "data": {
      "text/plain": "'Progression dans les echantillons : 5%'"
     },
     "metadata": {},
     "output_type": "display_data"
    },
    {
     "data": {
      "text/plain": "'Progression dans les echantillons : 11%'"
     },
     "metadata": {},
     "output_type": "display_data"
    },
    {
     "data": {
      "text/plain": "'Progression dans les echantillons : 16%'"
     },
     "metadata": {},
     "output_type": "display_data"
    },
    {
     "data": {
      "text/plain": "'Progression dans les echantillons : 20%'"
     },
     "metadata": {},
     "output_type": "display_data"
    },
    {
     "data": {
      "text/plain": "'Progression dans les echantillons : 25%'"
     },
     "metadata": {},
     "output_type": "display_data"
    },
    {
     "data": {
      "text/plain": "'Progression dans les echantillons : 31%'"
     },
     "metadata": {},
     "output_type": "display_data"
    },
    {
     "data": {
      "text/plain": "'Progression dans les echantillons : 35%'"
     },
     "metadata": {},
     "output_type": "display_data"
    },
    {
     "data": {
      "text/plain": "'Progression dans les echantillons : 40%'"
     },
     "metadata": {},
     "output_type": "display_data"
    },
    {
     "data": {
      "text/plain": "'Progression dans les echantillons : 46%'"
     },
     "metadata": {},
     "output_type": "display_data"
    },
    {
     "data": {
      "text/plain": "'Progression dans les echantillons : 50%'"
     },
     "metadata": {},
     "output_type": "display_data"
    },
    {
     "data": {
      "text/plain": "'Progression dans les echantillons : 51%'"
     },
     "metadata": {},
     "output_type": "display_data"
    },
    {
     "data": {
      "text/plain": "'Progression dans les echantillons : 55%'"
     },
     "metadata": {},
     "output_type": "display_data"
    },
    {
     "data": {
      "text/plain": "'Progression dans les echantillons : 61%'"
     },
     "metadata": {},
     "output_type": "display_data"
    },
    {
     "data": {
      "text/plain": "'Progression dans les echantillons : 66%'"
     },
     "metadata": {},
     "output_type": "display_data"
    },
    {
     "data": {
      "text/plain": "'Progression dans les echantillons : 70%'"
     },
     "metadata": {},
     "output_type": "display_data"
    },
    {
     "data": {
      "text/plain": "'Progression dans les echantillons : 75%'"
     },
     "metadata": {},
     "output_type": "display_data"
    },
    {
     "data": {
      "text/plain": "'Progression dans les echantillons : 81%'"
     },
     "metadata": {},
     "output_type": "display_data"
    },
    {
     "data": {
      "text/plain": "'Progression dans les echantillons : 85%'"
     },
     "metadata": {},
     "output_type": "display_data"
    },
    {
     "data": {
      "text/plain": "'Progression dans les echantillons : 90%'"
     },
     "metadata": {},
     "output_type": "display_data"
    },
    {
     "data": {
      "text/plain": "'Progression dans les echantillons : 96%'"
     },
     "metadata": {},
     "output_type": "display_data"
    },
    {
     "data": {
      "text/plain": "'Progression dans les echantillons : 100%'"
     },
     "metadata": {},
     "output_type": "display_data"
    },
    {
     "name": "stdout",
     "output_type": "stream",
     "text": [
      "Writing 'log' (str) to file './results/logs.txt'.\n",
      "L'execution avec un pourcentage de 55% a dure 2.131707592592593s et a obtenu un score de 0.11491929608759671\n",
      "\n",
      "Progression : 57%\n",
      "\n"
     ]
    },
    {
     "data": {
      "text/plain": "'Progression dans les echantillons : 1%'"
     },
     "metadata": {},
     "output_type": "display_data"
    },
    {
     "data": {
      "text/plain": "'Progression dans les echantillons : 5%'"
     },
     "metadata": {},
     "output_type": "display_data"
    },
    {
     "data": {
      "text/plain": "'Progression dans les echantillons : 11%'"
     },
     "metadata": {},
     "output_type": "display_data"
    },
    {
     "data": {
      "text/plain": "'Progression dans les echantillons : 16%'"
     },
     "metadata": {},
     "output_type": "display_data"
    },
    {
     "data": {
      "text/plain": "'Progression dans les echantillons : 20%'"
     },
     "metadata": {},
     "output_type": "display_data"
    },
    {
     "data": {
      "text/plain": "'Progression dans les echantillons : 25%'"
     },
     "metadata": {},
     "output_type": "display_data"
    },
    {
     "data": {
      "text/plain": "'Progression dans les echantillons : 31%'"
     },
     "metadata": {},
     "output_type": "display_data"
    },
    {
     "data": {
      "text/plain": "'Progression dans les echantillons : 35%'"
     },
     "metadata": {},
     "output_type": "display_data"
    },
    {
     "data": {
      "text/plain": "'Progression dans les echantillons : 40%'"
     },
     "metadata": {},
     "output_type": "display_data"
    },
    {
     "data": {
      "text/plain": "'Progression dans les echantillons : 46%'"
     },
     "metadata": {},
     "output_type": "display_data"
    },
    {
     "data": {
      "text/plain": "'Progression dans les echantillons : 50%'"
     },
     "metadata": {},
     "output_type": "display_data"
    },
    {
     "data": {
      "text/plain": "'Progression dans les echantillons : 51%'"
     },
     "metadata": {},
     "output_type": "display_data"
    },
    {
     "data": {
      "text/plain": "'Progression dans les echantillons : 55%'"
     },
     "metadata": {},
     "output_type": "display_data"
    },
    {
     "data": {
      "text/plain": "'Progression dans les echantillons : 61%'"
     },
     "metadata": {},
     "output_type": "display_data"
    },
    {
     "data": {
      "text/plain": "'Progression dans les echantillons : 66%'"
     },
     "metadata": {},
     "output_type": "display_data"
    },
    {
     "data": {
      "text/plain": "'Progression dans les echantillons : 70%'"
     },
     "metadata": {},
     "output_type": "display_data"
    },
    {
     "data": {
      "text/plain": "'Progression dans les echantillons : 75%'"
     },
     "metadata": {},
     "output_type": "display_data"
    },
    {
     "data": {
      "text/plain": "'Progression dans les echantillons : 81%'"
     },
     "metadata": {},
     "output_type": "display_data"
    },
    {
     "data": {
      "text/plain": "'Progression dans les echantillons : 85%'"
     },
     "metadata": {},
     "output_type": "display_data"
    },
    {
     "data": {
      "text/plain": "'Progression dans les echantillons : 90%'"
     },
     "metadata": {},
     "output_type": "display_data"
    },
    {
     "data": {
      "text/plain": "'Progression dans les echantillons : 96%'"
     },
     "metadata": {},
     "output_type": "display_data"
    },
    {
     "data": {
      "text/plain": "'Progression dans les echantillons : 100%'"
     },
     "metadata": {},
     "output_type": "display_data"
    },
    {
     "name": "stdout",
     "output_type": "stream",
     "text": [
      "Writing 'log' (str) to file './results/logs.txt'.\n",
      "L'execution avec un pourcentage de 60% a dure 1.9534416111111113s et a obtenu un score de 0.05474782419226864\n"
     ]
    },
    {
     "data": {
      "text/plain": "'Progression dans les echantillons : 1%'"
     },
     "metadata": {},
     "output_type": "display_data"
    },
    {
     "data": {
      "text/plain": "'Progression dans les echantillons : 5%'"
     },
     "metadata": {},
     "output_type": "display_data"
    },
    {
     "data": {
      "text/plain": "'Progression dans les echantillons : 11%'"
     },
     "metadata": {},
     "output_type": "display_data"
    },
    {
     "data": {
      "text/plain": "'Progression dans les echantillons : 16%'"
     },
     "metadata": {},
     "output_type": "display_data"
    },
    {
     "data": {
      "text/plain": "'Progression dans les echantillons : 20%'"
     },
     "metadata": {},
     "output_type": "display_data"
    },
    {
     "data": {
      "text/plain": "'Progression dans les echantillons : 25%'"
     },
     "metadata": {},
     "output_type": "display_data"
    },
    {
     "data": {
      "text/plain": "'Progression dans les echantillons : 31%'"
     },
     "metadata": {},
     "output_type": "display_data"
    },
    {
     "data": {
      "text/plain": "'Progression dans les echantillons : 35%'"
     },
     "metadata": {},
     "output_type": "display_data"
    },
    {
     "data": {
      "text/plain": "'Progression dans les echantillons : 40%'"
     },
     "metadata": {},
     "output_type": "display_data"
    },
    {
     "data": {
      "text/plain": "'Progression dans les echantillons : 46%'"
     },
     "metadata": {},
     "output_type": "display_data"
    },
    {
     "data": {
      "text/plain": "'Progression dans les echantillons : 50%'"
     },
     "metadata": {},
     "output_type": "display_data"
    },
    {
     "data": {
      "text/plain": "'Progression dans les echantillons : 51%'"
     },
     "metadata": {},
     "output_type": "display_data"
    },
    {
     "data": {
      "text/plain": "'Progression dans les echantillons : 55%'"
     },
     "metadata": {},
     "output_type": "display_data"
    },
    {
     "data": {
      "text/plain": "'Progression dans les echantillons : 61%'"
     },
     "metadata": {},
     "output_type": "display_data"
    },
    {
     "data": {
      "text/plain": "'Progression dans les echantillons : 66%'"
     },
     "metadata": {},
     "output_type": "display_data"
    },
    {
     "data": {
      "text/plain": "'Progression dans les echantillons : 70%'"
     },
     "metadata": {},
     "output_type": "display_data"
    },
    {
     "data": {
      "text/plain": "'Progression dans les echantillons : 75%'"
     },
     "metadata": {},
     "output_type": "display_data"
    },
    {
     "data": {
      "text/plain": "'Progression dans les echantillons : 81%'"
     },
     "metadata": {},
     "output_type": "display_data"
    },
    {
     "data": {
      "text/plain": "'Progression dans les echantillons : 85%'"
     },
     "metadata": {},
     "output_type": "display_data"
    },
    {
     "data": {
      "text/plain": "'Progression dans les echantillons : 90%'"
     },
     "metadata": {},
     "output_type": "display_data"
    },
    {
     "data": {
      "text/plain": "'Progression dans les echantillons : 96%'"
     },
     "metadata": {},
     "output_type": "display_data"
    },
    {
     "data": {
      "text/plain": "'Progression dans les echantillons : 100%'"
     },
     "metadata": {},
     "output_type": "display_data"
    },
    {
     "name": "stdout",
     "output_type": "stream",
     "text": [
      "Writing 'log' (str) to file './results/logs.txt'.\n",
      "L'execution avec un pourcentage de 65% a dure 2.080232s et a obtenu un score de 0.08910288758395941\n"
     ]
    },
    {
     "data": {
      "text/plain": "'Progression dans les echantillons : 1%'"
     },
     "metadata": {},
     "output_type": "display_data"
    },
    {
     "data": {
      "text/plain": "'Progression dans les echantillons : 5%'"
     },
     "metadata": {},
     "output_type": "display_data"
    },
    {
     "data": {
      "text/plain": "'Progression dans les echantillons : 11%'"
     },
     "metadata": {},
     "output_type": "display_data"
    },
    {
     "data": {
      "text/plain": "'Progression dans les echantillons : 16%'"
     },
     "metadata": {},
     "output_type": "display_data"
    },
    {
     "data": {
      "text/plain": "'Progression dans les echantillons : 20%'"
     },
     "metadata": {},
     "output_type": "display_data"
    },
    {
     "data": {
      "text/plain": "'Progression dans les echantillons : 25%'"
     },
     "metadata": {},
     "output_type": "display_data"
    },
    {
     "data": {
      "text/plain": "'Progression dans les echantillons : 31%'"
     },
     "metadata": {},
     "output_type": "display_data"
    },
    {
     "data": {
      "text/plain": "'Progression dans les echantillons : 35%'"
     },
     "metadata": {},
     "output_type": "display_data"
    },
    {
     "data": {
      "text/plain": "'Progression dans les echantillons : 40%'"
     },
     "metadata": {},
     "output_type": "display_data"
    },
    {
     "data": {
      "text/plain": "'Progression dans les echantillons : 46%'"
     },
     "metadata": {},
     "output_type": "display_data"
    },
    {
     "data": {
      "text/plain": "'Progression dans les echantillons : 50%'"
     },
     "metadata": {},
     "output_type": "display_data"
    },
    {
     "data": {
      "text/plain": "'Progression dans les echantillons : 51%'"
     },
     "metadata": {},
     "output_type": "display_data"
    },
    {
     "data": {
      "text/plain": "'Progression dans les echantillons : 55%'"
     },
     "metadata": {},
     "output_type": "display_data"
    },
    {
     "data": {
      "text/plain": "'Progression dans les echantillons : 61%'"
     },
     "metadata": {},
     "output_type": "display_data"
    },
    {
     "data": {
      "text/plain": "'Progression dans les echantillons : 66%'"
     },
     "metadata": {},
     "output_type": "display_data"
    },
    {
     "data": {
      "text/plain": "'Progression dans les echantillons : 70%'"
     },
     "metadata": {},
     "output_type": "display_data"
    },
    {
     "data": {
      "text/plain": "'Progression dans les echantillons : 75%'"
     },
     "metadata": {},
     "output_type": "display_data"
    },
    {
     "data": {
      "text/plain": "'Progression dans les echantillons : 81%'"
     },
     "metadata": {},
     "output_type": "display_data"
    },
    {
     "data": {
      "text/plain": "'Progression dans les echantillons : 85%'"
     },
     "metadata": {},
     "output_type": "display_data"
    },
    {
     "data": {
      "text/plain": "'Progression dans les echantillons : 90%'"
     },
     "metadata": {},
     "output_type": "display_data"
    },
    {
     "data": {
      "text/plain": "'Progression dans les echantillons : 96%'"
     },
     "metadata": {},
     "output_type": "display_data"
    },
    {
     "data": {
      "text/plain": "'Progression dans les echantillons : 100%'"
     },
     "metadata": {},
     "output_type": "display_data"
    },
    {
     "name": "stdout",
     "output_type": "stream",
     "text": [
      "Writing 'log' (str) to file './results/logs.txt'.\n",
      "L'execution avec un pourcentage de 70% a dure 2.111047111111111s et a obtenu un score de 0.02841348934185191\n"
     ]
    },
    {
     "data": {
      "text/plain": "'Progression dans les echantillons : 1%'"
     },
     "metadata": {},
     "output_type": "display_data"
    },
    {
     "data": {
      "text/plain": "'Progression dans les echantillons : 5%'"
     },
     "metadata": {},
     "output_type": "display_data"
    },
    {
     "data": {
      "text/plain": "'Progression dans les echantillons : 11%'"
     },
     "metadata": {},
     "output_type": "display_data"
    },
    {
     "data": {
      "text/plain": "'Progression dans les echantillons : 16%'"
     },
     "metadata": {},
     "output_type": "display_data"
    },
    {
     "data": {
      "text/plain": "'Progression dans les echantillons : 20%'"
     },
     "metadata": {},
     "output_type": "display_data"
    },
    {
     "data": {
      "text/plain": "'Progression dans les echantillons : 25%'"
     },
     "metadata": {},
     "output_type": "display_data"
    },
    {
     "data": {
      "text/plain": "'Progression dans les echantillons : 31%'"
     },
     "metadata": {},
     "output_type": "display_data"
    },
    {
     "data": {
      "text/plain": "'Progression dans les echantillons : 35%'"
     },
     "metadata": {},
     "output_type": "display_data"
    },
    {
     "data": {
      "text/plain": "'Progression dans les echantillons : 40%'"
     },
     "metadata": {},
     "output_type": "display_data"
    },
    {
     "data": {
      "text/plain": "'Progression dans les echantillons : 46%'"
     },
     "metadata": {},
     "output_type": "display_data"
    },
    {
     "data": {
      "text/plain": "'Progression dans les echantillons : 50%'"
     },
     "metadata": {},
     "output_type": "display_data"
    },
    {
     "data": {
      "text/plain": "'Progression dans les echantillons : 51%'"
     },
     "metadata": {},
     "output_type": "display_data"
    },
    {
     "data": {
      "text/plain": "'Progression dans les echantillons : 55%'"
     },
     "metadata": {},
     "output_type": "display_data"
    },
    {
     "data": {
      "text/plain": "'Progression dans les echantillons : 61%'"
     },
     "metadata": {},
     "output_type": "display_data"
    },
    {
     "data": {
      "text/plain": "'Progression dans les echantillons : 66%'"
     },
     "metadata": {},
     "output_type": "display_data"
    },
    {
     "data": {
      "text/plain": "'Progression dans les echantillons : 70%'"
     },
     "metadata": {},
     "output_type": "display_data"
    },
    {
     "data": {
      "text/plain": "'Progression dans les echantillons : 75%'"
     },
     "metadata": {},
     "output_type": "display_data"
    },
    {
     "data": {
      "text/plain": "'Progression dans les echantillons : 81%'"
     },
     "metadata": {},
     "output_type": "display_data"
    },
    {
     "data": {
      "text/plain": "'Progression dans les echantillons : 85%'"
     },
     "metadata": {},
     "output_type": "display_data"
    },
    {
     "data": {
      "text/plain": "'Progression dans les echantillons : 90%'"
     },
     "metadata": {},
     "output_type": "display_data"
    },
    {
     "data": {
      "text/plain": "'Progression dans les echantillons : 96%'"
     },
     "metadata": {},
     "output_type": "display_data"
    },
    {
     "data": {
      "text/plain": "'Progression dans les echantillons : 100%'"
     },
     "metadata": {},
     "output_type": "display_data"
    },
    {
     "name": "stdout",
     "output_type": "stream",
     "text": [
      "Writing 'log' (str) to file './results/logs.txt'.\n",
      "L'execution avec un pourcentage de 75% a dure 2.0994564074074074s et a obtenu un score de 0.009449098569468939\n",
      "\n",
      "Progression : 78%\n",
      "\n"
     ]
    },
    {
     "data": {
      "text/plain": "'Progression dans les echantillons : 1%'"
     },
     "metadata": {},
     "output_type": "display_data"
    },
    {
     "data": {
      "text/plain": "'Progression dans les echantillons : 5%'"
     },
     "metadata": {},
     "output_type": "display_data"
    },
    {
     "data": {
      "text/plain": "'Progression dans les echantillons : 11%'"
     },
     "metadata": {},
     "output_type": "display_data"
    },
    {
     "data": {
      "text/plain": "'Progression dans les echantillons : 16%'"
     },
     "metadata": {},
     "output_type": "display_data"
    },
    {
     "data": {
      "text/plain": "'Progression dans les echantillons : 20%'"
     },
     "metadata": {},
     "output_type": "display_data"
    },
    {
     "data": {
      "text/plain": "'Progression dans les echantillons : 25%'"
     },
     "metadata": {},
     "output_type": "display_data"
    },
    {
     "data": {
      "text/plain": "'Progression dans les echantillons : 31%'"
     },
     "metadata": {},
     "output_type": "display_data"
    },
    {
     "data": {
      "text/plain": "'Progression dans les echantillons : 35%'"
     },
     "metadata": {},
     "output_type": "display_data"
    },
    {
     "data": {
      "text/plain": "'Progression dans les echantillons : 40%'"
     },
     "metadata": {},
     "output_type": "display_data"
    },
    {
     "data": {
      "text/plain": "'Progression dans les echantillons : 46%'"
     },
     "metadata": {},
     "output_type": "display_data"
    },
    {
     "data": {
      "text/plain": "'Progression dans les echantillons : 50%'"
     },
     "metadata": {},
     "output_type": "display_data"
    },
    {
     "data": {
      "text/plain": "'Progression dans les echantillons : 51%'"
     },
     "metadata": {},
     "output_type": "display_data"
    },
    {
     "data": {
      "text/plain": "'Progression dans les echantillons : 55%'"
     },
     "metadata": {},
     "output_type": "display_data"
    },
    {
     "data": {
      "text/plain": "'Progression dans les echantillons : 61%'"
     },
     "metadata": {},
     "output_type": "display_data"
    },
    {
     "data": {
      "text/plain": "'Progression dans les echantillons : 66%'"
     },
     "metadata": {},
     "output_type": "display_data"
    },
    {
     "data": {
      "text/plain": "'Progression dans les echantillons : 70%'"
     },
     "metadata": {},
     "output_type": "display_data"
    },
    {
     "data": {
      "text/plain": "'Progression dans les echantillons : 75%'"
     },
     "metadata": {},
     "output_type": "display_data"
    },
    {
     "data": {
      "text/plain": "'Progression dans les echantillons : 81%'"
     },
     "metadata": {},
     "output_type": "display_data"
    },
    {
     "data": {
      "text/plain": "'Progression dans les echantillons : 85%'"
     },
     "metadata": {},
     "output_type": "display_data"
    },
    {
     "data": {
      "text/plain": "'Progression dans les echantillons : 90%'"
     },
     "metadata": {},
     "output_type": "display_data"
    },
    {
     "data": {
      "text/plain": "'Progression dans les echantillons : 96%'"
     },
     "metadata": {},
     "output_type": "display_data"
    },
    {
     "data": {
      "text/plain": "'Progression dans les echantillons : 100%'"
     },
     "metadata": {},
     "output_type": "display_data"
    },
    {
     "name": "stdout",
     "output_type": "stream",
     "text": [
      "Writing 'log' (str) to file './results/logs.txt'.\n",
      "L'execution avec un pourcentage de 80% a dure 2.086795537037037s et a obtenu un score de 0.008822016460905349\n"
     ]
    },
    {
     "data": {
      "text/plain": "'Progression dans les echantillons : 1%'"
     },
     "metadata": {},
     "output_type": "display_data"
    },
    {
     "data": {
      "text/plain": "'Progression dans les echantillons : 5%'"
     },
     "metadata": {},
     "output_type": "display_data"
    },
    {
     "data": {
      "text/plain": "'Progression dans les echantillons : 11%'"
     },
     "metadata": {},
     "output_type": "display_data"
    },
    {
     "data": {
      "text/plain": "'Progression dans les echantillons : 16%'"
     },
     "metadata": {},
     "output_type": "display_data"
    },
    {
     "data": {
      "text/plain": "'Progression dans les echantillons : 20%'"
     },
     "metadata": {},
     "output_type": "display_data"
    },
    {
     "data": {
      "text/plain": "'Progression dans les echantillons : 25%'"
     },
     "metadata": {},
     "output_type": "display_data"
    },
    {
     "data": {
      "text/plain": "'Progression dans les echantillons : 31%'"
     },
     "metadata": {},
     "output_type": "display_data"
    },
    {
     "data": {
      "text/plain": "'Progression dans les echantillons : 35%'"
     },
     "metadata": {},
     "output_type": "display_data"
    },
    {
     "data": {
      "text/plain": "'Progression dans les echantillons : 40%'"
     },
     "metadata": {},
     "output_type": "display_data"
    },
    {
     "data": {
      "text/plain": "'Progression dans les echantillons : 46%'"
     },
     "metadata": {},
     "output_type": "display_data"
    },
    {
     "data": {
      "text/plain": "'Progression dans les echantillons : 50%'"
     },
     "metadata": {},
     "output_type": "display_data"
    },
    {
     "data": {
      "text/plain": "'Progression dans les echantillons : 51%'"
     },
     "metadata": {},
     "output_type": "display_data"
    },
    {
     "data": {
      "text/plain": "'Progression dans les echantillons : 55%'"
     },
     "metadata": {},
     "output_type": "display_data"
    },
    {
     "data": {
      "text/plain": "'Progression dans les echantillons : 61%'"
     },
     "metadata": {},
     "output_type": "display_data"
    },
    {
     "data": {
      "text/plain": "'Progression dans les echantillons : 66%'"
     },
     "metadata": {},
     "output_type": "display_data"
    },
    {
     "data": {
      "text/plain": "'Progression dans les echantillons : 70%'"
     },
     "metadata": {},
     "output_type": "display_data"
    },
    {
     "data": {
      "text/plain": "'Progression dans les echantillons : 75%'"
     },
     "metadata": {},
     "output_type": "display_data"
    },
    {
     "data": {
      "text/plain": "'Progression dans les echantillons : 81%'"
     },
     "metadata": {},
     "output_type": "display_data"
    },
    {
     "data": {
      "text/plain": "'Progression dans les echantillons : 85%'"
     },
     "metadata": {},
     "output_type": "display_data"
    },
    {
     "data": {
      "text/plain": "'Progression dans les echantillons : 90%'"
     },
     "metadata": {},
     "output_type": "display_data"
    },
    {
     "data": {
      "text/plain": "'Progression dans les echantillons : 96%'"
     },
     "metadata": {},
     "output_type": "display_data"
    },
    {
     "data": {
      "text/plain": "'Progression dans les echantillons : 100%'"
     },
     "metadata": {},
     "output_type": "display_data"
    },
    {
     "name": "stdout",
     "output_type": "stream",
     "text": [
      "Writing 'log' (str) to file './results/logs.txt'.\n",
      "L'execution avec un pourcentage de 85% a dure 2.095483444444444s et a obtenu un score de 0.007201646090534979\n"
     ]
    },
    {
     "data": {
      "text/plain": "'Progression dans les echantillons : 1%'"
     },
     "metadata": {},
     "output_type": "display_data"
    },
    {
     "data": {
      "text/plain": "'Progression dans les echantillons : 5%'"
     },
     "metadata": {},
     "output_type": "display_data"
    },
    {
     "data": {
      "text/plain": "'Progression dans les echantillons : 11%'"
     },
     "metadata": {},
     "output_type": "display_data"
    },
    {
     "data": {
      "text/plain": "'Progression dans les echantillons : 16%'"
     },
     "metadata": {},
     "output_type": "display_data"
    },
    {
     "data": {
      "text/plain": "'Progression dans les echantillons : 20%'"
     },
     "metadata": {},
     "output_type": "display_data"
    },
    {
     "data": {
      "text/plain": "'Progression dans les echantillons : 25%'"
     },
     "metadata": {},
     "output_type": "display_data"
    },
    {
     "data": {
      "text/plain": "'Progression dans les echantillons : 31%'"
     },
     "metadata": {},
     "output_type": "display_data"
    },
    {
     "data": {
      "text/plain": "'Progression dans les echantillons : 35%'"
     },
     "metadata": {},
     "output_type": "display_data"
    },
    {
     "data": {
      "text/plain": "'Progression dans les echantillons : 40%'"
     },
     "metadata": {},
     "output_type": "display_data"
    },
    {
     "data": {
      "text/plain": "'Progression dans les echantillons : 46%'"
     },
     "metadata": {},
     "output_type": "display_data"
    },
    {
     "data": {
      "text/plain": "'Progression dans les echantillons : 50%'"
     },
     "metadata": {},
     "output_type": "display_data"
    },
    {
     "data": {
      "text/plain": "'Progression dans les echantillons : 51%'"
     },
     "metadata": {},
     "output_type": "display_data"
    },
    {
     "data": {
      "text/plain": "'Progression dans les echantillons : 55%'"
     },
     "metadata": {},
     "output_type": "display_data"
    },
    {
     "data": {
      "text/plain": "'Progression dans les echantillons : 61%'"
     },
     "metadata": {},
     "output_type": "display_data"
    },
    {
     "data": {
      "text/plain": "'Progression dans les echantillons : 66%'"
     },
     "metadata": {},
     "output_type": "display_data"
    },
    {
     "data": {
      "text/plain": "'Progression dans les echantillons : 70%'"
     },
     "metadata": {},
     "output_type": "display_data"
    },
    {
     "data": {
      "text/plain": "'Progression dans les echantillons : 75%'"
     },
     "metadata": {},
     "output_type": "display_data"
    },
    {
     "data": {
      "text/plain": "'Progression dans les echantillons : 81%'"
     },
     "metadata": {},
     "output_type": "display_data"
    },
    {
     "data": {
      "text/plain": "'Progression dans les echantillons : 85%'"
     },
     "metadata": {},
     "output_type": "display_data"
    },
    {
     "data": {
      "text/plain": "'Progression dans les echantillons : 90%'"
     },
     "metadata": {},
     "output_type": "display_data"
    },
    {
     "data": {
      "text/plain": "'Progression dans les echantillons : 96%'"
     },
     "metadata": {},
     "output_type": "display_data"
    },
    {
     "data": {
      "text/plain": "'Progression dans les echantillons : 100%'"
     },
     "metadata": {},
     "output_type": "display_data"
    },
    {
     "name": "stdout",
     "output_type": "stream",
     "text": [
      "Writing 'log' (str) to file './results/logs.txt'.\n",
      "L'execution avec un pourcentage de 90% a dure 2.0930507222222223s et a obtenu un score de 0.003661341079641733\n"
     ]
    },
    {
     "data": {
      "text/plain": "'Progression dans les echantillons : 1%'"
     },
     "metadata": {},
     "output_type": "display_data"
    },
    {
     "data": {
      "text/plain": "'Progression dans les echantillons : 5%'"
     },
     "metadata": {},
     "output_type": "display_data"
    },
    {
     "data": {
      "text/plain": "'Progression dans les echantillons : 11%'"
     },
     "metadata": {},
     "output_type": "display_data"
    },
    {
     "data": {
      "text/plain": "'Progression dans les echantillons : 16%'"
     },
     "metadata": {},
     "output_type": "display_data"
    },
    {
     "data": {
      "text/plain": "'Progression dans les echantillons : 20%'"
     },
     "metadata": {},
     "output_type": "display_data"
    },
    {
     "data": {
      "text/plain": "'Progression dans les echantillons : 25%'"
     },
     "metadata": {},
     "output_type": "display_data"
    },
    {
     "data": {
      "text/plain": "'Progression dans les echantillons : 31%'"
     },
     "metadata": {},
     "output_type": "display_data"
    },
    {
     "data": {
      "text/plain": "'Progression dans les echantillons : 35%'"
     },
     "metadata": {},
     "output_type": "display_data"
    },
    {
     "data": {
      "text/plain": "'Progression dans les echantillons : 40%'"
     },
     "metadata": {},
     "output_type": "display_data"
    },
    {
     "data": {
      "text/plain": "'Progression dans les echantillons : 46%'"
     },
     "metadata": {},
     "output_type": "display_data"
    },
    {
     "data": {
      "text/plain": "'Progression dans les echantillons : 50%'"
     },
     "metadata": {},
     "output_type": "display_data"
    },
    {
     "data": {
      "text/plain": "'Progression dans les echantillons : 51%'"
     },
     "metadata": {},
     "output_type": "display_data"
    },
    {
     "data": {
      "text/plain": "'Progression dans les echantillons : 55%'"
     },
     "metadata": {},
     "output_type": "display_data"
    },
    {
     "data": {
      "text/plain": "'Progression dans les echantillons : 61%'"
     },
     "metadata": {},
     "output_type": "display_data"
    },
    {
     "data": {
      "text/plain": "'Progression dans les echantillons : 66%'"
     },
     "metadata": {},
     "output_type": "display_data"
    },
    {
     "data": {
      "text/plain": "'Progression dans les echantillons : 70%'"
     },
     "metadata": {},
     "output_type": "display_data"
    },
    {
     "data": {
      "text/plain": "'Progression dans les echantillons : 75%'"
     },
     "metadata": {},
     "output_type": "display_data"
    },
    {
     "data": {
      "text/plain": "'Progression dans les echantillons : 81%'"
     },
     "metadata": {},
     "output_type": "display_data"
    },
    {
     "data": {
      "text/plain": "'Progression dans les echantillons : 85%'"
     },
     "metadata": {},
     "output_type": "display_data"
    },
    {
     "data": {
      "text/plain": "'Progression dans les echantillons : 90%'"
     },
     "metadata": {},
     "output_type": "display_data"
    },
    {
     "data": {
      "text/plain": "'Progression dans les echantillons : 96%'"
     },
     "metadata": {},
     "output_type": "display_data"
    },
    {
     "data": {
      "text/plain": "'Progression dans les echantillons : 100%'"
     },
     "metadata": {},
     "output_type": "display_data"
    },
    {
     "name": "stdout",
     "output_type": "stream",
     "text": [
      "Writing 'log' (str) to file './results/logs.txt'.\n",
      "L'execution avec un pourcentage de 95% a dure 2.1217532592592594s et a obtenu un score de 0.0\n",
      "\n",
      "Progression : 100%\n",
      "\n"
     ]
    }
   ],
   "source": [
    "start,stop,step = 5,100,5\n",
    "timers = [ 0.0 for percentage in range(start,stop,step) ]\n",
    "efficiencies = [ 1.0 for percentage in range(start,stop,step) ]\n",
    "standard_deviation = [ 0.0 for percentage in range(start,stop,step) ]\n",
    "\n",
    "for percentage in range(start,stop,step):\n",
    "    # Pour cacher la 'Progression dans les echantillons' il faut mettre display=True\n",
    "    with io.capture_output(display=False) as outputCaptured:\n",
    "        %run analysis.ipynb\n",
    "    log = \"<\"+str(startTime_model)+\">\\n\"+outputCaptured.stdout+\"\\n</\"+str(endTime_model)+\">\\n\"\n",
    "    %store log >>./results/logs.txt\n",
    "\n",
    "    lists_iterator = int((percentage-start)/step)\n",
    "    efficiencies[lists_iterator] = model_efficiency\n",
    "    timers[lists_iterator] = (endTime_model - startTime_model).total_seconds()/dataSize\n",
    "    standard_deviation[lists_iterator] = np.std(efficiency_samples)\n",
    "    print(f\"L'execution avec un pourcentage de {percentage}% a dure {timers[lists_iterator]}s et a obtenu un score de {model_efficiency}\")\n",
    "\n",
    "    progression = int( (percentage-start+step)/(stop-start) *100 )\n",
    "    if progression % ((stop-start)/step) <= 5:\n",
    "        print(f\"\\nProgression : {progression}%\\n\")"
   ],
   "metadata": {
    "collapsed": false,
    "pycharm": {
     "name": "#%%\n"
    }
   }
  },
  {
   "cell_type": "markdown",
   "source": [
    "# Etude des données"
   ],
   "metadata": {
    "collapsed": false,
    "pycharm": {
     "name": "#%% md\n"
    }
   }
  },
  {
   "cell_type": "code",
   "execution_count": 11,
   "outputs": [],
   "source": [
    "%matplotlib inline\n",
    "import matplotlib.pyplot as plt\n",
    "plt.style.use('seaborn-whitegrid')"
   ],
   "metadata": {
    "collapsed": false,
    "pycharm": {
     "name": "#%%\n"
    }
   }
  },
  {
   "cell_type": "code",
   "execution_count": 12,
   "outputs": [
    {
     "name": "stdout",
     "output_type": "stream",
     "text": [
      "[2.0570782407407404, 2.106454851851852, 2.103251074074074, 2.102091074074074, 2.1066859814814816, 2.135555851851852, 2.1036371481481484, 2.082584388888889, 2.1138398148148148, 2.118952648148148, 2.131707592592593, 1.9534416111111113, 2.080232, 2.111047111111111, 2.0994564074074074, 2.086795537037037, 2.095483444444444, 2.0930507222222223, 2.1217532592592594]\n",
      "1.9534416111111113 2.135555851851852\n",
      "2.0948999346978554\n",
      "[0.4552083333333333, 0.4584010840108401, 0.4673611111111111, 0.3019841269841271, 0.39166233766233755, 0.30253598294663775, 0.28925179758513087, 0.1758033345860143, 0.14110060490748616, 0.11930165359205555, 0.11491929608759671, 0.05474782419226864, 0.08910288758395941, 0.02841348934185191, 0.009449098569468939, 0.008822016460905349, 0.007201646090534979, 0.003661341079641733, 0.0]\n",
      "0.0 0.4673611111111111\n",
      "0.17994357716448953\n"
     ]
    }
   ],
   "source": [
    "#debut : 21:36:43\n",
    "#50% : 22:01:15 -> temps ecoule : 24:33\n",
    "#fin : 22:19:30 -> temps ecoule : 42:47\n",
    "print(timers)\n",
    "print(min(timers),max(timers))\n",
    "print(sum(timers)/len(timers))\n",
    "print(efficiencies)\n",
    "print(min(efficiencies),max(efficiencies))\n",
    "print(sum(efficiencies)/len(efficiencies))"
   ],
   "metadata": {
    "collapsed": false,
    "pycharm": {
     "name": "#%%\n"
    }
   }
  },
  {
   "cell_type": "code",
   "execution_count": 13,
   "outputs": [
    {
     "data": {
      "text/plain": "<Figure size 432x288 with 1 Axes>",
      "image/png": "[encoded data removed]"
     },
     "metadata": {},
     "output_type": "display_data"
    },
    {
     "data": {
      "text/plain": "<Figure size 432x288 with 1 Axes>",
      "image/png": "[encoded data removed]"
     },
     "metadata": {},
     "output_type": "display_data"
    },
    {
     "data": {
      "text/plain": "<Figure size 432x288 with 1 Axes>",
      "image/png": "[encoded data removed]"
     },
     "metadata": {},
     "output_type": "display_data"
    }
   ],
   "source": [
    "# Pourcentage de réussite\n",
    "percentages = [i for i in range(start,stop,step)]\n",
    "plt.title(\"Succeed percentages\")\n",
    "plt.xlabel(\"Percentages of masked words\")\n",
    "plt.ylabel(\"Efficiencies\")\n",
    "plt.plot(percentages, efficiencies)\n",
    "plt.show()\n",
    "\n",
    "# Temps d'exécution\n",
    "plt.title(\"Average execution time per sentences\")\n",
    "plt.xlabel(\"Percentages of masked words\")\n",
    "plt.ylabel(\"Time (s)\")\n",
    "plt.plot(percentages, timers)\n",
    "plt.show()\n",
    "\n",
    "# Ecarts types\n",
    "plt.title(\"Standard deviation of efficiency samples\")\n",
    "plt.xlabel(\"Percentages of masked words\")\n",
    "plt.ylabel(\"Standard deviation\")\n",
    "plt.plot(percentages, standard_deviation)\n",
    "plt.show()"
   ],
   "metadata": {
    "collapsed": false,
    "pycharm": {
     "name": "#%%\n"
    }
   }
  }
 ],
 "metadata": {
  "kernelspec": {
   "display_name": "Python 3",
   "language": "python",
   "name": "python3"
  },
  "language_info": {
   "codemirror_mode": {
    "name": "ipython",
    "version": 2
   },
   "file_extension": ".py",
   "mimetype": "text/x-python",
   "name": "python",
   "nbconvert_exporter": "python",
   "pygments_lexer": "ipython2",
   "version": "2.7.6"
  }
 },
 "nbformat": 4,
 "nbformat_minor": 0
}