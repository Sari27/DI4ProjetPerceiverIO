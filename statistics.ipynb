{
 "cells": [
  {
   "cell_type": "code",
   "execution_count": 24,
   "metadata": {
    "collapsed": true
   },
   "outputs": [],
   "source": [
    "import datetime as dt\n",
    "from IPython.utils import io\n",
    "# Pickle est un module permettant la (dé)sérialisation\n",
    "import pickle"
   ]
  },
  {
   "cell_type": "code",
   "execution_count": 25,
   "outputs": [
    {
     "name": "stdout",
     "output_type": "stream",
     "text": [
      "Les hyperparametres ont ete charges.\n"
     ]
    }
   ],
   "source": [
    "# On deserialise les valeurs des hyperparametres du modele.\n",
    "\n",
    "try: params\n",
    "except NameError:\n",
    "    try:\n",
    "        print(\"Chargement des hyperparametres...\")\n",
    "        with open(\"./data/language_perceiver_io_bytes.pickle\", \"rb\") as f:\n",
    "            params = pickle.loads(f.read())\n",
    "    except (FileNotFoundError, pickle.UnpicklingError):\n",
    "        print(\"Aucun trouves. Telechargement des hyperparametres.\")\n",
    "        !wget -O ./data/language_perceiver_io_bytes.pickle \\\n",
    "                https://storage.googleapis.com/perceiver_io/language_perceiver_io_bytes.pickle\n",
    "print(\"Les hyperparametres ont ete charges.\")"
   ],
   "metadata": {
    "collapsed": false,
    "pycharm": {
     "name": "#%%\n"
    }
   }
  },
  {
   "cell_type": "code",
   "execution_count": 45,
   "outputs": [
    {
     "name": "stdout",
     "output_type": "stream",
     "text": [
      "Writing 'log' (str) to file './results/logs.txt'.\n",
      "L'execution avec un pourcentage de 5% a dure 6e-06s\n",
      "\n",
      "Progression : 100%\n",
      "\n"
     ]
    }
   ],
   "source": [
    "start,stop,step = 5,100,5\n",
    "timers = [ 0.0 for percentage in range(start,stop,step) ]\n",
    "\n",
    "for percentage in range(start,stop,step):\n",
    "    # Pour cacher la 'Progression dans les echantillons' il faut mettre display=True\n",
    "    with io.capture_output(display=False) as outputCaptured:\n",
    "        startTime_model = dt.datetime.now()\n",
    "        #%run analysis.ipynb\n",
    "        endTime_model = dt.datetime.now()\n",
    "    log = \"<\"+str(dt.datetime.now())+\">\\n\"+outputCaptured.stdout+\"\\n\"\n",
    "    %store log >>./results/logs.txt\n",
    "\n",
    "    timers_iterator = int((percentage-start)/step)\n",
    "    timers[timers_iterator] = (endTime_model - startTime_model).total_seconds()\n",
    "    print(f\"L'execution avec un pourcentage de {percentage}% a dure {timers[timers_iterator]}s\")\n",
    "\n",
    "    progression = int( (percentage-start+step)/(stop-start) *100 )\n",
    "    if progression % ((stop-start)/step) < 5:\n",
    "        print(f\"\\nProgression : {progression}%\\n\")"
   ],
   "metadata": {
    "collapsed": false,
    "pycharm": {
     "name": "#%%\n"
    }
   }
  },
  {
   "cell_type": "code",
   "execution_count": 44,
   "outputs": [
    {
     "name": "stdout",
     "output_type": "stream",
     "text": [
      "[7e-06, 7e-06, 7e-06, 4e-05, 5e-06, 5e-06, 7e-06, 8e-06, 4e-06, 3e-06, 4e-06, 6e-06, 5e-06, 4e-06, 5e-06, 7e-06, 5e-06, 4e-06, 4e-06]\n"
     ]
    }
   ],
   "source": [
    "print(timers)"
   ],
   "metadata": {
    "collapsed": false,
    "pycharm": {
     "name": "#%%\n"
    }
   }
  }
 ],
 "metadata": {
  "kernelspec": {
   "display_name": "Python 3",
   "language": "python",
   "name": "python3"
  },
  "language_info": {
   "codemirror_mode": {
    "name": "ipython",
    "version": 2
   },
   "file_extension": ".py",
   "mimetype": "text/x-python",
   "name": "python",
   "nbconvert_exporter": "python",
   "pygments_lexer": "ipython2",
   "version": "2.7.6"
  }
 },
 "nbformat": 4,
 "nbformat_minor": 0
}