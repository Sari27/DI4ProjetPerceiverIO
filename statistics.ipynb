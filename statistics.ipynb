{
 "cells": [
  {
   "cell_type": "markdown",
   "source": [
    "# Etude scientifique du PerceiverIO\n",
    "### Sujet de Nicolas Ragot - Polytech Tours\n",
    "\n",
    "**Etudiants :**\n",
    "- Theo Boisseau (theo.boisseau@etu.univ-tours.fr)\n",
    "- Sarah Denis (sarah.denis-2@etu.univ-tours.fr)"
   ],
   "metadata": {
    "collapsed": false
   }
  },
  {
   "cell_type": "markdown",
   "source": [
    "# Description:\n",
    "\n",
    "Ce Notebook vient en complément du rapport **BOISSEAU_DENIS_Projet_PerceiverIO**.\n",
    "\n",
    "Le but de cet exemple est d'aider à la compréhension de l'utilisation de l'outil de deep\n",
    " learning **PerceiverIO** créé par *DeepMind* en créant de l'information sur ses performances et son efficacité.\n",
    "\n",
    "Les données sont récoltées à partir de ***analysis.ipynb***\n",
    "\n",
    "Les éléments fournis sont les suivants:\n",
    "- dossier de définition du modèle (perceiver)\n",
    "- librairie de fonctions pour personnaliser le masquage\n",
    "- notebook pour exécuter le modèle (analysis.ipynb)"
   ],
   "metadata": {
    "collapsed": false
   }
  },
  {
   "cell_type": "markdown",
   "source": [
    "# Sommaire :\n",
    "1. [Chargement des Modules et configuration du modèle](#1-bullet)\n",
    "2. [Acquisition des données](#1-bullet)\n",
    "3. [Etude des données](#2-bullet)"
   ],
   "metadata": {
    "collapsed": false
   }
  },
  {
   "cell_type": "markdown",
   "source": [
    "# [1. Chargement des Modules et configuration du modèle](#1-bullet)"
   ],
   "metadata": {
    "collapsed": false,
    "pycharm": {
     "name": "#%% md\n"
    }
   }
  },
  {
   "cell_type": "code",
   "execution_count": 25,
   "metadata": {
    "collapsed": true
   },
   "outputs": [],
   "source": [
    "import datetime as dt\n",
    "from IPython.utils import io\n",
    "# Pickle est un module permettant la (dé)sérialisation\n",
    "import pickle\n",
    "import numpy as np"
   ]
  },
  {
   "cell_type": "code",
   "execution_count": 26,
   "outputs": [
    {
     "name": "stdout",
     "output_type": "stream",
     "text": [
      "Les hyperparametres ont ete charges.\n"
     ]
    }
   ],
   "source": [
    "# On deserialise les valeurs des hyperparametres du modele.\n",
    "\n",
    "try: params\n",
    "except NameError:\n",
    "    try:\n",
    "        print(\"Chargement des hyperparametres...\")\n",
    "        with open(\"./data/language_perceiver_io_bytes.pickle\", \"rb\") as f:\n",
    "            params = pickle.loads(f.read())\n",
    "    except (FileNotFoundError, pickle.UnpicklingError):\n",
    "        print(\"Aucun trouves. Telechargement des hyperparametres.\")\n",
    "        !wget -O ./data/language_perceiver_io_bytes.pickle \\\n",
    "                https://storage.googleapis.com/perceiver_io/language_perceiver_io_bytes.pickle\n",
    "\n",
    "assert type(params).__name__ == 'FlatMapping'\n",
    "print(\"Les hyperparametres ont ete charges.\")"
   ],
   "metadata": {
    "collapsed": false,
    "pycharm": {
     "name": "#%%\n"
    }
   }
  },
  {
   "cell_type": "markdown",
   "source": [
    "# [1. Acquisition des données](#1-bullet)"
   ],
   "metadata": {
    "collapsed": false
   }
  },
  {
   "cell_type": "code",
   "execution_count": 27,
   "outputs": [
    {
     "name": "stdout",
     "output_type": "stream",
     "text": [
      "Writing 'log' (str) to file './results/logs.txt'.\n",
      "L'execution avec un pourcentage de 5% a dure 0.8112705714285714s et a obtenu un score de 0.25\n",
      "\n",
      "Writing 'log' (str) to file './results/logs.txt'.\n",
      "L'execution avec un pourcentage de 10% a dure 0.8092906428571428s et a obtenu un score de 0.25\n",
      "\n",
      "Writing 'log' (str) to file './results/logs.txt'.\n",
      "L'execution avec un pourcentage de 15% a dure 0.7986243928571428s et a obtenu un score de 0.25\n",
      "\n",
      "Writing 'log' (str) to file './results/logs.txt'.\n",
      "L'execution avec un pourcentage de 20% a dure 0.7925185357142857s et a obtenu un score de 0.25\n",
      "\n",
      "Writing 'log' (str) to file './results/logs.txt'.\n",
      "L'execution avec un pourcentage de 25% a dure 0.8003128571428572s et a obtenu un score de 0.25\n",
      "\n",
      "Writing 'log' (str) to file './results/logs.txt'.\n",
      "L'execution avec un pourcentage de 30% a dure 0.7923181071428571s et a obtenu un score de 0.25\n",
      "\n",
      "Writing 'log' (str) to file './results/logs.txt'.\n",
      "L'execution avec un pourcentage de 35% a dure 0.8221476071428572s et a obtenu un score de 0.25\n",
      "\n",
      "Writing 'log' (str) to file './results/logs.txt'.\n",
      "L'execution avec un pourcentage de 40% a dure 0.8121443214285715s et a obtenu un score de 0.25\n",
      "\n",
      "Writing 'log' (str) to file './results/logs.txt'.\n",
      "L'execution avec un pourcentage de 45% a dure 0.8098531428571428s et a obtenu un score de 0.25\n",
      "\n",
      "Writing 'log' (str) to file './results/logs.txt'.\n",
      "L'execution avec un pourcentage de 50% a dure 0.8108744285714286s et a obtenu un score de 0.25\n",
      "\n",
      "Writing 'log' (str) to file './results/logs.txt'.\n",
      "L'execution avec un pourcentage de 55% a dure 0.8067654285714285s et a obtenu un score de 0.25\n",
      "\n",
      "Writing 'log' (str) to file './results/logs.txt'.\n",
      "L'execution avec un pourcentage de 60% a dure 0.8114279285714286s et a obtenu un score de 0.25\n",
      "\n",
      "Writing 'log' (str) to file './results/logs.txt'.\n",
      "L'execution avec un pourcentage de 65% a dure 0.8203350357142857s et a obtenu un score de 0.25\n",
      "\n",
      "Writing 'log' (str) to file './results/logs.txt'.\n",
      "L'execution avec un pourcentage de 70% a dure 0.8148005714285714s et a obtenu un score de 0.25\n",
      "\n",
      "Writing 'log' (str) to file './results/logs.txt'.\n",
      "L'execution avec un pourcentage de 75% a dure 0.7903933571428572s et a obtenu un score de 0.25\n",
      "\n",
      "Writing 'log' (str) to file './results/logs.txt'.\n",
      "L'execution avec un pourcentage de 80% a dure 0.7889548571428572s et a obtenu un score de 0.25\n",
      "\n",
      "Writing 'log' (str) to file './results/logs.txt'.\n",
      "L'execution avec un pourcentage de 85% a dure 0.78802725s et a obtenu un score de 0.25\n",
      "\n",
      "Writing 'log' (str) to file './results/logs.txt'.\n",
      "L'execution avec un pourcentage de 90% a dure 0.7864195714285714s et a obtenu un score de 0.25\n",
      "\n",
      "Writing 'log' (str) to file './results/logs.txt'.\n",
      "L'execution avec un pourcentage de 95% a dure 0.7873776428571428s et a obtenu un score de 0.25\n",
      "\n"
     ]
    }
   ],
   "source": [
    "\n",
    "maskEndOfSentences = None\n",
    "# Pour cacher la 'Progression dans les echantillons' il faut mettre display=True\n",
    "with io.capture_output(display=False) as outputCaptured:\n",
    "    %run experiment.ipynb\n",
    "log = \"<\"+str(startTime_model)+\">\\n\"+outputCaptured.stdout+\"\\n</\"+str(endTime_model)+\">\\n\"\n",
    "%store log >>./results/logs.txt\n",
    "'''\n",
    "start,stop,step = 5,100,5\n",
    "timers = [ 0.0 for percentage in range(start,stop,step) ]\n",
    "efficiencies = [ 1.0 for percentage in range(start,stop,step) ]\n",
    "standard_deviation = [ 0.0 for percentage in range(start,stop,step) ]\n",
    "\n",
    "for percentage in range(start,stop,step):\n",
    "    # Pour cacher la 'Progression dans les echantillons' il faut mettre display=True\n",
    "    with io.capture_output(display=True) as outputCaptured:\n",
    "        %run experiment.ipynb\n",
    "    log = \"<\"+str(startTime_model)+\">\\n\"+outputCaptured.stdout+\"\\n</\"+str(endTime_model)+\">\\n\"\n",
    "    %store log >>./results/logs.txt\n",
    "\n",
    "    lists_iterator = int((percentage-start)/step)\n",
    "    efficiencies[lists_iterator] = model_efficiency\n",
    "    timers[lists_iterator] = (endTime_model - startTime_model).total_seconds()/dataSize\n",
    "    standard_deviation[lists_iterator] = np.std(efficiency_samples)\n",
    "    print(f\"L'execution avec un pourcentage de {percentage}% a dure {timers[lists_iterator]}s et a obtenu un score de {model_efficiency}\\n\")\n",
    "'''"
   ],
   "metadata": {
    "collapsed": false,
    "pycharm": {
     "name": "#%%\n"
    }
   }
  },
  {
   "cell_type": "markdown",
   "source": [
    "# [2. Etude des données](#2-bullet)"
   ],
   "metadata": {
    "collapsed": false,
    "pycharm": {
     "name": "#%% md\n"
    }
   }
  },
  {
   "cell_type": "code",
   "execution_count": 28,
   "outputs": [],
   "source": [
    "%matplotlib inline\n",
    "import matplotlib.pyplot as plt\n",
    "plt.style.use('seaborn-whitegrid')"
   ],
   "metadata": {
    "collapsed": false,
    "pycharm": {
     "name": "#%%\n"
    }
   }
  },
  {
   "cell_type": "code",
   "execution_count": 29,
   "outputs": [
    {
     "data": {
      "text/plain": "'\\n#debut : 21:36:43\\n#50% : 22:01:15 -> temps ecoule : 24:33\\n#fin : 22:19:30 -> temps ecoule : 42:47\\nprint(timers)\\nprint(min(timers),max(timers))\\nprint(sum(timers)/len(timers))\\nprint(efficiencies)\\nprint(min(efficiencies),max(efficiencies))\\nprint(sum(efficiencies)/len(efficiencies))\\n'"
     },
     "execution_count": 29,
     "metadata": {},
     "output_type": "execute_result"
    }
   ],
   "source": [
    "'''\n",
    "#debut : 21:36:43\n",
    "#50% : 22:01:15 -> temps ecoule : 24:33\n",
    "#fin : 22:19:30 -> temps ecoule : 42:47\n",
    "print(timers)\n",
    "print(min(timers),max(timers))\n",
    "print(sum(timers)/len(timers))\n",
    "print(efficiencies)\n",
    "print(min(efficiencies),max(efficiencies))\n",
    "print(sum(efficiencies)/len(efficiencies))\n",
    "'''"
   ],
   "metadata": {
    "collapsed": false,
    "pycharm": {
     "name": "#%%\n"
    }
   }
  },
  {
   "cell_type": "code",
   "execution_count": 30,
   "outputs": [
    {
     "data": {
      "text/plain": "'\\n# Pourcentage de réussite\\npercentages = [i for i in range(start,stop,step)]\\nplt.title(\"Succeed percentages\")\\nplt.xlabel(\"Percentages of masked words\")\\nplt.ylabel(\"Efficiencies\")\\nplt.plot(percentages, efficiencies)\\nplt.show()\\n\\n# Temps d\\'exécution\\nplt.title(\"Average execution time per sentences\")\\nplt.xlabel(\"Percentages of masked words\")\\nplt.ylabel(\"Time (s)\")\\nplt.plot(percentages, timers)\\nplt.show()\\n\\n# Ecarts types\\nplt.title(\"Standard deviation of efficiency samples\")\\nplt.xlabel(\"Percentages of masked words\")\\nplt.ylabel(\"Standard deviation\")\\nplt.plot(percentages, standard_deviation)\\nplt.show()\\n'"
     },
     "execution_count": 30,
     "metadata": {},
     "output_type": "execute_result"
    }
   ],
   "source": [
    "'''\n",
    "# Pourcentage de réussite\n",
    "percentages = [i for i in range(start,stop,step)]\n",
    "plt.title(\"Succeed percentages\")\n",
    "plt.xlabel(\"Percentages of masked words\")\n",
    "plt.ylabel(\"Efficiencies\")\n",
    "plt.plot(percentages, efficiencies)\n",
    "plt.show()\n",
    "\n",
    "# Temps d'exécution\n",
    "plt.title(\"Average execution time per sentences\")\n",
    "plt.xlabel(\"Percentages of masked words\")\n",
    "plt.ylabel(\"Time (s)\")\n",
    "plt.plot(percentages, timers)\n",
    "plt.show()\n",
    "\n",
    "# Ecarts types\n",
    "plt.title(\"Standard deviation of efficiency samples\")\n",
    "plt.xlabel(\"Percentages of masked words\")\n",
    "plt.ylabel(\"Standard deviation\")\n",
    "plt.plot(percentages, standard_deviation)\n",
    "plt.show()\n",
    "'''"
   ],
   "metadata": {
    "collapsed": false,
    "pycharm": {
     "name": "#%%\n"
    }
   }
  }
 ],
 "metadata": {
  "kernelspec": {
   "display_name": "Python 3",
   "language": "python",
   "name": "python3"
  },
  "language_info": {
   "codemirror_mode": {
    "name": "ipython",
    "version": 2
   },
   "file_extension": ".py",
   "mimetype": "text/x-python",
   "name": "python",
   "nbconvert_exporter": "python",
   "pygments_lexer": "ipython2",
   "version": "2.7.6"
  }
 },
 "nbformat": 4,
 "nbformat_minor": 0
}