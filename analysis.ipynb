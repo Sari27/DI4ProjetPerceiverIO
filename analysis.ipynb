{
 "cells": [
  {
   "cell_type": "code",
   "execution_count": 179,
   "metadata": {
    "collapsed": true
   },
   "outputs": [],
   "source": [
    "from typing import Union\n",
    "\n",
    "# Haiku permet aux utilisateurs d'utiliser des modèles de POO tout en permettant un accès complet aux transformations de fonctions pures de JAX pour les reseaux neuronaux.\n",
    "import haiku as hk\n",
    "# JAX est concue pour le calcul numérique à haute performance, notamment pour la recherche en apprentissage automatique.\n",
    "import jax\n",
    "import jax.numpy as jnp\n",
    "# NumPy ajoute un support pour les grands tableaux multidimensionnels et les matrices, ainsi qu'une grande collection de fonctions mathématiques pour opérer sur ces tableaux.\n",
    "import numpy as np\n",
    "# Pickle est un module permettant la (dé)sérialisation\n",
    "import pickle\n",
    "\n",
    "import perceiver\n",
    "import position_encoding\n",
    "import io_processors\n",
    "import bytes_tokenizer\n",
    "import random_masked_language as rml"
   ]
  },
  {
   "cell_type": "code",
   "execution_count": 180,
   "outputs": [],
   "source": [
    "#@title Model config\n",
    "D_MODEL = 768\n",
    "D_LATENTS = 1280\n",
    "MAX_SEQ_LEN = 2048\n",
    "\n",
    "encoder_config = dict(\n",
    "    num_self_attends_per_block=26,\n",
    "    num_blocks=1,\n",
    "    z_index_dim=256,\n",
    "    num_z_channels=D_LATENTS,\n",
    "    num_self_attend_heads=8,\n",
    "    num_cross_attend_heads=8,\n",
    "    qk_channels=8 * 32,\n",
    "    v_channels=D_LATENTS,\n",
    "    use_query_residual=True,\n",
    "    cross_attend_widening_factor=1,\n",
    "    self_attend_widening_factor=1)\n",
    "\n",
    "decoder_config = dict(\n",
    "    output_num_channels=D_LATENTS,\n",
    "    position_encoding_type='trainable',\n",
    "    output_index_dims=MAX_SEQ_LEN,\n",
    "    num_z_channels=D_LATENTS,\n",
    "    qk_channels=8 * 32,\n",
    "    v_channels=D_MODEL,\n",
    "    num_heads=8,\n",
    "    final_project=False,\n",
    "    use_query_residual=False,\n",
    "    trainable_position_encoding_kwargs=dict(num_channels=D_MODEL))\n",
    "\n",
    "# The tokenizer is just UTF-8 encoding (with an offset)\n",
    "tokenizer = bytes_tokenizer.BytesTokenizer()"
   ],
   "metadata": {
    "collapsed": false,
    "pycharm": {
     "name": "#%%\n"
    }
   }
  },
  {
   "cell_type": "code",
   "execution_count": 181,
   "outputs": [],
   "source": [
    "# Agrandit les tableaux inputs et input_mask pour qu'ils aient\n",
    "# une taille de max_sequence_length, et les remplit avec des 0\n",
    "def pad(max_sequence_length: int, inputs, input_mask):\n",
    "  input_len = inputs.shape[1]\n",
    "  assert input_len <= max_sequence_length\n",
    "  pad_len = max_sequence_length - input_len\n",
    "  padded_inputs = np.pad(\n",
    "      inputs,\n",
    "      pad_width=((0, 0), (0, pad_len)),\n",
    "      constant_values=tokenizer.pad_token)\n",
    "  padded_mask = np.pad(\n",
    "      input_mask,\n",
    "      pad_width=((0, 0), (0, pad_len)),\n",
    "      constant_values=0)\n",
    "  return padded_inputs, padded_mask"
   ],
   "metadata": {
    "collapsed": false,
    "pycharm": {
     "name": "#%%\n"
    }
   }
  },
  {
   "cell_type": "code",
   "execution_count": 182,
   "outputs": [],
   "source": [
    "#@title Decoding Perceiver Model\n",
    "def apply_perceiver(\n",
    "    inputs: jnp.ndarray, input_mask: jnp.ndarray) -> jnp.ndarray:\n",
    "  \"\"\"Runs a forward pass on the Perceiver.\n",
    "\n",
    "  Args:\n",
    "    inputs: input bytes, an int array of shape [B, T]\n",
    "    input_mask: Array of shape indicating which entries are valid and which are\n",
    "      masked. A truthy value indicates that the entry is valid.\n",
    "\n",
    "  Returns:\n",
    "    The output logits, an array of shape [B, T, vocab_size].\n",
    "  \"\"\"\n",
    "  assert inputs.shape[1] == MAX_SEQ_LEN\n",
    "  # EXCEPTION A GERER : LE TEXTE EST TROP LONG, IL FAUT LE SEPARER EN DES ENSEMBLES DE\n",
    "  # PHRASES DE MOINS DE MAX_SEQ_LEN CARACTRES\n",
    "\n",
    "  # https://gdcoder.com/what-is-an-embedding-layer/\n",
    "  # Une couche d'integration convertie l'input en un ensemble de vecteurs\n",
    "  # d'integration dont les tailles sont optimisees pour le calcul\n",
    "\n",
    "  # Creation de la couche d'integration selon le nombre de mots distincts dans\n",
    "  # le training set et la dimension voulue des vecteurs d'integrations\n",
    "  embedding_layer = hk.Embed(\n",
    "      vocab_size=tokenizer.vocab_size,\n",
    "      embed_dim=D_MODEL)\n",
    "  # Conversion de l'input pour rentrer dans la 1ere couche (couche d'integration)\n",
    "  embedded_inputs = embedding_layer(inputs)\n",
    "\n",
    "  # Taille de la conversion de l'input\n",
    "  batch_size = embedded_inputs.shape[0]\n",
    "\n",
    "  # Parametres de construction des informations entrainables a propos de\n",
    "  # la position des mots dans la phrase\n",
    "  input_pos_encoding = perceiver.position_encoding.TrainablePositionEncoding(\n",
    "      index_dim=MAX_SEQ_LEN, num_channels=D_MODEL)\n",
    "  #print(input_pos_encoding(batch_size))\n",
    "  # Ajout des informations de position des mots a l'input\n",
    "  embedded_inputs = embedded_inputs + input_pos_encoding(batch_size)\n",
    "  # Initialisation du PerceiverIO\n",
    "  perceiver_mod = perceiver.Perceiver(\n",
    "      encoder=perceiver.PerceiverEncoder(**encoder_config),\n",
    "      decoder=perceiver.BasicDecoder(**decoder_config))\n",
    "  # Stockage dans output du resultat de l'execution du PerceiverIO a partir de la 1ere couche\n",
    "  output_embeddings = perceiver_mod(\n",
    "      embedded_inputs, is_training=False, input_mask=input_mask, query_mask=input_mask)\n",
    "\n",
    "  # Redimensionnement et decodage de l'output\n",
    "  logits = io_processors.EmbeddingDecoder(\n",
    "      embedding_matrix=embedding_layer.embeddings)(output_embeddings)\n",
    "  return logits\n",
    "\n",
    "# La transformation de la fonction lui permettra plus tard de lui\n",
    "# passer des parametres pre-enregistres\n",
    "# input_pos_encoding sera notamment ecrase par celui pre-enregistre\n",
    "apply_perceiver = hk.transform(apply_perceiver).apply"
   ],
   "metadata": {
    "collapsed": false,
    "pycharm": {
     "name": "#%%\n"
    }
   }
  },
  {
   "cell_type": "code",
   "execution_count": 183,
   "outputs": [],
   "source": [
    "# On deserialise les valeurs des hyperparametres du modele.\n",
    "with open(\"language_perceiver_io_bytes.pickle\", \"rb\") as f:\n",
    "  params = pickle.loads(f.read())"
   ],
   "metadata": {
    "collapsed": false,
    "pycharm": {
     "name": "#%%\n"
    }
   }
  },
  {
   "cell_type": "code",
   "execution_count": 184,
   "outputs": [
    {
     "name": "stdout",
     "output_type": "stream",
     "text": [
      "Number of sentences too long : 0\n"
     ]
    }
   ],
   "source": [
    "# On prend un texte pour les tests\n",
    "with open('exampleText.txt', 'r') as f:\n",
    "    inputs_str = f.read()\n",
    "\n",
    "#pre-traitement des donnees\n",
    "inputs_str = inputs_str.replace('\\n', ' ')\n",
    "inputs_str = inputs_str.replace('  ', ' ')\n",
    "inputs_str = inputs_str.replace('--a', '')\n",
    "inputs_str = inputs_str.replace('--', '-')\n",
    "inputs_str = inputs_str.split(\". \")\n",
    "for sentenceIndex in range(len(inputs_str)):\n",
    "    if len(inputs_str[sentenceIndex]) > MAX_SEQ_LEN:\n",
    "        del inputs_str[sentenceIndex]\n",
    "        --sentenceIndex\n",
    "    else:\n",
    "        inputs_str[sentenceIndex] += '.'\n",
    "print(\"Number of sentences too long : \" + str(len(inputs_str)-1 - sentenceIndex))\n",
    "\n",
    "dataSize = sentenceIndex+1\n",
    "data = [\n",
    "    {\n",
    "        \"input_str\":None,\n",
    "        \"maskedwords\":None,\n",
    "        \"maskedwordsIndexesInData\":None,\n",
    "        \"maskedwordsIndexesInStr\":None,\n",
    "        \"input_tokens\":None,\n",
    "        \"inputs\":None,\n",
    "        \"input_mask\":None,\n",
    "        \"out\":None,\n",
    "        \"masked_tokens_predictions\":None\n",
    "    } for iterator in range(dataSize)\n",
    "]\n",
    "\n",
    "for sentenceIndex in range(dataSize):\n",
    "        data[sentenceIndex]['input_str'] = inputs_str[sentenceIndex]"
   ],
   "metadata": {
    "collapsed": false,
    "pycharm": {
     "name": "#%%\n"
    }
   }
  },
  {
   "cell_type": "code",
   "execution_count": 185,
   "outputs": [],
   "source": [
    "percentage = 20\n",
    "for iterator in range(len(data)):\n",
    "    data[iterator]['maskedwords'], data[iterator]['maskedwordsIndexesInData'] = rml.chooseMaskedWords(data[iterator]['input_str'], percentage)\n",
    "    data[iterator]['maskedwordsIndexesInStr'] = rml.findIndexes(data[iterator]['input_str'], data[iterator]['maskedwordsIndexesInData'])\n",
    "    data[iterator]['input_tokens'] = rml.stringWithMaskedWords(data[iterator]['input_str'], data[iterator]['maskedwordsIndexesInStr'])\n",
    "    #print(data[iterator]['maskedwords'])\n",
    "    #print(data[iterator]['input_tokens'])"
   ],
   "metadata": {
    "collapsed": false,
    "pycharm": {
     "name": "#%%\n"
    }
   }
  },
  {
   "cell_type": "code",
   "execution_count": 186,
   "outputs": [],
   "source": [
    "for iterator in range(len(data)):\n",
    "    # inputs est le tableau d'entiers avec une dimension supplementaire\n",
    "    # c'est comme si on mettait le tableau inputs a l'interieur d'un nouveau tableau\n",
    "    data[iterator]['inputs'] = data[iterator]['input_tokens'][None]\n",
    "\n",
    "    # input_mask est l'equivalent unitaire de inputs :\n",
    "    # pour toutes les valeurs d'inputs, on met un 1\n",
    "    data[iterator]['input_mask'] = np.ones_like(data[iterator]['inputs'])\n",
    "\n",
    "    data[iterator]['inputs'], data[iterator]['input_mask'] = pad(MAX_SEQ_LEN, data[iterator]['inputs'], data[iterator]['input_mask'])"
   ],
   "metadata": {
    "collapsed": false,
    "pycharm": {
     "name": "#%%\n"
    }
   }
  },
  {
   "cell_type": "code",
   "execution_count": 190,
   "outputs": [
    {
     "name": "stdout",
     "output_type": "stream",
     "text": [
      "Progression : 1%\n"
     ]
    },
    {
     "ename": "KeyboardInterrupt",
     "evalue": "",
     "output_type": "error",
     "traceback": [
      "\u001B[0;31m---------------------------------------------------------------------------\u001B[0m",
      "\u001B[0;31mKeyboardInterrupt\u001B[0m                         Traceback (most recent call last)",
      "\u001B[0;32m/tmp/ipykernel_280/13391903.py\u001B[0m in \u001B[0;36m<module>\u001B[0;34m\u001B[0m\n\u001B[1;32m      4\u001B[0m \u001B[0;31m#print(params)\u001B[0m\u001B[0;34m\u001B[0m\u001B[0;34m\u001B[0m\u001B[0;34m\u001B[0m\u001B[0m\n\u001B[1;32m      5\u001B[0m \u001B[0;32mfor\u001B[0m \u001B[0miterator\u001B[0m \u001B[0;32min\u001B[0m \u001B[0mrange\u001B[0m\u001B[0;34m(\u001B[0m\u001B[0mlen\u001B[0m\u001B[0;34m(\u001B[0m\u001B[0mdata\u001B[0m\u001B[0;34m)\u001B[0m\u001B[0;34m)\u001B[0m\u001B[0;34m:\u001B[0m\u001B[0;34m\u001B[0m\u001B[0;34m\u001B[0m\u001B[0m\n\u001B[0;32m----> 6\u001B[0;31m     \u001B[0mcurrentOut\u001B[0m \u001B[0;34m=\u001B[0m \u001B[0mdata\u001B[0m\u001B[0;34m[\u001B[0m\u001B[0miterator\u001B[0m\u001B[0;34m]\u001B[0m\u001B[0;34m[\u001B[0m\u001B[0;34m'out'\u001B[0m\u001B[0;34m]\u001B[0m \u001B[0;34m=\u001B[0m \u001B[0mapply_perceiver\u001B[0m\u001B[0;34m(\u001B[0m\u001B[0mparams\u001B[0m\u001B[0;34m,\u001B[0m \u001B[0mrng\u001B[0m\u001B[0;34m=\u001B[0m\u001B[0mrng\u001B[0m\u001B[0;34m,\u001B[0m \u001B[0minputs\u001B[0m\u001B[0;34m=\u001B[0m\u001B[0mdata\u001B[0m\u001B[0;34m[\u001B[0m\u001B[0miterator\u001B[0m\u001B[0;34m]\u001B[0m\u001B[0;34m[\u001B[0m\u001B[0;34m'inputs'\u001B[0m\u001B[0;34m]\u001B[0m\u001B[0;34m,\u001B[0m \u001B[0minput_mask\u001B[0m\u001B[0;34m=\u001B[0m\u001B[0mdata\u001B[0m\u001B[0;34m[\u001B[0m\u001B[0miterator\u001B[0m\u001B[0;34m]\u001B[0m\u001B[0;34m[\u001B[0m\u001B[0;34m'input_mask'\u001B[0m\u001B[0;34m]\u001B[0m\u001B[0;34m)\u001B[0m\u001B[0;34m\u001B[0m\u001B[0;34m\u001B[0m\u001B[0m\n\u001B[0m\u001B[1;32m      7\u001B[0m \u001B[0;34m\u001B[0m\u001B[0m\n\u001B[1;32m      8\u001B[0m     \u001B[0mcurrentMasked_tokens_predictions\u001B[0m \u001B[0;34m=\u001B[0m \u001B[0mdata\u001B[0m\u001B[0;34m[\u001B[0m\u001B[0miterator\u001B[0m\u001B[0;34m]\u001B[0m\u001B[0;34m[\u001B[0m\u001B[0;34m'masked_tokens_predictions'\u001B[0m\u001B[0;34m]\u001B[0m \u001B[0;34m=\u001B[0m \u001B[0;34m[\u001B[0m\u001B[0;34m]\u001B[0m\u001B[0;34m\u001B[0m\u001B[0;34m\u001B[0m\u001B[0m\n",
      "\u001B[0;32m~/.venv/perceiver/lib/python3.8/site-packages/haiku/_src/transform.py\u001B[0m in \u001B[0;36mapply_fn\u001B[0;34m(params, *args, **kwargs)\u001B[0m\n\u001B[1;32m    123\u001B[0m           \"name (e.g. `f.apply(.., state=my_state)`)\")\n\u001B[1;32m    124\u001B[0m \u001B[0;34m\u001B[0m\u001B[0m\n\u001B[0;32m--> 125\u001B[0;31m     \u001B[0mout\u001B[0m\u001B[0;34m,\u001B[0m \u001B[0mstate\u001B[0m \u001B[0;34m=\u001B[0m \u001B[0mf\u001B[0m\u001B[0;34m.\u001B[0m\u001B[0mapply\u001B[0m\u001B[0;34m(\u001B[0m\u001B[0mparams\u001B[0m\u001B[0;34m,\u001B[0m \u001B[0;34m{\u001B[0m\u001B[0;34m}\u001B[0m\u001B[0;34m,\u001B[0m \u001B[0;34m*\u001B[0m\u001B[0margs\u001B[0m\u001B[0;34m,\u001B[0m \u001B[0;34m**\u001B[0m\u001B[0mkwargs\u001B[0m\u001B[0;34m)\u001B[0m\u001B[0;34m\u001B[0m\u001B[0;34m\u001B[0m\u001B[0m\n\u001B[0m\u001B[1;32m    126\u001B[0m     \u001B[0;32mif\u001B[0m \u001B[0mstate\u001B[0m\u001B[0;34m:\u001B[0m\u001B[0;34m\u001B[0m\u001B[0;34m\u001B[0m\u001B[0m\n\u001B[1;32m    127\u001B[0m       raise ValueError(\"If your transformed function uses `hk.{get,set}_state` \"\n",
      "\u001B[0;32m~/.venv/perceiver/lib/python3.8/site-packages/haiku/_src/transform.py\u001B[0m in \u001B[0;36mapply_fn\u001B[0;34m(params, state, rng, *args, **kwargs)\u001B[0m\n\u001B[1;32m    311\u001B[0m         rng, err_msg=(APPLY_RNG_STATE_ERROR if state else APPLY_RNG_ERROR))\n\u001B[1;32m    312\u001B[0m     \u001B[0;32mwith\u001B[0m \u001B[0mbase\u001B[0m\u001B[0;34m.\u001B[0m\u001B[0mnew_context\u001B[0m\u001B[0;34m(\u001B[0m\u001B[0mparams\u001B[0m\u001B[0;34m=\u001B[0m\u001B[0mparams\u001B[0m\u001B[0;34m,\u001B[0m \u001B[0mstate\u001B[0m\u001B[0;34m=\u001B[0m\u001B[0mstate\u001B[0m\u001B[0;34m,\u001B[0m \u001B[0mrng\u001B[0m\u001B[0;34m=\u001B[0m\u001B[0mrng\u001B[0m\u001B[0;34m)\u001B[0m \u001B[0;32mas\u001B[0m \u001B[0mctx\u001B[0m\u001B[0;34m:\u001B[0m\u001B[0;34m\u001B[0m\u001B[0;34m\u001B[0m\u001B[0m\n\u001B[0;32m--> 313\u001B[0;31m       \u001B[0mout\u001B[0m \u001B[0;34m=\u001B[0m \u001B[0mf\u001B[0m\u001B[0;34m(\u001B[0m\u001B[0;34m*\u001B[0m\u001B[0margs\u001B[0m\u001B[0;34m,\u001B[0m \u001B[0;34m**\u001B[0m\u001B[0mkwargs\u001B[0m\u001B[0;34m)\u001B[0m\u001B[0;34m\u001B[0m\u001B[0;34m\u001B[0m\u001B[0m\n\u001B[0m\u001B[1;32m    314\u001B[0m     \u001B[0;32mreturn\u001B[0m \u001B[0mout\u001B[0m\u001B[0;34m,\u001B[0m \u001B[0mctx\u001B[0m\u001B[0;34m.\u001B[0m\u001B[0mcollect_state\u001B[0m\u001B[0;34m(\u001B[0m\u001B[0;34m)\u001B[0m\u001B[0;34m\u001B[0m\u001B[0;34m\u001B[0m\u001B[0m\n\u001B[1;32m    315\u001B[0m \u001B[0;34m\u001B[0m\u001B[0m\n",
      "\u001B[0;32m/tmp/ipykernel_280/3500257900.py\u001B[0m in \u001B[0;36mapply_perceiver\u001B[0;34m(inputs, input_mask)\u001B[0m\n\u001B[1;32m     43\u001B[0m       decoder=perceiver.BasicDecoder(**decoder_config))\n\u001B[1;32m     44\u001B[0m   \u001B[0;31m# Stockage dans output du resultat de l'execution du PerceiverIO a partir de la 1ere couche\u001B[0m\u001B[0;34m\u001B[0m\u001B[0;34m\u001B[0m\u001B[0;34m\u001B[0m\u001B[0m\n\u001B[0;32m---> 45\u001B[0;31m   output_embeddings = perceiver_mod(\n\u001B[0m\u001B[1;32m     46\u001B[0m       embedded_inputs, is_training=False, input_mask=input_mask, query_mask=input_mask)\n\u001B[1;32m     47\u001B[0m \u001B[0;34m\u001B[0m\u001B[0m\n",
      "\u001B[0;32m~/.venv/perceiver/lib/python3.8/site-packages/haiku/_src/module.py\u001B[0m in \u001B[0;36mwrapped\u001B[0;34m(self, *args, **kwargs)\u001B[0m\n\u001B[1;32m    426\u001B[0m         \u001B[0mf\u001B[0m \u001B[0;34m=\u001B[0m \u001B[0mstateful\u001B[0m\u001B[0;34m.\u001B[0m\u001B[0mnamed_call\u001B[0m\u001B[0;34m(\u001B[0m\u001B[0mf\u001B[0m\u001B[0;34m,\u001B[0m \u001B[0mname\u001B[0m\u001B[0;34m=\u001B[0m\u001B[0mlocal_name\u001B[0m\u001B[0;34m)\u001B[0m\u001B[0;34m\u001B[0m\u001B[0;34m\u001B[0m\u001B[0m\n\u001B[1;32m    427\u001B[0m \u001B[0;34m\u001B[0m\u001B[0m\n\u001B[0;32m--> 428\u001B[0;31m       \u001B[0mout\u001B[0m \u001B[0;34m=\u001B[0m \u001B[0mf\u001B[0m\u001B[0;34m(\u001B[0m\u001B[0;34m*\u001B[0m\u001B[0margs\u001B[0m\u001B[0;34m,\u001B[0m \u001B[0;34m**\u001B[0m\u001B[0mkwargs\u001B[0m\u001B[0;34m)\u001B[0m\u001B[0;34m\u001B[0m\u001B[0;34m\u001B[0m\u001B[0m\n\u001B[0m\u001B[1;32m    429\u001B[0m \u001B[0;34m\u001B[0m\u001B[0m\n\u001B[1;32m    430\u001B[0m       \u001B[0;31m# Module names are set in the constructor. If `f` is the constructor then\u001B[0m\u001B[0;34m\u001B[0m\u001B[0;34m\u001B[0m\u001B[0;34m\u001B[0m\u001B[0m\n",
      "\u001B[0;32m~/.venv/perceiver/lib/python3.8/site-packages/haiku/_src/module.py\u001B[0m in \u001B[0;36mrun_interceptors\u001B[0;34m(bound_method, method_name, self, *args, **kwargs)\u001B[0m\n\u001B[1;32m    277\u001B[0m   \u001B[0;34m\"\"\"Runs any method interceptors or the original method.\"\"\"\u001B[0m\u001B[0;34m\u001B[0m\u001B[0;34m\u001B[0m\u001B[0m\n\u001B[1;32m    278\u001B[0m   \u001B[0;32mif\u001B[0m \u001B[0;32mnot\u001B[0m \u001B[0minterceptor_stack\u001B[0m\u001B[0;34m:\u001B[0m\u001B[0;34m\u001B[0m\u001B[0;34m\u001B[0m\u001B[0m\n\u001B[0;32m--> 279\u001B[0;31m     \u001B[0;32mreturn\u001B[0m \u001B[0mbound_method\u001B[0m\u001B[0;34m(\u001B[0m\u001B[0;34m*\u001B[0m\u001B[0margs\u001B[0m\u001B[0;34m,\u001B[0m \u001B[0;34m**\u001B[0m\u001B[0mkwargs\u001B[0m\u001B[0;34m)\u001B[0m\u001B[0;34m\u001B[0m\u001B[0;34m\u001B[0m\u001B[0m\n\u001B[0m\u001B[1;32m    280\u001B[0m \u001B[0;34m\u001B[0m\u001B[0m\n\u001B[1;32m    281\u001B[0m   ctx = MethodContext(module=self,\n",
      "\u001B[0;32m~/.venv/perceiver/DI4ProjetPerceiverIO/perceiver.py\u001B[0m in \u001B[0;36m__call__\u001B[0;34m(self, inputs, is_training, subsampled_output_points, pos, input_mask, query_mask)\u001B[0m\n\u001B[1;32m    373\u001B[0m \u001B[0;34m\u001B[0m\u001B[0m\n\u001B[1;32m    374\u001B[0m     \u001B[0;31m# Run the network forward:\u001B[0m\u001B[0;34m\u001B[0m\u001B[0;34m\u001B[0m\u001B[0;34m\u001B[0m\u001B[0m\n\u001B[0;32m--> 375\u001B[0;31m     z = self._encoder(inputs, encoder_query,\n\u001B[0m\u001B[1;32m    376\u001B[0m                       is_training=is_training, input_mask=input_mask)\n\u001B[1;32m    377\u001B[0m     _, output_modality_sizes = self._decoder.output_shape(\n",
      "\u001B[0;32m~/.venv/perceiver/lib/python3.8/site-packages/haiku/_src/module.py\u001B[0m in \u001B[0;36mwrapped\u001B[0;34m(self, *args, **kwargs)\u001B[0m\n\u001B[1;32m    426\u001B[0m         \u001B[0mf\u001B[0m \u001B[0;34m=\u001B[0m \u001B[0mstateful\u001B[0m\u001B[0;34m.\u001B[0m\u001B[0mnamed_call\u001B[0m\u001B[0;34m(\u001B[0m\u001B[0mf\u001B[0m\u001B[0;34m,\u001B[0m \u001B[0mname\u001B[0m\u001B[0;34m=\u001B[0m\u001B[0mlocal_name\u001B[0m\u001B[0;34m)\u001B[0m\u001B[0;34m\u001B[0m\u001B[0;34m\u001B[0m\u001B[0m\n\u001B[1;32m    427\u001B[0m \u001B[0;34m\u001B[0m\u001B[0m\n\u001B[0;32m--> 428\u001B[0;31m       \u001B[0mout\u001B[0m \u001B[0;34m=\u001B[0m \u001B[0mf\u001B[0m\u001B[0;34m(\u001B[0m\u001B[0;34m*\u001B[0m\u001B[0margs\u001B[0m\u001B[0;34m,\u001B[0m \u001B[0;34m**\u001B[0m\u001B[0mkwargs\u001B[0m\u001B[0;34m)\u001B[0m\u001B[0;34m\u001B[0m\u001B[0;34m\u001B[0m\u001B[0m\n\u001B[0m\u001B[1;32m    429\u001B[0m \u001B[0;34m\u001B[0m\u001B[0m\n\u001B[1;32m    430\u001B[0m       \u001B[0;31m# Module names are set in the constructor. If `f` is the constructor then\u001B[0m\u001B[0;34m\u001B[0m\u001B[0;34m\u001B[0m\u001B[0;34m\u001B[0m\u001B[0m\n",
      "\u001B[0;32m~/.venv/perceiver/lib/python3.8/site-packages/haiku/_src/module.py\u001B[0m in \u001B[0;36mrun_interceptors\u001B[0;34m(bound_method, method_name, self, *args, **kwargs)\u001B[0m\n\u001B[1;32m    277\u001B[0m   \u001B[0;34m\"\"\"Runs any method interceptors or the original method.\"\"\"\u001B[0m\u001B[0;34m\u001B[0m\u001B[0;34m\u001B[0m\u001B[0m\n\u001B[1;32m    278\u001B[0m   \u001B[0;32mif\u001B[0m \u001B[0;32mnot\u001B[0m \u001B[0minterceptor_stack\u001B[0m\u001B[0;34m:\u001B[0m\u001B[0;34m\u001B[0m\u001B[0;34m\u001B[0m\u001B[0m\n\u001B[0;32m--> 279\u001B[0;31m     \u001B[0;32mreturn\u001B[0m \u001B[0mbound_method\u001B[0m\u001B[0;34m(\u001B[0m\u001B[0;34m*\u001B[0m\u001B[0margs\u001B[0m\u001B[0;34m,\u001B[0m \u001B[0;34m**\u001B[0m\u001B[0mkwargs\u001B[0m\u001B[0;34m)\u001B[0m\u001B[0;34m\u001B[0m\u001B[0;34m\u001B[0m\u001B[0m\n\u001B[0m\u001B[1;32m    280\u001B[0m \u001B[0;34m\u001B[0m\u001B[0m\n\u001B[1;32m    281\u001B[0m   ctx = MethodContext(module=self,\n",
      "\u001B[0;32m~/.venv/perceiver/DI4ProjetPerceiverIO/perceiver.py\u001B[0m in \u001B[0;36m__call__\u001B[0;34m(self, inputs, z, is_training, input_mask)\u001B[0m\n\u001B[1;32m    468\u001B[0m     \u001B[0;32mfor\u001B[0m \u001B[0m_\u001B[0m \u001B[0;32min\u001B[0m \u001B[0mrange\u001B[0m\u001B[0;34m(\u001B[0m\u001B[0mself\u001B[0m\u001B[0;34m.\u001B[0m\u001B[0m_num_blocks\u001B[0m\u001B[0;34m)\u001B[0m\u001B[0;34m:\u001B[0m\u001B[0;34m\u001B[0m\u001B[0;34m\u001B[0m\u001B[0m\n\u001B[1;32m    469\u001B[0m       \u001B[0;32mfor\u001B[0m \u001B[0mself_attend\u001B[0m \u001B[0;32min\u001B[0m \u001B[0mself\u001B[0m\u001B[0;34m.\u001B[0m\u001B[0mself_attends\u001B[0m\u001B[0;34m:\u001B[0m\u001B[0;34m\u001B[0m\u001B[0;34m\u001B[0m\u001B[0m\n\u001B[0;32m--> 470\u001B[0;31m         \u001B[0mz\u001B[0m \u001B[0;34m=\u001B[0m \u001B[0mself_attend\u001B[0m\u001B[0;34m(\u001B[0m\u001B[0mz\u001B[0m\u001B[0;34m,\u001B[0m \u001B[0mis_training\u001B[0m\u001B[0;34m=\u001B[0m\u001B[0mis_training\u001B[0m\u001B[0;34m)\u001B[0m\u001B[0;34m\u001B[0m\u001B[0;34m\u001B[0m\u001B[0m\n\u001B[0m\u001B[1;32m    471\u001B[0m     \u001B[0;32mreturn\u001B[0m \u001B[0mz\u001B[0m\u001B[0;34m\u001B[0m\u001B[0;34m\u001B[0m\u001B[0m\n\u001B[1;32m    472\u001B[0m \u001B[0;34m\u001B[0m\u001B[0m\n",
      "\u001B[0;32m~/.venv/perceiver/lib/python3.8/site-packages/haiku/_src/module.py\u001B[0m in \u001B[0;36mwrapped\u001B[0;34m(self, *args, **kwargs)\u001B[0m\n\u001B[1;32m    426\u001B[0m         \u001B[0mf\u001B[0m \u001B[0;34m=\u001B[0m \u001B[0mstateful\u001B[0m\u001B[0;34m.\u001B[0m\u001B[0mnamed_call\u001B[0m\u001B[0;34m(\u001B[0m\u001B[0mf\u001B[0m\u001B[0;34m,\u001B[0m \u001B[0mname\u001B[0m\u001B[0;34m=\u001B[0m\u001B[0mlocal_name\u001B[0m\u001B[0;34m)\u001B[0m\u001B[0;34m\u001B[0m\u001B[0;34m\u001B[0m\u001B[0m\n\u001B[1;32m    427\u001B[0m \u001B[0;34m\u001B[0m\u001B[0m\n\u001B[0;32m--> 428\u001B[0;31m       \u001B[0mout\u001B[0m \u001B[0;34m=\u001B[0m \u001B[0mf\u001B[0m\u001B[0;34m(\u001B[0m\u001B[0;34m*\u001B[0m\u001B[0margs\u001B[0m\u001B[0;34m,\u001B[0m \u001B[0;34m**\u001B[0m\u001B[0mkwargs\u001B[0m\u001B[0;34m)\u001B[0m\u001B[0;34m\u001B[0m\u001B[0;34m\u001B[0m\u001B[0m\n\u001B[0m\u001B[1;32m    429\u001B[0m \u001B[0;34m\u001B[0m\u001B[0m\n\u001B[1;32m    430\u001B[0m       \u001B[0;31m# Module names are set in the constructor. If `f` is the constructor then\u001B[0m\u001B[0;34m\u001B[0m\u001B[0;34m\u001B[0m\u001B[0;34m\u001B[0m\u001B[0m\n",
      "\u001B[0;32m~/.venv/perceiver/lib/python3.8/site-packages/haiku/_src/module.py\u001B[0m in \u001B[0;36mrun_interceptors\u001B[0;34m(bound_method, method_name, self, *args, **kwargs)\u001B[0m\n\u001B[1;32m    277\u001B[0m   \u001B[0;34m\"\"\"Runs any method interceptors or the original method.\"\"\"\u001B[0m\u001B[0;34m\u001B[0m\u001B[0;34m\u001B[0m\u001B[0m\n\u001B[1;32m    278\u001B[0m   \u001B[0;32mif\u001B[0m \u001B[0;32mnot\u001B[0m \u001B[0minterceptor_stack\u001B[0m\u001B[0;34m:\u001B[0m\u001B[0;34m\u001B[0m\u001B[0;34m\u001B[0m\u001B[0m\n\u001B[0;32m--> 279\u001B[0;31m     \u001B[0;32mreturn\u001B[0m \u001B[0mbound_method\u001B[0m\u001B[0;34m(\u001B[0m\u001B[0;34m*\u001B[0m\u001B[0margs\u001B[0m\u001B[0;34m,\u001B[0m \u001B[0;34m**\u001B[0m\u001B[0mkwargs\u001B[0m\u001B[0;34m)\u001B[0m\u001B[0;34m\u001B[0m\u001B[0;34m\u001B[0m\u001B[0m\n\u001B[0m\u001B[1;32m    280\u001B[0m \u001B[0;34m\u001B[0m\u001B[0m\n\u001B[1;32m    281\u001B[0m   ctx = MethodContext(module=self,\n",
      "\u001B[0;32m~/.venv/perceiver/DI4ProjetPerceiverIO/perceiver.py\u001B[0m in \u001B[0;36m__call__\u001B[0;34m(self, inputs, attention_mask, is_training)\u001B[0m\n\u001B[1;32m    236\u001B[0m     \u001B[0mx\u001B[0m \u001B[0;34m=\u001B[0m \u001B[0minputs\u001B[0m\u001B[0;34m\u001B[0m\u001B[0;34m\u001B[0m\u001B[0m\n\u001B[1;32m    237\u001B[0m     \u001B[0mqkv_inputs\u001B[0m \u001B[0;34m=\u001B[0m \u001B[0mlayer_norm\u001B[0m\u001B[0;34m(\u001B[0m\u001B[0minputs\u001B[0m\u001B[0;34m)\u001B[0m\u001B[0;34m\u001B[0m\u001B[0;34m\u001B[0m\u001B[0m\n\u001B[0;32m--> 238\u001B[0;31m     attention = Attention(\n\u001B[0m\u001B[1;32m    239\u001B[0m         \u001B[0mnum_heads\u001B[0m\u001B[0;34m=\u001B[0m\u001B[0mself\u001B[0m\u001B[0;34m.\u001B[0m\u001B[0m_num_heads\u001B[0m\u001B[0;34m,\u001B[0m\u001B[0;34m\u001B[0m\u001B[0;34m\u001B[0m\u001B[0m\n\u001B[1;32m    240\u001B[0m         \u001B[0minit_scale\u001B[0m\u001B[0;34m=\u001B[0m\u001B[0mself\u001B[0m\u001B[0;34m.\u001B[0m\u001B[0m_att_init_scale\u001B[0m\u001B[0;34m,\u001B[0m\u001B[0;34m\u001B[0m\u001B[0;34m\u001B[0m\u001B[0m\n",
      "\u001B[0;32m~/.venv/perceiver/lib/python3.8/site-packages/haiku/_src/module.py\u001B[0m in \u001B[0;36mwrapped\u001B[0;34m(self, *args, **kwargs)\u001B[0m\n\u001B[1;32m    426\u001B[0m         \u001B[0mf\u001B[0m \u001B[0;34m=\u001B[0m \u001B[0mstateful\u001B[0m\u001B[0;34m.\u001B[0m\u001B[0mnamed_call\u001B[0m\u001B[0;34m(\u001B[0m\u001B[0mf\u001B[0m\u001B[0;34m,\u001B[0m \u001B[0mname\u001B[0m\u001B[0;34m=\u001B[0m\u001B[0mlocal_name\u001B[0m\u001B[0;34m)\u001B[0m\u001B[0;34m\u001B[0m\u001B[0;34m\u001B[0m\u001B[0m\n\u001B[1;32m    427\u001B[0m \u001B[0;34m\u001B[0m\u001B[0m\n\u001B[0;32m--> 428\u001B[0;31m       \u001B[0mout\u001B[0m \u001B[0;34m=\u001B[0m \u001B[0mf\u001B[0m\u001B[0;34m(\u001B[0m\u001B[0;34m*\u001B[0m\u001B[0margs\u001B[0m\u001B[0;34m,\u001B[0m \u001B[0;34m**\u001B[0m\u001B[0mkwargs\u001B[0m\u001B[0;34m)\u001B[0m\u001B[0;34m\u001B[0m\u001B[0;34m\u001B[0m\u001B[0m\n\u001B[0m\u001B[1;32m    429\u001B[0m \u001B[0;34m\u001B[0m\u001B[0m\n\u001B[1;32m    430\u001B[0m       \u001B[0;31m# Module names are set in the constructor. If `f` is the constructor then\u001B[0m\u001B[0;34m\u001B[0m\u001B[0;34m\u001B[0m\u001B[0;34m\u001B[0m\u001B[0m\n",
      "\u001B[0;32m~/.venv/perceiver/lib/python3.8/site-packages/haiku/_src/module.py\u001B[0m in \u001B[0;36mrun_interceptors\u001B[0;34m(bound_method, method_name, self, *args, **kwargs)\u001B[0m\n\u001B[1;32m    277\u001B[0m   \u001B[0;34m\"\"\"Runs any method interceptors or the original method.\"\"\"\u001B[0m\u001B[0;34m\u001B[0m\u001B[0;34m\u001B[0m\u001B[0m\n\u001B[1;32m    278\u001B[0m   \u001B[0;32mif\u001B[0m \u001B[0;32mnot\u001B[0m \u001B[0minterceptor_stack\u001B[0m\u001B[0;34m:\u001B[0m\u001B[0;34m\u001B[0m\u001B[0;34m\u001B[0m\u001B[0m\n\u001B[0;32m--> 279\u001B[0;31m     \u001B[0;32mreturn\u001B[0m \u001B[0mbound_method\u001B[0m\u001B[0;34m(\u001B[0m\u001B[0;34m*\u001B[0m\u001B[0margs\u001B[0m\u001B[0;34m,\u001B[0m \u001B[0;34m**\u001B[0m\u001B[0mkwargs\u001B[0m\u001B[0;34m)\u001B[0m\u001B[0;34m\u001B[0m\u001B[0;34m\u001B[0m\u001B[0m\n\u001B[0m\u001B[1;32m    280\u001B[0m \u001B[0;34m\u001B[0m\u001B[0m\n\u001B[1;32m    281\u001B[0m   ctx = MethodContext(module=self,\n",
      "\u001B[0;32m~/.venv/perceiver/DI4ProjetPerceiverIO/perceiver.py\u001B[0m in \u001B[0;36m__call__\u001B[0;34m(self, inputs_q, inputs_kv, attention_mask)\u001B[0m\n\u001B[1;32m    171\u001B[0m     result = attend(q, k, v, dropout_prob=self._dropout_prob,\n\u001B[1;32m    172\u001B[0m                     attention_mask=attention_mask)\n\u001B[0;32m--> 173\u001B[0;31m     return conv_1d(\n\u001B[0m\u001B[1;32m    174\u001B[0m         \u001B[0mself\u001B[0m\u001B[0;34m.\u001B[0m\u001B[0m_output_channels\u001B[0m\u001B[0;34m,\u001B[0m\u001B[0;34m\u001B[0m\u001B[0;34m\u001B[0m\u001B[0m\n\u001B[1;32m    175\u001B[0m         \u001B[0mwith_bias\u001B[0m\u001B[0;34m=\u001B[0m\u001B[0mself\u001B[0m\u001B[0;34m.\u001B[0m\u001B[0m_with_final_bias\u001B[0m\u001B[0;34m,\u001B[0m\u001B[0;34m\u001B[0m\u001B[0;34m\u001B[0m\u001B[0m\n",
      "\u001B[0;32m~/.venv/perceiver/lib/python3.8/site-packages/haiku/_src/module.py\u001B[0m in \u001B[0;36mwrapped\u001B[0;34m(self, *args, **kwargs)\u001B[0m\n\u001B[1;32m    426\u001B[0m         \u001B[0mf\u001B[0m \u001B[0;34m=\u001B[0m \u001B[0mstateful\u001B[0m\u001B[0;34m.\u001B[0m\u001B[0mnamed_call\u001B[0m\u001B[0;34m(\u001B[0m\u001B[0mf\u001B[0m\u001B[0;34m,\u001B[0m \u001B[0mname\u001B[0m\u001B[0;34m=\u001B[0m\u001B[0mlocal_name\u001B[0m\u001B[0;34m)\u001B[0m\u001B[0;34m\u001B[0m\u001B[0;34m\u001B[0m\u001B[0m\n\u001B[1;32m    427\u001B[0m \u001B[0;34m\u001B[0m\u001B[0m\n\u001B[0;32m--> 428\u001B[0;31m       \u001B[0mout\u001B[0m \u001B[0;34m=\u001B[0m \u001B[0mf\u001B[0m\u001B[0;34m(\u001B[0m\u001B[0;34m*\u001B[0m\u001B[0margs\u001B[0m\u001B[0;34m,\u001B[0m \u001B[0;34m**\u001B[0m\u001B[0mkwargs\u001B[0m\u001B[0;34m)\u001B[0m\u001B[0;34m\u001B[0m\u001B[0;34m\u001B[0m\u001B[0m\n\u001B[0m\u001B[1;32m    429\u001B[0m \u001B[0;34m\u001B[0m\u001B[0m\n\u001B[1;32m    430\u001B[0m       \u001B[0;31m# Module names are set in the constructor. If `f` is the constructor then\u001B[0m\u001B[0;34m\u001B[0m\u001B[0;34m\u001B[0m\u001B[0;34m\u001B[0m\u001B[0m\n",
      "\u001B[0;32m~/.venv/perceiver/lib/python3.8/site-packages/haiku/_src/module.py\u001B[0m in \u001B[0;36mrun_interceptors\u001B[0;34m(bound_method, method_name, self, *args, **kwargs)\u001B[0m\n\u001B[1;32m    277\u001B[0m   \u001B[0;34m\"\"\"Runs any method interceptors or the original method.\"\"\"\u001B[0m\u001B[0;34m\u001B[0m\u001B[0;34m\u001B[0m\u001B[0m\n\u001B[1;32m    278\u001B[0m   \u001B[0;32mif\u001B[0m \u001B[0;32mnot\u001B[0m \u001B[0minterceptor_stack\u001B[0m\u001B[0;34m:\u001B[0m\u001B[0;34m\u001B[0m\u001B[0;34m\u001B[0m\u001B[0m\n\u001B[0;32m--> 279\u001B[0;31m     \u001B[0;32mreturn\u001B[0m \u001B[0mbound_method\u001B[0m\u001B[0;34m(\u001B[0m\u001B[0;34m*\u001B[0m\u001B[0margs\u001B[0m\u001B[0;34m,\u001B[0m \u001B[0;34m**\u001B[0m\u001B[0mkwargs\u001B[0m\u001B[0;34m)\u001B[0m\u001B[0;34m\u001B[0m\u001B[0;34m\u001B[0m\u001B[0m\n\u001B[0m\u001B[1;32m    280\u001B[0m \u001B[0;34m\u001B[0m\u001B[0m\n\u001B[1;32m    281\u001B[0m   ctx = MethodContext(module=self,\n",
      "\u001B[0;32m~/.venv/perceiver/lib/python3.8/site-packages/haiku/_src/basic.py\u001B[0m in \u001B[0;36m__call__\u001B[0;34m(self, inputs, precision)\u001B[0m\n\u001B[1;32m    182\u001B[0m     \u001B[0;32mif\u001B[0m \u001B[0mself\u001B[0m\u001B[0;34m.\u001B[0m\u001B[0mwith_bias\u001B[0m\u001B[0;34m:\u001B[0m\u001B[0;34m\u001B[0m\u001B[0;34m\u001B[0m\u001B[0m\n\u001B[1;32m    183\u001B[0m       \u001B[0mb\u001B[0m \u001B[0;34m=\u001B[0m \u001B[0mhk\u001B[0m\u001B[0;34m.\u001B[0m\u001B[0mget_parameter\u001B[0m\u001B[0;34m(\u001B[0m\u001B[0;34m\"b\"\u001B[0m\u001B[0;34m,\u001B[0m \u001B[0;34m[\u001B[0m\u001B[0mself\u001B[0m\u001B[0;34m.\u001B[0m\u001B[0moutput_size\u001B[0m\u001B[0;34m]\u001B[0m\u001B[0;34m,\u001B[0m \u001B[0mdtype\u001B[0m\u001B[0;34m,\u001B[0m \u001B[0minit\u001B[0m\u001B[0;34m=\u001B[0m\u001B[0mself\u001B[0m\u001B[0;34m.\u001B[0m\u001B[0mb_init\u001B[0m\u001B[0;34m)\u001B[0m\u001B[0;34m\u001B[0m\u001B[0;34m\u001B[0m\u001B[0m\n\u001B[0;32m--> 184\u001B[0;31m       \u001B[0mb\u001B[0m \u001B[0;34m=\u001B[0m \u001B[0mjnp\u001B[0m\u001B[0;34m.\u001B[0m\u001B[0mbroadcast_to\u001B[0m\u001B[0;34m(\u001B[0m\u001B[0mb\u001B[0m\u001B[0;34m,\u001B[0m \u001B[0mout\u001B[0m\u001B[0;34m.\u001B[0m\u001B[0mshape\u001B[0m\u001B[0;34m)\u001B[0m\u001B[0;34m\u001B[0m\u001B[0;34m\u001B[0m\u001B[0m\n\u001B[0m\u001B[1;32m    185\u001B[0m       \u001B[0mout\u001B[0m \u001B[0;34m=\u001B[0m \u001B[0mout\u001B[0m \u001B[0;34m+\u001B[0m \u001B[0mb\u001B[0m\u001B[0;34m\u001B[0m\u001B[0;34m\u001B[0m\u001B[0m\n\u001B[1;32m    186\u001B[0m \u001B[0;34m\u001B[0m\u001B[0m\n",
      "\u001B[0;32m~/.venv/perceiver/lib/python3.8/site-packages/jax/_src/numpy/lax_numpy.py\u001B[0m in \u001B[0;36mbroadcast_to\u001B[0;34m(arr, shape)\u001B[0m\n\u001B[1;32m   2198\u001B[0m \"\"\")\n\u001B[1;32m   2199\u001B[0m \u001B[0;32mdef\u001B[0m \u001B[0mbroadcast_to\u001B[0m\u001B[0;34m(\u001B[0m\u001B[0marr\u001B[0m\u001B[0;34m,\u001B[0m \u001B[0mshape\u001B[0m\u001B[0;34m)\u001B[0m\u001B[0;34m:\u001B[0m\u001B[0;34m\u001B[0m\u001B[0;34m\u001B[0m\u001B[0m\n\u001B[0;32m-> 2200\u001B[0;31m   \u001B[0marr\u001B[0m \u001B[0;34m=\u001B[0m \u001B[0marr\u001B[0m \u001B[0;32mif\u001B[0m \u001B[0misinstance\u001B[0m\u001B[0;34m(\u001B[0m\u001B[0marr\u001B[0m\u001B[0;34m,\u001B[0m \u001B[0mndarray\u001B[0m\u001B[0;34m)\u001B[0m \u001B[0;32melse\u001B[0m \u001B[0marray\u001B[0m\u001B[0;34m(\u001B[0m\u001B[0marr\u001B[0m\u001B[0;34m)\u001B[0m\u001B[0;34m\u001B[0m\u001B[0;34m\u001B[0m\u001B[0m\n\u001B[0m\u001B[1;32m   2201\u001B[0m   \u001B[0mshape\u001B[0m \u001B[0;34m=\u001B[0m \u001B[0;34m(\u001B[0m\u001B[0mshape\u001B[0m\u001B[0;34m,\u001B[0m\u001B[0;34m)\u001B[0m \u001B[0;32mif\u001B[0m \u001B[0mndim\u001B[0m\u001B[0;34m(\u001B[0m\u001B[0mshape\u001B[0m\u001B[0;34m)\u001B[0m \u001B[0;34m==\u001B[0m \u001B[0;36m0\u001B[0m \u001B[0;32melse\u001B[0m \u001B[0mshape\u001B[0m\u001B[0;34m\u001B[0m\u001B[0;34m\u001B[0m\u001B[0m\n\u001B[1;32m   2202\u001B[0m   \u001B[0mshape\u001B[0m \u001B[0;34m=\u001B[0m \u001B[0mcanonicalize_shape\u001B[0m\u001B[0;34m(\u001B[0m\u001B[0mshape\u001B[0m\u001B[0;34m)\u001B[0m  \u001B[0;31m# check that shape is concrete\u001B[0m\u001B[0;34m\u001B[0m\u001B[0;34m\u001B[0m\u001B[0m\n",
      "\u001B[0;32m~/.venv/perceiver/lib/python3.8/site-packages/jax/_src/numpy/lax_numpy.py\u001B[0m in \u001B[0;36marray\u001B[0;34m(object, dtype, copy, order, ndmin)\u001B[0m\n\u001B[1;32m   3567\u001B[0m     \u001B[0;32mraise\u001B[0m \u001B[0mTypeError\u001B[0m\u001B[0;34m(\u001B[0m\u001B[0;34m\"Unexpected input type for array: {}\"\u001B[0m\u001B[0;34m.\u001B[0m\u001B[0mformat\u001B[0m\u001B[0;34m(\u001B[0m\u001B[0mtype\u001B[0m\u001B[0;34m(\u001B[0m\u001B[0mobject\u001B[0m\u001B[0;34m)\u001B[0m\u001B[0;34m)\u001B[0m\u001B[0;34m)\u001B[0m\u001B[0;34m\u001B[0m\u001B[0;34m\u001B[0m\u001B[0m\n\u001B[1;32m   3568\u001B[0m \u001B[0;34m\u001B[0m\u001B[0m\n\u001B[0;32m-> 3569\u001B[0;31m   \u001B[0mout\u001B[0m \u001B[0;34m=\u001B[0m \u001B[0mlax\u001B[0m\u001B[0;34m.\u001B[0m\u001B[0m_convert_element_type\u001B[0m\u001B[0;34m(\u001B[0m\u001B[0mout\u001B[0m\u001B[0;34m,\u001B[0m \u001B[0mdtype\u001B[0m\u001B[0;34m,\u001B[0m \u001B[0mweak_type\u001B[0m\u001B[0;34m=\u001B[0m\u001B[0mweak_type\u001B[0m\u001B[0;34m)\u001B[0m\u001B[0;34m\u001B[0m\u001B[0;34m\u001B[0m\u001B[0m\n\u001B[0m\u001B[1;32m   3570\u001B[0m \u001B[0;34m\u001B[0m\u001B[0m\n\u001B[1;32m   3571\u001B[0m   \u001B[0;32mif\u001B[0m \u001B[0mndmin\u001B[0m \u001B[0;34m>\u001B[0m \u001B[0mndim\u001B[0m\u001B[0;34m(\u001B[0m\u001B[0mout\u001B[0m\u001B[0;34m)\u001B[0m\u001B[0;34m:\u001B[0m\u001B[0;34m\u001B[0m\u001B[0;34m\u001B[0m\u001B[0m\n",
      "\u001B[0;32m~/.venv/perceiver/lib/python3.8/site-packages/jax/_src/lax/lax.py\u001B[0m in \u001B[0;36m_convert_element_type\u001B[0;34m(operand, new_dtype, weak_type)\u001B[0m\n\u001B[1;32m    435\u001B[0m   \u001B[0;31m# Don't canonicalize old_dtype because x64 context might cause\u001B[0m\u001B[0;34m\u001B[0m\u001B[0;34m\u001B[0m\u001B[0;34m\u001B[0m\u001B[0m\n\u001B[1;32m    436\u001B[0m   \u001B[0;31m# un-canonicalized operands to be passed in.\u001B[0m\u001B[0;34m\u001B[0m\u001B[0;34m\u001B[0m\u001B[0;34m\u001B[0m\u001B[0m\n\u001B[0;32m--> 437\u001B[0;31m   \u001B[0mold_dtype\u001B[0m \u001B[0;34m=\u001B[0m \u001B[0mnp\u001B[0m\u001B[0;34m.\u001B[0m\u001B[0mresult_type\u001B[0m\u001B[0;34m(\u001B[0m\u001B[0moperand\u001B[0m\u001B[0;34m)\u001B[0m\u001B[0;34m\u001B[0m\u001B[0;34m\u001B[0m\u001B[0m\n\u001B[0m\u001B[1;32m    438\u001B[0m   \u001B[0mold_weak_type\u001B[0m \u001B[0;34m=\u001B[0m \u001B[0mdtypes\u001B[0m\u001B[0;34m.\u001B[0m\u001B[0mis_weakly_typed\u001B[0m\u001B[0;34m(\u001B[0m\u001B[0moperand\u001B[0m\u001B[0;34m)\u001B[0m\u001B[0;34m\u001B[0m\u001B[0;34m\u001B[0m\u001B[0m\n\u001B[1;32m    439\u001B[0m \u001B[0;34m\u001B[0m\u001B[0m\n",
      "\u001B[0;32m<__array_function__ internals>\u001B[0m in \u001B[0;36mresult_type\u001B[0;34m(*args, **kwargs)\u001B[0m\n",
      "\u001B[0;31mKeyboardInterrupt\u001B[0m: "
     ]
    }
   ],
   "source": [
    "results = open(\"analysis_results.txt\", \"w\")\n",
    "\n",
    "rng = jax.random.PRNGKey(1)  # Unused\n",
    "#print(params)\n",
    "for iterator in range(len(data)):\n",
    "    currentOut = data[iterator]['out'] = apply_perceiver(params, rng=rng, inputs=data[iterator]['inputs'], input_mask=data[iterator]['input_mask'])\n",
    "\n",
    "    currentMasked_tokens_predictions = data[iterator]['masked_tokens_predictions'] = []\n",
    "    currentMaskedwordsIndexesInStr = data[iterator]['maskedwordsIndexesInStr']\n",
    "\n",
    "    for maskedwordindex in range(0, len(currentMaskedwordsIndexesInStr), 2):\n",
    "    # la prediction sous forme d'entiers est constituee des valeurs maximales\n",
    "    # aux coordonnees du masque sur la 1ere dimension de out\n",
    "        currentMasked_tokens_predictions.append(\n",
    "            currentOut[0,currentMaskedwordsIndexesInStr[maskedwordindex]:currentMaskedwordsIndexesInStr[maskedwordindex+1]].argmax(axis=-1)\n",
    "        )\n",
    "\n",
    "    results.write(\"\\n-\"+str(iterator)+\"-\\n\")\n",
    "    results.write(\"Local sentence:\"+\"\\n\")\n",
    "    results.write(data[iterator]['input_str']+\"\\n\")\n",
    "    results.write(\"Local sentence without masked bytes:\"+\"\\n\")\n",
    "    results.write(tokenizer.to_string(data[iterator]['input_tokens'])+\"\\n\")\n",
    "\n",
    "    for local_masked_token_prediction in currentMasked_tokens_predictions:\n",
    "        results.write(\"\\tLocal greedy predictions:\"+\"\\n\")\n",
    "        results.write(\"\\t\"+str(local_masked_token_prediction)+\"\\n\") #predictions sous formes de caracteres\n",
    "        results.write(\"\\tLocal predicted string:\"+\"\\n\")\n",
    "        results.write(\"\\t\"+tokenizer.to_string(local_masked_token_prediction)+\"\\n\")\n",
    "\n",
    "    progression = int((iterator+1)/len(data)*100)\n",
    "    if progression % 5 < 2:\n",
    "        print(\"Progression : \"+str(progression)+\"%\")\n",
    "\n",
    "results.close()"
   ],
   "metadata": {
    "collapsed": false,
    "pycharm": {
     "name": "#%%\n"
    }
   }
  }
 ],
 "metadata": {
  "kernelspec": {
   "display_name": "Python 3",
   "language": "python",
   "name": "python3"
  },
  "language_info": {
   "codemirror_mode": {
    "name": "ipython",
    "version": 2
   },
   "file_extension": ".py",
   "mimetype": "text/x-python",
   "name": "python",
   "nbconvert_exporter": "python",
   "pygments_lexer": "ipython2",
   "version": "2.7.6"
  }
 },
 "nbformat": 4,
 "nbformat_minor": 0
}