{
 "cells": [
  {
   "cell_type": "code",
   "execution_count": 1,
   "metadata": {
    "collapsed": true
   },
   "outputs": [],
   "source": [
    "from typing import Union\n",
    "\n",
    "# Haiku permet aux utilisateurs d'utiliser des modèles de POO tout en permettant un accès complet aux transformations de fonctions pures de JAX pour les reseaux neuronaux.\n",
    "import haiku as hk\n",
    "# JAX est concue pour le calcul numérique à haute performance, notamment pour la recherche en apprentissage automatique.\n",
    "import jax\n",
    "import jax.numpy as jnp\n",
    "# NumPy ajoute un support pour les grands tableaux multidimensionnels et les matrices, ainsi qu'une grande collection de fonctions mathématiques pour opérer sur ces tableaux.\n",
    "import numpy as np\n",
    "# Pickle est un module permettant la (dé)sérialisation\n",
    "import pickle\n",
    "\n",
    "import perceiver\n",
    "import position_encoding\n",
    "import io_processors\n",
    "import bytes_tokenizer\n",
    "import random_masked_language as rml"
   ]
  },
  {
   "cell_type": "code",
   "execution_count": 2,
   "outputs": [],
   "source": [
    "#@title Model config\n",
    "D_MODEL = 768\n",
    "D_LATENTS = 1280\n",
    "MAX_SEQ_LEN = 2048\n",
    "\n",
    "encoder_config = dict(\n",
    "    num_self_attends_per_block=26,\n",
    "    num_blocks=1,\n",
    "    z_index_dim=256,\n",
    "    num_z_channels=D_LATENTS,\n",
    "    num_self_attend_heads=8,\n",
    "    num_cross_attend_heads=8,\n",
    "    qk_channels=8 * 32,\n",
    "    v_channels=D_LATENTS,\n",
    "    use_query_residual=True,\n",
    "    cross_attend_widening_factor=1,\n",
    "    self_attend_widening_factor=1)\n",
    "\n",
    "decoder_config = dict(\n",
    "    output_num_channels=D_LATENTS,\n",
    "    position_encoding_type='trainable',\n",
    "    output_index_dims=MAX_SEQ_LEN,\n",
    "    num_z_channels=D_LATENTS,\n",
    "    qk_channels=8 * 32,\n",
    "    v_channels=D_MODEL,\n",
    "    num_heads=8,\n",
    "    final_project=False,\n",
    "    use_query_residual=False,\n",
    "    trainable_position_encoding_kwargs=dict(num_channels=D_MODEL))\n",
    "\n",
    "# The tokenizer is just UTF-8 encoding (with an offset)\n",
    "tokenizer = bytes_tokenizer.BytesTokenizer()"
   ],
   "metadata": {
    "collapsed": false,
    "pycharm": {
     "name": "#%%\n"
    }
   }
  },
  {
   "cell_type": "code",
   "execution_count": 3,
   "outputs": [],
   "source": [
    "# Agrandit les tableaux inputs et input_mask pour qu'ils aient\n",
    "# une taille de max_sequence_length, et les remplit avec des 0\n",
    "def pad(max_sequence_length: int, inputs, input_mask):\n",
    "  input_len = inputs.shape[1]\n",
    "  assert input_len <= max_sequence_length\n",
    "  pad_len = max_sequence_length - input_len\n",
    "  padded_inputs = np.pad(\n",
    "      inputs,\n",
    "      pad_width=((0, 0), (0, pad_len)),\n",
    "      constant_values=tokenizer.pad_token)\n",
    "  padded_mask = np.pad(\n",
    "      input_mask,\n",
    "      pad_width=((0, 0), (0, pad_len)),\n",
    "      constant_values=0)\n",
    "  return padded_inputs, padded_mask"
   ],
   "metadata": {
    "collapsed": false,
    "pycharm": {
     "name": "#%%\n"
    }
   }
  },
  {
   "cell_type": "code",
   "execution_count": 4,
   "outputs": [],
   "source": [
    "#@title Decoding Perceiver Model\n",
    "def apply_perceiver(\n",
    "    inputs: jnp.ndarray, input_mask: jnp.ndarray) -> jnp.ndarray:\n",
    "  \"\"\"Runs a forward pass on the Perceiver.\n",
    "\n",
    "  Args:\n",
    "    inputs: input bytes, an int array of shape [B, T]\n",
    "    input_mask: Array of shape indicating which entries are valid and which are\n",
    "      masked. A truthy value indicates that the entry is valid.\n",
    "\n",
    "  Returns:\n",
    "    The output logits, an array of shape [B, T, vocab_size].\n",
    "  \"\"\"\n",
    "  assert inputs.shape[1] == MAX_SEQ_LEN\n",
    "  # EXCEPTION A GERER : LE TEXTE EST TROP LONG, IL FAUT LE SEPARER EN DES ENSEMBLES DE\n",
    "  # PHRASES DE MOINS DE MAX_SEQ_LEN CARACTRES\n",
    "\n",
    "  # https://gdcoder.com/what-is-an-embedding-layer/\n",
    "  # Une couche d'integration convertie l'input en un ensemble de vecteurs\n",
    "  # d'integration dont les tailles sont optimisees pour le calcul\n",
    "\n",
    "  # Creation de la couche d'integration selon le nombre de mots distincts dans\n",
    "  # le training set et la dimension voulue des vecteurs d'integrations\n",
    "  embedding_layer = hk.Embed(\n",
    "      vocab_size=tokenizer.vocab_size,\n",
    "      embed_dim=D_MODEL)\n",
    "  # Conversion de l'input pour rentrer dans la 1ere couche (couche d'integration)\n",
    "  embedded_inputs = embedding_layer(inputs)\n",
    "\n",
    "  # Taille de la conversion de l'input\n",
    "  batch_size = embedded_inputs.shape[0]\n",
    "\n",
    "  # Parametres de construction des informations entrainables a propos de\n",
    "  # la position des mots dans la phrase\n",
    "  input_pos_encoding = perceiver.position_encoding.TrainablePositionEncoding(\n",
    "      index_dim=MAX_SEQ_LEN, num_channels=D_MODEL)\n",
    "  #print(input_pos_encoding(batch_size))\n",
    "  # Ajout des informations de position des mots a l'input\n",
    "  embedded_inputs = embedded_inputs + input_pos_encoding(batch_size)\n",
    "  # Initialisation du PerceiverIO\n",
    "  perceiver_mod = perceiver.Perceiver(\n",
    "      encoder=perceiver.PerceiverEncoder(**encoder_config),\n",
    "      decoder=perceiver.BasicDecoder(**decoder_config))\n",
    "  # Stockage dans output du resultat de l'execution du PerceiverIO a partir de la 1ere couche\n",
    "  output_embeddings = perceiver_mod(\n",
    "      embedded_inputs, is_training=False, input_mask=input_mask, query_mask=input_mask)\n",
    "\n",
    "  # Redimensionnement et decodage de l'output\n",
    "  logits = io_processors.EmbeddingDecoder(\n",
    "      embedding_matrix=embedding_layer.embeddings)(output_embeddings)\n",
    "  return logits\n",
    "\n",
    "# La transformation de la fonction lui permettra plus tard de lui\n",
    "# passer des parametres pre-enregistres\n",
    "# input_pos_encoding sera notamment ecrase par celui pre-enregistre\n",
    "apply_perceiver = hk.transform(apply_perceiver).apply"
   ],
   "metadata": {
    "collapsed": false,
    "pycharm": {
     "name": "#%%\n"
    }
   }
  },
  {
   "cell_type": "code",
   "execution_count": 5,
   "outputs": [],
   "source": [
    "# On deserialise les valeurs des hyperparametres du modele.\n",
    "with open(\"language_perceiver_io_bytes.pickle\", \"rb\") as f:\n",
    "  params = pickle.loads(f.read())"
   ],
   "metadata": {
    "collapsed": false,
    "pycharm": {
     "name": "#%%\n"
    }
   }
  },
  {
   "cell_type": "code",
   "execution_count": 6,
   "outputs": [
    {
     "name": "stdout",
     "output_type": "stream",
     "text": [
      "Number of sentences too long : 0\n"
     ]
    }
   ],
   "source": [
    "# On prend un texte pour les tests\n",
    "with open('exampleText.txt', 'r') as f:\n",
    "    inputs_str = f.read()\n",
    "\n",
    "#pre-traitement des donnees\n",
    "inputs_str = inputs_str.replace('\\n', ' ')\n",
    "inputs_str = inputs_str.replace('  ', ' ')\n",
    "inputs_str = inputs_str.replace('--a', '')\n",
    "inputs_str = inputs_str.replace('--', '-')\n",
    "inputs_str = inputs_str.split(\". \")\n",
    "for sentenceIndex in range(len(inputs_str)):\n",
    "    if len(inputs_str[sentenceIndex]) > MAX_SEQ_LEN:\n",
    "        del inputs_str[sentenceIndex]\n",
    "        --sentenceIndex\n",
    "    else:\n",
    "        inputs_str[sentenceIndex] += '.'\n",
    "print(\"Number of sentences too long : \" + str(len(inputs_str)-1 - sentenceIndex))\n",
    "\n",
    "dataSize = sentenceIndex+1\n",
    "data = [\n",
    "    {\n",
    "        \"input_str\":inputs_str[sentenceIndex],\n",
    "        \"maskedwords\":None,\n",
    "        \"maskedwordsIndexesInData\":None,\n",
    "        \"maskedwordsIndexesInStr\":None,\n",
    "        \"input_tokens\":None,\n",
    "        \"inputs\":None,\n",
    "        \"input_mask\":None,\n",
    "        \"out\":None,\n",
    "        \"masked_tokens_predictions\":None\n",
    "    } for sentenceIndex in range(dataSize)\n",
    "]"
   ],
   "metadata": {
    "collapsed": false,
    "pycharm": {
     "name": "#%%\n"
    }
   }
  },
  {
   "cell_type": "code",
   "execution_count": 7,
   "outputs": [],
   "source": [
    "percentage = 33\n",
    "for iterator in range(len(data)):\n",
    "    data[iterator]['maskedwords'], data[iterator]['maskedwordsIndexesInData'] = rml.chooseMaskedWords(data[iterator]['input_str'], percentage)\n",
    "    data[iterator]['maskedwordsIndexesInStr'] = rml.findIndexes(data[iterator]['input_str'], data[iterator]['maskedwordsIndexesInData'])\n",
    "    data[iterator]['input_tokens'] = rml.stringWithMaskedWords(data[iterator]['input_str'], data[iterator]['maskedwordsIndexesInStr'])"
   ],
   "metadata": {
    "collapsed": false,
    "pycharm": {
     "name": "#%%\n"
    }
   }
  },
  {
   "cell_type": "code",
   "execution_count": 8,
   "outputs": [],
   "source": [
    "for iterator in range(len(data)):\n",
    "    # inputs est le tableau d'entiers avec une dimension supplementaire\n",
    "    # c'est comme si on mettait le tableau inputs a l'interieur d'un nouveau tableau\n",
    "    data[iterator]['inputs'] = data[iterator]['input_tokens'][None]\n",
    "\n",
    "    # input_mask est l'equivalent unitaire de inputs :\n",
    "    # pour toutes les valeurs d'inputs, on met un 1\n",
    "    data[iterator]['input_mask'] = np.ones_like(data[iterator]['inputs'])\n",
    "\n",
    "    data[iterator]['inputs'], data[iterator]['input_mask'] = pad(MAX_SEQ_LEN, data[iterator]['inputs'], data[iterator]['input_mask'])"
   ],
   "metadata": {
    "collapsed": false,
    "pycharm": {
     "name": "#%%\n"
    }
   }
  },
  {
   "cell_type": "code",
   "execution_count": 9,
   "outputs": [
    {
     "name": "stderr",
     "output_type": "stream",
     "text": [
      "WARNING:absl:No GPU/TPU found, falling back to CPU. (Set TF_CPP_MIN_LOG_LEVEL=0 and rerun for more info.)\n"
     ]
    },
    {
     "name": "stdout",
     "output_type": "stream",
     "text": [
      "Progression : 1%\n"
     ]
    },
    {
     "ename": "ValueError",
     "evalue": "I/O operation on closed file.",
     "output_type": "error",
     "traceback": [
      "\u001B[0;31m---------------------------------------------------------------------------\u001B[0m",
      "\u001B[0;31mValueError\u001B[0m                                Traceback (most recent call last)",
      "\u001B[0;32m/tmp/ipykernel_1580/3891992672.py\u001B[0m in \u001B[0;36m<module>\u001B[0;34m\u001B[0m\n\u001B[1;32m     17\u001B[0m         )\n\u001B[1;32m     18\u001B[0m \u001B[0;34m\u001B[0m\u001B[0m\n\u001B[0;32m---> 19\u001B[0;31m     \u001B[0mresults\u001B[0m\u001B[0;34m.\u001B[0m\u001B[0mwrite\u001B[0m\u001B[0;34m(\u001B[0m\u001B[0;34m\"\\n-\"\u001B[0m\u001B[0;34m+\u001B[0m\u001B[0mstr\u001B[0m\u001B[0;34m(\u001B[0m\u001B[0miterator\u001B[0m\u001B[0;34m)\u001B[0m\u001B[0;34m+\u001B[0m\u001B[0;34m\"-\\n\"\u001B[0m\u001B[0;34m)\u001B[0m\u001B[0;34m\u001B[0m\u001B[0;34m\u001B[0m\u001B[0m\n\u001B[0m\u001B[1;32m     20\u001B[0m     \u001B[0mresults\u001B[0m\u001B[0;34m.\u001B[0m\u001B[0mwrite\u001B[0m\u001B[0;34m(\u001B[0m\u001B[0;34m\"Local sentence:\"\u001B[0m\u001B[0;34m+\u001B[0m\u001B[0;34m\"\\n\"\u001B[0m\u001B[0;34m)\u001B[0m\u001B[0;34m\u001B[0m\u001B[0;34m\u001B[0m\u001B[0m\n\u001B[1;32m     21\u001B[0m     \u001B[0mresults\u001B[0m\u001B[0;34m.\u001B[0m\u001B[0mwrite\u001B[0m\u001B[0;34m(\u001B[0m\u001B[0mdata\u001B[0m\u001B[0;34m[\u001B[0m\u001B[0miterator\u001B[0m\u001B[0;34m]\u001B[0m\u001B[0;34m[\u001B[0m\u001B[0;34m'input_str'\u001B[0m\u001B[0;34m]\u001B[0m\u001B[0;34m+\u001B[0m\u001B[0;34m\"\\n\"\u001B[0m\u001B[0;34m)\u001B[0m\u001B[0;34m\u001B[0m\u001B[0;34m\u001B[0m\u001B[0m\n",
      "\u001B[0;31mValueError\u001B[0m: I/O operation on closed file."
     ]
    }
   ],
   "source": [
    "results = open(\"analysis_results.txt\", \"w\")\n",
    "\n",
    "rng = jax.random.PRNGKey(1)  # Unused\n",
    "#print(params)\n",
    "for iterator in range(len(data)):\n",
    "    currentOut = data[iterator]['out'] = apply_perceiver(params, rng=rng, inputs=data[iterator]['inputs'], input_mask=data[iterator]['input_mask'])\n",
    "\n",
    "    currentMasked_tokens_predictions = data[iterator]['masked_tokens_predictions'] = []\n",
    "    currentMaskedwordsIndexesInStr = data[iterator]['maskedwordsIndexesInStr']\n",
    "\n",
    "    even_number_of_masked_words_indexes_in_str = len(currentMaskedwordsIndexesInStr) - len(currentMaskedwordsIndexesInStr) % 2\n",
    "    for masked_word_index in range(0, even_number_of_masked_words_indexes_in_str, 2):\n",
    "    # la prediction sous forme d'entiers est constituee des valeurs maximales\n",
    "    # aux coordonnees du masque sur la 1ere dimension de out\n",
    "        currentMasked_tokens_predictions.append(\n",
    "            currentOut[0,currentMaskedwordsIndexesInStr[masked_word_index]:currentMaskedwordsIndexesInStr[masked_word_index+1]].argmax(axis=-1)\n",
    "        )\n",
    "\n",
    "    results.write(\"-\"+str(iterator)+\"-\\n\")\n",
    "    results.write(\"Local sentence:\"+\"\\n\")\n",
    "    results.write(data[iterator]['input_str']+\"\\n\")\n",
    "    results.write(\"Local sentence with masked bytes:\"+\"\\n\")\n",
    "    results.write(tokenizer.to_string(data[iterator]['input_tokens'])+\"\\n\")\n",
    "    #results.write(\"Local sentence predicted:\"+\"\\n\")\n",
    "    #results.write(rml.XXXXXXXXX(data[iterator]['input_tokens'], currentMaskedwordsIndexesInStr)+\"\\n\")\n",
    "\n",
    "\n",
    "    for local_masked_token_prediction in currentMasked_tokens_predictions:\n",
    "        results.write(\"\\tLocal greedy predictions:\"+\"\\n\")\n",
    "        results.write(\"\\t\"+str(local_masked_token_prediction)+\"\\n\") #predictions sous formes de caracteres\n",
    "        results.write(\"\\tLocal predicted string:\"+\"\\n\")\n",
    "        results.write(\"\\t\"+tokenizer.to_string(local_masked_token_prediction)+\"\\n\\n\")\n",
    "\n",
    "    progression = int((iterator+1)/len(data)*100)\n",
    "    if progression % 5 < 2:\n",
    "        print(\"Progression : \"+str(progression)+\"%\")\n",
    "\n",
    "results.close()"
   ],
   "metadata": {
    "collapsed": false,
    "pycharm": {
     "name": "#%%\n"
    }
   }
  }
 ],
 "metadata": {
  "kernelspec": {
   "display_name": "Python 3",
   "language": "python",
   "name": "python3"
  },
  "language_info": {
   "codemirror_mode": {
    "name": "ipython",
    "version": 2
   },
   "file_extension": ".py",
   "mimetype": "text/x-python",
   "name": "python",
   "nbconvert_exporter": "python",
   "pygments_lexer": "ipython2",
   "version": "2.7.6"
  }
 },
 "nbformat": 4,
 "nbformat_minor": 0
}