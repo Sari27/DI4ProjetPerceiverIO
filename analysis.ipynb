{
 "cells": [
  {
   "cell_type": "code",
   "execution_count": 1,
   "metadata": {
    "collapsed": true
   },
   "outputs": [],
   "source": [
    "from typing import Union\n",
    "\n",
    "# Haiku permet aux utilisateurs d'utiliser des modèles de POO tout en permettant un accès complet aux transformations de fonctions pures de JAX pour les reseaux neuronaux.\n",
    "import haiku as hk\n",
    "# JAX est concue pour le calcul numérique à haute performance, notamment pour la recherche en apprentissage automatique.\n",
    "import jax\n",
    "import jax.numpy as jnp\n",
    "# NumPy ajoute un support pour les grands tableaux multidimensionnels et les matrices, ainsi qu'une grande collection de fonctions mathématiques pour opérer sur ces tableaux.\n",
    "import numpy as np\n",
    "# Pickle est un module permettant la (dé)sérialisation\n",
    "import pickle\n",
    "\n",
    "import perceiver\n",
    "import position_encoding\n",
    "import io_processors\n",
    "import bytes_tokenizer\n",
    "import random_masked_language"
   ]
  },
  {
   "cell_type": "code",
   "execution_count": 2,
   "outputs": [],
   "source": [
    "# On deserialise les valeurs des hyperparametres du modele.\n",
    "with open(\"language_perceiver_io_bytes.pickle\", \"rb\") as f:\n",
    "  params = pickle.loads(f.read())"
   ],
   "metadata": {
    "collapsed": false,
    "pycharm": {
     "name": "#%%\n"
    }
   }
  },
  {
   "cell_type": "code",
   "execution_count": 3,
   "outputs": [],
   "source": [
    "#@title Model config\n",
    "D_MODEL = 768\n",
    "D_LATENTS = 1280\n",
    "MAX_SEQ_LEN = 2048\n",
    "\n",
    "encoder_config = dict(\n",
    "    num_self_attends_per_block=26,\n",
    "    num_blocks=1,\n",
    "    z_index_dim=256,\n",
    "    num_z_channels=D_LATENTS,\n",
    "    num_self_attend_heads=8,\n",
    "    num_cross_attend_heads=8,\n",
    "    qk_channels=8 * 32,\n",
    "    v_channels=D_LATENTS,\n",
    "    use_query_residual=True,\n",
    "    cross_attend_widening_factor=1,\n",
    "    self_attend_widening_factor=1)\n",
    "\n",
    "decoder_config = dict(\n",
    "    output_num_channels=D_LATENTS,\n",
    "    position_encoding_type='trainable',\n",
    "    output_index_dims=MAX_SEQ_LEN,\n",
    "    num_z_channels=D_LATENTS,\n",
    "    qk_channels=8 * 32,\n",
    "    v_channels=D_MODEL,\n",
    "    num_heads=8,\n",
    "    final_project=False,\n",
    "    use_query_residual=False,\n",
    "    trainable_position_encoding_kwargs=dict(num_channels=D_MODEL))\n",
    "\n",
    "# The tokenizer is just UTF-8 encoding (with an offset)\n",
    "tokenizer = bytes_tokenizer.BytesTokenizer()"
   ],
   "metadata": {
    "collapsed": false,
    "pycharm": {
     "name": "#%%\n"
    }
   }
  },
  {
   "cell_type": "code",
   "execution_count": null,
   "outputs": [],
   "source": [
    "#@title Decoding Perceiver Model\n",
    "def apply_perceiver(\n",
    "    inputs: jnp.ndarray, input_mask: jnp.ndarray) -> jnp.ndarray:\n",
    "  \"\"\"Runs a forward pass on the Perceiver.\n",
    "\n",
    "  Args:\n",
    "    inputs: input bytes, an int array of shape [B, T]\n",
    "    input_mask: Array of shape indicating which entries are valid and which are\n",
    "      masked. A truthy value indicates that the entry is valid.\n",
    "\n",
    "  Returns:\n",
    "    The output logits, an array of shape [B, T, vocab_size].\n",
    "  \"\"\"\n",
    "  assert inputs.shape[1] == MAX_SEQ_LEN\n",
    "\n",
    "  # https://gdcoder.com/what-is-an-embedding-layer/\n",
    "  # Une couche d'integration convertie l'input en un ensemble de vecteurs\n",
    "  # d'integration dont les tailles sont optimisees pour le calcul\n",
    "\n",
    "  # Creation de la couche d'integration selon le nombre de mots distincts dans\n",
    "  # le training set et la dimension voulue des vecteurs d'integrations\n",
    "  embedding_layer = hk.Embed(\n",
    "      vocab_size=tokenizer.vocab_size,\n",
    "      embed_dim=D_MODEL)\n",
    "  # Conversion de l'input pour rentrer dans la 1ere couche (couche d'integration)\n",
    "  embedded_inputs = embedding_layer(inputs)\n",
    "\n",
    "  # Taille de la conversion de l'input\n",
    "  batch_size = embedded_inputs.shape[0]\n",
    "\n",
    "  # Parametres de construction des informations entrainables a propos de\n",
    "  # la position des mots dans la phrase\n",
    "  input_pos_encoding = perceiver.position_encoding.TrainablePositionEncoding(\n",
    "      index_dim=MAX_SEQ_LEN, num_channels=D_MODEL)\n",
    "  #print(input_pos_encoding(batch_size))\n",
    "  # Ajout des informations de position des mots a l'input\n",
    "  embedded_inputs = embedded_inputs + input_pos_encoding(batch_size)\n",
    "  # Initialisation du PerceiverIO\n",
    "  perceiver_mod = perceiver.Perceiver(\n",
    "      encoder=perceiver.PerceiverEncoder(**encoder_config),\n",
    "      decoder=perceiver.BasicDecoder(**decoder_config))\n",
    "  # Stockage dans output du resultat de l'execution du PerceiverIO a partir de la 1ere couche\n",
    "  output_embeddings = perceiver_mod(\n",
    "      embedded_inputs, is_training=False, input_mask=input_mask, query_mask=input_mask)\n",
    "\n",
    "  # Redimensionnement et decodage de l'output\n",
    "  logits = io_processors.EmbeddingDecoder(\n",
    "      embedding_matrix=embedding_layer.embeddings)(output_embeddings)\n",
    "  return logits\n",
    "\n",
    "# La transformation de la fonction lui permettra plus tard de lui\n",
    "# passer des parametres pre-enregistres\n",
    "# input_pos_encoding sera notamment ecrase par celui pre-enregistre\n",
    "apply_perceiver = hk.transform(apply_perceiver).apply"
   ],
   "metadata": {
    "collapsed": false,
    "pycharm": {
     "name": "#%%\n"
    }
   }
  },
  {
   "cell_type": "code",
   "execution_count": 4,
   "outputs": [],
   "source": [
    "# On prend un texte pour les textes\n",
    "with open('exampleText.txt', 'r') as f:\n",
    "    input_str = f.read()\n",
    "\n",
    "#pre-traitement des donnees\n",
    "input_str = input_str.replace('\\n', ' ')\n",
    "input_str = input_str.replace('  ', ' ')\n",
    "input_str = input_str.replace('--a', '')\n",
    "input_str = input_str.replace('--', '-')"
   ],
   "metadata": {
    "collapsed": false,
    "pycharm": {
     "name": "#%%\n"
    }
   }
  },
  {
   "cell_type": "code",
   "execution_count": 5,
   "outputs": [
    {
     "name": "stdout",
     "output_type": "stream",
     "text": [
      "['In', 'the', 'of', 'new', 'take', 'of', 'epoch', 'of', 'races', 'led', 'the', 'importance', 'the', 'Into', 'the', 'pot', 'cast', 'French,', 'Welsh,', 'negroes', 'were', 'fields', 'or', 'North.', 'The', 'of', 'and', 'fled', 'intolerant', 'the', 'to', 'to', 'dictates', 'escape', 'the', 'poverty', 'to', 'find', 'Africa,', 'here', 'The', 'of', 'and', 'banded', 'and', 'to', 'pay', 'other', 'proprietor,', 'to', 'pay', 'themselves', 'out', 'in', 'the', 'were', 'slaves.', 'for', 'their', 'however,', 'sea.', 'They', 'cut', 'houses,', 'laid', 'founded', 'schools,', 'bartered', 'New', 'and', 'firm', 'was', 'until,', 'of', 'colonial', 'Though', 'widely', 'miles', 'of', 'by', 'of', 'Protestants.', 'the', 'law,', 'furnished', 'the', 'in', 'that', 'conquering', 'To', 'of', 'added', 'to', 'the', 'French.', 'England.', 'made', 'laws', 'them', 'local', 'Common', 'forces', 'vexed', 'hopes', 'things', 'tended', 'to', 'Parliament.', 'Most', 'is,', 'who', 'owned', 'and', 'the', 'freedom.', 'were', 'of', 'stanch', 'the', 'monarchy.', 'developed', 'legislature', 'elected', 'accustomed', 'making', 'and', 'laying', 'was', 'America', 'transformation', 'of', 'only', 'the', 'independence', 'to', 'owed', 'their', 'to', 'the', 'that', 'was', 'protection', 'the', 'that', 'out', 'and', 'in', 'interests', 'country,', 'existed', 'but', 'broad', 'was', 'and', 'with', 'of', 'their', 'were', 'beside', 'the', 'this', 'nation,', 'to', 'it', 'greater', 'by', 'richer', 'not', 'change', 'spirit', 'George']\n",
      "[  3   3   3 ... 117 116  52]\n"
     ]
    }
   ],
   "source": [
    "percentage = 20\n",
    "maskedwords, maskedwordsIndexesInData = random_masked_language.chooseMaskedWords(input_str, percentage)\n",
    "maskedwordsIndexesInStr = random_masked_language.findIndexes(input_str, maskedwordsIndexesInData)\n",
    "input_tokens = random_masked_language.stringWithMaskedWords(input_str, maskedwordsIndexesInStr)\n",
    "\n",
    "print(maskedwords)\n",
    "print(input_tokens)"
   ],
   "metadata": {
    "collapsed": false,
    "pycharm": {
     "name": "#%%\n"
    }
   }
  },
  {
   "cell_type": "code",
   "execution_count": null,
   "outputs": [],
   "source": [
    "# Agrandit les tableaux inputs et input_mask pour qu'ils aient\n",
    "# une taille de max_sequence_length, et les remplit avec des 0\n",
    "def pad(max_sequence_length: int, inputs, input_mask):\n",
    "  input_len = inputs.shape[1]\n",
    "  assert input_len <= max_sequence_length\n",
    "  pad_len = max_sequence_length - input_len\n",
    "  padded_inputs = np.pad(\n",
    "      inputs,\n",
    "      pad_width=((0, 0), (0, pad_len)),\n",
    "      constant_values=tokenizer.pad_token)\n",
    "  padded_mask = np.pad(\n",
    "      input_mask,\n",
    "      pad_width=((0, 0), (0, pad_len)),\n",
    "      constant_values=0)\n",
    "  return padded_inputs, padded_mask\n",
    "\n",
    "\n",
    "# inputs est le tableau d'entiers avec une dimension supplementaire\n",
    "# c'est comme si on mettait le tableau inputs a l'interieur d'un nouveau tableau\n",
    "inputs = input_tokens[None]\n",
    "\n",
    "# input_mask est l'equivalent unitaire de inputs :\n",
    "# pour toutes les valeurs d'inputs, on met un 1\n",
    "input_mask = np.ones_like(inputs)\n",
    "\n",
    "inputs, input_mask = pad(MAX_SEQ_LEN, inputs, input_mask)"
   ],
   "metadata": {
    "collapsed": false,
    "pycharm": {
     "name": "#%%\n"
    }
   }
  },
  {
   "cell_type": "code",
   "execution_count": null,
   "outputs": [],
   "source": [
    "rng = jax.random.PRNGKey(1)  # Unused\n",
    "#print(params)\n",
    "out = apply_perceiver(params, rng=rng, inputs=inputs, input_mask=input_mask)\n",
    "\n",
    "# la prediction sous forme d'entiers est constituee des valeurs maximales\n",
    "# aux coordonnees du masque sur la 1ere dimension de out\n",
    "\n",
    "masked_tokens_predictions = out[0, input_tokens_positions[0]:input_tokens_positions[1]].argmax(axis=-1)\n",
    "print(\"Greedy predictions:\")\n",
    "print(masked_tokens_predictions) #predictions sous formes de caracteres\n",
    "print()\n",
    "print(\"Predicted string:\")\n",
    "print(tokenizer.to_string(masked_tokens_predictions))"
   ],
   "metadata": {
    "collapsed": false,
    "pycharm": {
     "name": "#%%\n"
    }
   }
  }
 ],
 "metadata": {
  "kernelspec": {
   "display_name": "Python 3",
   "language": "python",
   "name": "python3"
  },
  "language_info": {
   "codemirror_mode": {
    "name": "ipython",
    "version": 2
   },
   "file_extension": ".py",
   "mimetype": "text/x-python",
   "name": "python",
   "nbconvert_exporter": "python",
   "pygments_lexer": "ipython2",
   "version": "2.7.6"
  }
 },
 "nbformat": 4,
 "nbformat_minor": 0
}