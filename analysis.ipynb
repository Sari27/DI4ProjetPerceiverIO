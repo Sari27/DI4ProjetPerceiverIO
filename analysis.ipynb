{
 "cells": [
  {
   "cell_type": "markdown",
   "source": [
    "# Etude scientifique du PerceiverIO\n",
    "### Sujet de Nicolas Ragot - Polytech Tours\n",
    "\n",
    "**Etudiants :**\n",
    "- Theo Boisseau (theo.boisseau@etu.univ-tours.fr)\n",
    "- Sarah Denis (sarah.denis-2@etu.univ-tours.fr)"
   ],
   "metadata": {
    "collapsed": false,
    "pycharm": {
     "name": "#%% md\n"
    }
   }
  },
  {
   "cell_type": "markdown",
   "source": [
    "# Description:\n",
    "\n",
    "Ce Notebook vient en complément du rapport **BOISSEAU_DENIS_Projet_PerceiverIO**.\n",
    "\n",
    "Le but de cet exemple est d'aider à la compréhension de l'utilisation de l'outil de deep\n",
    " learning **PerceiverIO** créé par *DeepMind* et d'évaluer ses performances.\n",
    "\n",
    "Les éléments fournis sont les suivants:\n",
    "- jeu de données d'exemple (./data/exampleText.txt) sous la forme d'un fichier .txt, correspondant\n",
    " à un extrait du livre électronique libre de droits du Projet Gutenberg *History of the United States*\n",
    " par Charles A. Beard et Mary R. Beard et disponible à l'adresse\n",
    " https://www.digitalbook.io/txt/1/6/9/6/16960/16960.txt;\n",
    "- fichier d'instances sérialisées des hyperparamètres du modèle, entrainés par *Deepmind* et\n",
    " disponible à l'adresse https://storage.googleapis.com/perceiver_io/language_perceiver_io_bytes.pickle;\n",
    "- script pour l'évaluation des performances du modèle;"
   ],
   "metadata": {
    "collapsed": false,
    "pycharm": {
     "name": "#%% md\n"
    }
   }
  },
  {
   "cell_type": "markdown",
   "source": [
    "# Sommaire :\n",
    "1. [Chargement des Modules et configuration du modèle](#1-bullet)\n",
    "2. [Définition des fonctions pour utiliser le PerceiverIO](#2-bullet)\n",
    "3. [Chargement des hyperparamètres et du DataSet, et pré-traitement](#3-bullet)\n",
    "4. [Application de la solution en local](#4-bullet)\n",
    "5. [Mise en forme des résultats](#5-bullet)"
   ],
   "metadata": {
    "collapsed": false
   }
  },
  {
   "cell_type": "markdown",
   "metadata": {
    "collapsed": true,
    "pycharm": {
     "name": "#%% md\n"
    }
   },
   "source": [
    "# 1. Chargement des Modules"
   ]
  },
  {
   "cell_type": "code",
   "execution_count": 9,
   "outputs": [],
   "source": [
    "import sys\n",
    "from typing import Union\n",
    "from IPython.display import display\n",
    "\n",
    "# Haiku permet aux utilisateurs d'utiliser des modèles de POO tout en permettant un accès complet aux transformations de fonctions pures de JAX pour les reseaux neuronaux.\n",
    "import haiku as hk\n",
    "# JAX est concue pour le calcul numérique à haute performance, notamment pour la recherche en apprentissage automatique.\n",
    "import jax\n",
    "import jax.numpy as jnp\n",
    "# NumPy ajoute un support pour les grands tableaux multidimensionnels et les matrices, ainsi qu'une grande collection de fonctions mathématiques pour opérer sur ces tableaux.\n",
    "import numpy as np\n",
    "# Pickle est un module permettant la (dé)sérialisation\n",
    "import pickle\n",
    "\n",
    "from perceiver import *\n",
    "import random_masked_language as rml"
   ],
   "metadata": {
    "collapsed": false,
    "pycharm": {
     "name": "#%%\n"
    }
   }
  },
  {
   "cell_type": "code",
   "execution_count": 10,
   "outputs": [],
   "source": [
    "#@title Model config\n",
    "D_MODEL = 768\n",
    "D_LATENTS = 1280\n",
    "MAX_SEQ_LEN = 2048\n",
    "\n",
    "encoder_config = dict(\n",
    "    num_self_attends_per_block=26,\n",
    "    num_blocks=1,\n",
    "    z_index_dim=256,\n",
    "    num_z_channels=D_LATENTS,\n",
    "    num_self_attend_heads=8,\n",
    "    num_cross_attend_heads=8,\n",
    "    qk_channels=8 * 32,\n",
    "    v_channels=D_LATENTS,\n",
    "    use_query_residual=True,\n",
    "    cross_attend_widening_factor=1,\n",
    "    self_attend_widening_factor=1)\n",
    "\n",
    "decoder_config = dict(\n",
    "    output_num_channels=D_LATENTS,\n",
    "    position_encoding_type='trainable',\n",
    "    output_index_dims=MAX_SEQ_LEN,\n",
    "    num_z_channels=D_LATENTS,\n",
    "    qk_channels=8 * 32,\n",
    "    v_channels=D_MODEL,\n",
    "    num_heads=8,\n",
    "    final_project=False,\n",
    "    use_query_residual=False,\n",
    "    trainable_position_encoding_kwargs=dict(num_channels=D_MODEL))\n",
    "\n",
    "# The tokenizer is just UTF-8 encoding (with an offset)\n",
    "tokenizer = bytes_tokenizer.BytesTokenizer()"
   ],
   "metadata": {
    "collapsed": false,
    "pycharm": {
     "name": "#%%\n"
    }
   }
  },
  {
   "cell_type": "markdown",
   "source": [
    "# 2. Définition des fonctions pour utiliser le PerceiverIO"
   ],
   "metadata": {
    "collapsed": false,
    "pycharm": {
     "name": "#%% md\n"
    }
   }
  },
  {
   "cell_type": "code",
   "execution_count": 11,
   "outputs": [],
   "source": [
    "# Agrandit les tableaux inputs et input_mask pour qu'ils aient\n",
    "# une taille de max_sequence_length, et les remplit avec des 0\n",
    "def pad(max_sequence_length: int, inputs, input_mask):\n",
    "  input_len = inputs.shape[1]\n",
    "  assert input_len <= max_sequence_length\n",
    "  pad_len = max_sequence_length - input_len\n",
    "  padded_inputs = np.pad(\n",
    "      inputs,\n",
    "      pad_width=((0, 0), (0, pad_len)),\n",
    "      constant_values=tokenizer.pad_token)\n",
    "  padded_mask = np.pad(\n",
    "      input_mask,\n",
    "      pad_width=((0, 0), (0, pad_len)),\n",
    "      constant_values=0)\n",
    "  return padded_inputs, padded_mask"
   ],
   "metadata": {
    "collapsed": false,
    "pycharm": {
     "name": "#%%\n"
    }
   }
  },
  {
   "cell_type": "code",
   "execution_count": 12,
   "outputs": [],
   "source": [
    "#@title Decoding Perceiver Model\n",
    "def apply_perceiver(\n",
    "    inputs: jnp.ndarray, input_mask: jnp.ndarray) -> jnp.ndarray:\n",
    "  \"\"\"Runs a forward pass on the Perceiver.\n",
    "\n",
    "  Args:\n",
    "    inputs: input bytes, an int array of shape [B, T]\n",
    "    input_mask: Array of shape indicating which entries are valid and which are\n",
    "      masked. A truthy value indicates that the entry is valid.\n",
    "\n",
    "  Returns:\n",
    "    The output logits, an array of shape [B, T, vocab_size].\n",
    "  \"\"\"\n",
    "  assert inputs.shape[1] == MAX_SEQ_LEN\n",
    "  # EXCEPTION A GERER : LE TEXTE EST TROP LONG, IL FAUT LE SEPARER EN DES ENSEMBLES DE\n",
    "  # PHRASES DE MOINS DE MAX_SEQ_LEN CARACTRES\n",
    "\n",
    "  # https://gdcoder.com/what-is-an-embedding-layer/\n",
    "  # Une couche d'integration convertie l'input en un ensemble de vecteurs\n",
    "  # d'integration dont les tailles sont optimisees pour le calcul\n",
    "\n",
    "  # Creation de la couche d'integration selon le nombre de mots distincts dans\n",
    "  # le training set et la dimension voulue des vecteurs d'integrations\n",
    "  embedding_layer = hk.Embed(\n",
    "      vocab_size=tokenizer.vocab_size,\n",
    "      embed_dim=D_MODEL)\n",
    "  # Conversion de l'input pour rentrer dans la 1ere couche (couche d'integration)\n",
    "  embedded_inputs = embedding_layer(inputs)\n",
    "\n",
    "  # Taille de la conversion de l'input\n",
    "  batch_size = embedded_inputs.shape[0]\n",
    "\n",
    "  # Parametres de construction des informations entrainables a propos de\n",
    "  # la position des mots dans la phrase\n",
    "  input_pos_encoding = perceiver.position_encoding.TrainablePositionEncoding(\n",
    "      index_dim=MAX_SEQ_LEN, num_channels=D_MODEL)\n",
    "\n",
    "  # Ajout des informations de position des mots a l'input\n",
    "  embedded_inputs = embedded_inputs + input_pos_encoding(batch_size)\n",
    "  # Initialisation du PerceiverIO\n",
    "  perceiver_mod = perceiver.Perceiver(\n",
    "      encoder=perceiver.PerceiverEncoder(**encoder_config),\n",
    "      decoder=perceiver.BasicDecoder(**decoder_config))\n",
    "\n",
    "  # Stockage dans output du resultat de l'execution du PerceiverIO a partir de la 1ere couche\n",
    "  output_embeddings = perceiver_mod(\n",
    "      embedded_inputs, is_training=False, input_mask=input_mask, query_mask=input_mask)\n",
    "\n",
    "  # Redimensionnement et decodage de l'output\n",
    "  logits = io_processors.EmbeddingDecoder(\n",
    "      embedding_matrix=embedding_layer.embeddings)(output_embeddings)\n",
    "  return logits\n",
    "\n",
    "# La transformation de la fonction lui permettra plus tard de lui\n",
    "# passer des parametres pre-enregistres\n",
    "# input_pos_encoding sera notamment ecrase par celui pre-enregistre\n",
    "apply_perceiver = hk.transform(apply_perceiver).apply"
   ],
   "metadata": {
    "collapsed": false,
    "pycharm": {
     "name": "#%%\n"
    }
   }
  },
  {
   "cell_type": "markdown",
   "source": [
    "# 3. Chargement des hyperparamètres et du DataSet, et pré-traitement"
   ],
   "metadata": {
    "collapsed": false,
    "pycharm": {
     "name": "#%% md\n"
    }
   }
  },
  {
   "cell_type": "code",
   "execution_count": 13,
   "outputs": [
    {
     "name": "stdout",
     "output_type": "stream",
     "text": [
      "Chargement des hyperparametres...\n",
      "Les hyperparametres ont ete charges.\n"
     ]
    }
   ],
   "source": [
    "# On deserialise les valeurs des hyperparametres du modele.\n",
    "\n",
    "try: params\n",
    "except NameError:\n",
    "    try:\n",
    "        print(\"Chargement des hyperparametres...\")\n",
    "        with open(\"./data/language_perceiver_io_bytes.pickle\", \"rb\") as f:\n",
    "            params = pickle.loads(f.read())\n",
    "    except (FileNotFoundError, pickle.UnpicklingError):\n",
    "        print(\"Aucun trouves. Telechargement des hyperparametres.\")\n",
    "        !wget -O ./data/language_perceiver_io_bytes.pickle \\\n",
    "                https://storage.googleapis.com/perceiver_io/language_perceiver_io_bytes.pickle\n",
    "\n",
    "assert type(params).__name__ == 'FlatMapping'\n",
    "print(\"Les hyperparametres ont ete charges.\")"
   ],
   "metadata": {
    "collapsed": false,
    "pycharm": {
     "name": "#%%\n"
    }
   }
  },
  {
   "cell_type": "code",
   "execution_count": 14,
   "outputs": [
    {
     "name": "stdout",
     "output_type": "stream",
     "text": [
      "Extrait: In the period between the landing of the English at Jamestown, Virginia,\n",
      "in 1607, and the close of t\n",
      "\n",
      "Nombre de phrases trop longues : 0\n"
     ]
    }
   ],
   "source": [
    "# On prend un texte pour les tests\n",
    "with open('./data/exampleText.txt', 'r') as f:\n",
    "    inputs_str = f.read()\n",
    "f.close()\n",
    "\n",
    "if len(inputs_str) > 0:\n",
    "    if len(inputs_str) < 100:\n",
    "        print(inputs_str)\n",
    "    else:\n",
    "        print(f\"Extrait: {inputs_str[0:100]}\\n\")\n",
    "\n",
    "#pre-traitement des donnees\n",
    "inputs_str = inputs_str.replace('\\n', ' ')\n",
    "inputs_str = inputs_str.replace('  ', ' ')\n",
    "inputs_str = inputs_str.replace('--a', '')\n",
    "inputs_str = inputs_str.replace('--', '-')\n",
    "inputs_str = inputs_str.split(\". \")\n",
    "initial_len_inputs_str = len(inputs_str)\n",
    "for sentenceIndex in range(len(inputs_str)):\n",
    "    if len(inputs_str[sentenceIndex]) > MAX_SEQ_LEN:\n",
    "        del inputs_str[sentenceIndex]\n",
    "        sentenceIndex -= 1\n",
    "    else:\n",
    "        inputs_str[sentenceIndex] += '.'\n",
    "print(f\"Nombre de phrases trop longues : {initial_len_inputs_str-len(inputs_str)}\")\n",
    "\n",
    "dataSize = len(inputs_str)"
   ],
   "metadata": {
    "collapsed": false,
    "pycharm": {
     "name": "#%%\n"
    }
   }
  },
  {
   "cell_type": "code",
   "execution_count": 15,
   "outputs": [
    {
     "name": "stdout",
     "output_type": "stream",
     "text": [
      "Nombre de phrases a tester: 54\n"
     ]
    }
   ],
   "source": [
    "# Initialisation des variables pour chaque phrase\n",
    "data = [\n",
    "    {\n",
    "        'input_str':inputs_str[sentenceIndex],\n",
    "        'maskedwords':None,\n",
    "        'maskedwordsIndexesInStr':None,\n",
    "        'input_tokens':None,\n",
    "        'inputs':None,\n",
    "        'input_mask':None,\n",
    "        'predicted_words':None,\n",
    "        'efficiency':None\n",
    "    } for sentenceIndex in range(dataSize)\n",
    "]\n",
    "\n",
    "try: percentage\n",
    "except NameError: percentage = 20\n",
    "\n",
    "for iterator in range(dataSize):\n",
    "    data[iterator]['maskedwords'], maskedwordsIndexesInData = rml.chooseMaskedWords(data[iterator]['input_str'], percentage)\n",
    "    data[iterator]['maskedwordsIndexesInStr'] = rml.findIndexes(data[iterator]['input_str'], maskedwordsIndexesInData)\n",
    "    assert len(data[iterator]['maskedwordsIndexesInStr']) % 2 == 0\n",
    "    data[iterator]['input_tokens'] = rml.inputWithMaskedWords(data[iterator]['input_str'], data[iterator]['maskedwordsIndexesInStr'])\n",
    "\n",
    "print(f\"Nombre de phrases a tester: {dataSize}\")"
   ],
   "metadata": {
    "collapsed": false,
    "pycharm": {
     "name": "#%%\n"
    }
   }
  },
  {
   "cell_type": "markdown",
   "source": [
    "# 4. Application de la solution en local"
   ],
   "metadata": {
    "collapsed": false,
    "pycharm": {
     "name": "#%% md\n"
    }
   }
  },
  {
   "cell_type": "code",
   "execution_count": 16,
   "outputs": [
    {
     "name": "stdout",
     "output_type": "stream",
     "text": [
      "Exemple de inputs: [[ 79 116  38 ...   0   0   0]]\n",
      "Exemple de input_mask: [[1 1 1 ... 0 0 0]]\n"
     ]
    }
   ],
   "source": [
    "for iterator in range(dataSize):\n",
    "    # inputs est le tableau d'entiers avec une dimension supplementaire\n",
    "    # c'est comme si on mettait le tableau inputs a l'interieur d'un nouveau tableau\n",
    "    data[iterator]['inputs'] = data[iterator]['input_tokens'][None]\n",
    "\n",
    "    # input_mask est l'equivalent unitaire de inputs :\n",
    "    # pour toutes les valeurs d'inputs, on met un 1\n",
    "    data[iterator]['input_mask'] = np.ones_like(data[iterator]['inputs'])\n",
    "\n",
    "    data[iterator]['inputs'], data[iterator]['input_mask'] = pad(MAX_SEQ_LEN, data[iterator]['inputs'], data[iterator]['input_mask'])\n",
    "\n",
    "assert [a * b for a,b in zip(data[0]['inputs'][0], data[0]['input_mask'][0])] == [a for a in data[0]['inputs'][0]]\n",
    "print(f\"Exemple de inputs: {data[0]['inputs']}\")\n",
    "print(f\"Exemple de input_mask: {data[0]['input_mask']}\")"
   ],
   "metadata": {
    "collapsed": false,
    "pycharm": {
     "name": "#%%\n"
    }
   }
  },
  {
   "cell_type": "code",
   "execution_count": 17,
   "outputs": [
    {
     "name": "stderr",
     "output_type": "stream",
     "text": [
      "WARNING:absl:No GPU/TPU found, falling back to CPU. (Set TF_CPP_MIN_LOG_LEVEL=0 and rerun for more info.)\n"
     ]
    },
    {
     "data": {
      "text/plain": "'Progression dans les echantillons : 1%'"
     },
     "metadata": {},
     "output_type": "display_data"
    },
    {
     "data": {
      "text/plain": "'Progression dans les echantillons : 5%'"
     },
     "metadata": {},
     "output_type": "display_data"
    },
    {
     "data": {
      "text/plain": "'Progression dans les echantillons : 11%'"
     },
     "metadata": {},
     "output_type": "display_data"
    },
    {
     "data": {
      "text/plain": "'Progression dans les echantillons : 16%'"
     },
     "metadata": {},
     "output_type": "display_data"
    },
    {
     "data": {
      "text/plain": "'Progression dans les echantillons : 20%'"
     },
     "metadata": {},
     "output_type": "display_data"
    },
    {
     "data": {
      "text/plain": "'Progression dans les echantillons : 25%'"
     },
     "metadata": {},
     "output_type": "display_data"
    },
    {
     "data": {
      "text/plain": "'Progression dans les echantillons : 31%'"
     },
     "metadata": {},
     "output_type": "display_data"
    },
    {
     "data": {
      "text/plain": "'Progression dans les echantillons : 35%'"
     },
     "metadata": {},
     "output_type": "display_data"
    },
    {
     "data": {
      "text/plain": "'Progression dans les echantillons : 40%'"
     },
     "metadata": {},
     "output_type": "display_data"
    },
    {
     "data": {
      "text/plain": "'Progression dans les echantillons : 46%'"
     },
     "metadata": {},
     "output_type": "display_data"
    },
    {
     "data": {
      "text/plain": "'Progression dans les echantillons : 50%'"
     },
     "metadata": {},
     "output_type": "display_data"
    },
    {
     "data": {
      "text/plain": "'Progression dans les echantillons : 51%'"
     },
     "metadata": {},
     "output_type": "display_data"
    },
    {
     "data": {
      "text/plain": "'Progression dans les echantillons : 55%'"
     },
     "metadata": {},
     "output_type": "display_data"
    },
    {
     "data": {
      "text/plain": "'Progression dans les echantillons : 61%'"
     },
     "metadata": {},
     "output_type": "display_data"
    },
    {
     "data": {
      "text/plain": "'Progression dans les echantillons : 66%'"
     },
     "metadata": {},
     "output_type": "display_data"
    },
    {
     "data": {
      "text/plain": "'Progression dans les echantillons : 70%'"
     },
     "metadata": {},
     "output_type": "display_data"
    },
    {
     "data": {
      "text/plain": "'Progression dans les echantillons : 75%'"
     },
     "metadata": {},
     "output_type": "display_data"
    },
    {
     "data": {
      "text/plain": "'Progression dans les echantillons : 81%'"
     },
     "metadata": {},
     "output_type": "display_data"
    },
    {
     "data": {
      "text/plain": "'Progression dans les echantillons : 85%'"
     },
     "metadata": {},
     "output_type": "display_data"
    },
    {
     "data": {
      "text/plain": "'Progression dans les echantillons : 90%'"
     },
     "metadata": {},
     "output_type": "display_data"
    },
    {
     "data": {
      "text/plain": "'Progression dans les echantillons : 96%'"
     },
     "metadata": {},
     "output_type": "display_data"
    },
    {
     "data": {
      "text/plain": "'Progression dans les echantillons : 100%'"
     },
     "metadata": {},
     "output_type": "display_data"
    }
   ],
   "source": [
    "rng = jax.random.PRNGKey(1)  # Unused\n",
    "\n",
    "for iterator in range(dataSize):\n",
    "    # la prediction sous forme d'entiers est constituee des valeurs maximales\n",
    "    # aux coordonnees du masque sur la 1ere dimension de out : ( type(out[0]) == int[] )\n",
    "    out = apply_perceiver(params, rng=rng, inputs=data[iterator]['inputs'], input_mask=data[iterator]['input_mask'])\n",
    "    data[iterator]['predicted_words'] = tokenizer.to_string(out[0].argmax(axis=-1))\n",
    "\n",
    "    inputs_progression = int((iterator+1)/dataSize*100)\n",
    "    if inputs_progression % 5 < 2:\n",
    "        display(f\"Progression dans les echantillons : {inputs_progression}%\")"
   ],
   "metadata": {
    "collapsed": false,
    "pycharm": {
     "name": "#%%\n"
    }
   }
  },
  {
   "cell_type": "code",
   "execution_count": 18,
   "outputs": [
    {
     "name": "stdout",
     "output_type": "stream",
     "text": [
      "Outputs disponibles dans ./results/analysis_results.txt\n"
     ]
    }
   ],
   "source": [
    "results = open('./results/analysis_results.txt', \"w\")\n",
    "\n",
    "rng = jax.random.PRNGKey(1)  # Unused\n",
    "\n",
    "for iterator in range(dataSize):\n",
    "    predictedSentence = rml.stringWithNewWords(data[iterator]['input_str'], data[iterator]['predicted_words'], data[iterator]['maskedwordsIndexesInStr'])\n",
    "    masked_words_predictions = rml.extractWordsByIndexes(data[iterator]['predicted_words'], data[iterator]['maskedwordsIndexesInStr'])\n",
    "\n",
    "    results.write(\"-\"+str(iterator+1)+\"-\\n\")\n",
    "    results.write(\"-Sentence:\"+\"\\n\")\n",
    "    results.write(data[iterator]['input_str']+\"\\n\")\n",
    "    results.write(\"-Sentence predicted:\"+\"\\n\")\n",
    "    results.write(predictedSentence+\"\\n\")\n",
    "\n",
    "    results.write(\"-Word-by-word prediction:\"+\"\\n\")\n",
    "    for local_masked_word_prediction in masked_words_predictions:\n",
    "        results.write(\"\\t>\"+local_masked_word_prediction+\"\\n\")\n",
    "\n",
    "    efficiency = data[iterator]['efficiency'] = \\\n",
    "        rml.computeEfficiency(data[iterator]['input_str'], predictedSentence, data[iterator]['maskedwordsIndexesInStr'])\n",
    "    results.write(\"-Efficiency:\"+\"\\n\")\n",
    "    if efficiency is not None:\n",
    "        results.write('{:.2f}%'.format(efficiency * 100)+\"\\n\\n\")\n",
    "    else:\n",
    "        results.write(\"None\"+\"\\n\\n\")\n",
    "\n",
    "results.close()\n",
    "print(f\"Outputs disponibles dans {results.name}\")"
   ],
   "metadata": {
    "collapsed": false,
    "pycharm": {
     "name": "#%%\n"
    }
   }
  },
  {
   "cell_type": "markdown",
   "source": [
    "# 5. Mise en forme des résultats"
   ],
   "metadata": {
    "collapsed": false,
    "pycharm": {
     "name": "#%% md\n"
    }
   }
  },
  {
   "cell_type": "code",
   "execution_count": 19,
   "outputs": [
    {
     "name": "stdout",
     "output_type": "stream",
     "text": [
      "Nombre de resultats: 51\n",
      "\n",
      "Efficacite du modele sur ./data/exampleText.txt avec un pourcentage de masquage de 20: 47.86%\n"
     ]
    }
   ],
   "source": [
    "\"\"\"\n",
    "efficiency_samples = [ ( data_iterator, efficiency ), ... ]\n",
    "\n",
    "\"\"\"\n",
    "efficiency_samples = []\n",
    "\n",
    "model_efficiency = 0\n",
    "for iterator in range(dataSize):\n",
    "    efficiency = data[iterator]['efficiency']\n",
    "    if efficiency is not None:\n",
    "        efficiency_samples.append( (iterator, efficiency) )\n",
    "        model_efficiency += efficiency\n",
    "model_efficiency /= len(efficiency_samples)\n",
    "\n",
    "print(f\"Nombre de resultats: {len(efficiency_samples)}\\n\")\n",
    "print(f\"Efficacite moyenne du modele sur {f.name} avec un pourcentage de masquage de {percentage}: \"\n",
    "      f\"{'{:.2f}%'.format(model_efficiency * 100)}\")\n"
   ],
   "metadata": {
    "collapsed": false,
    "pycharm": {
     "name": "#%%\n"
    }
   }
  }
 ],
 "metadata": {
  "kernelspec": {
   "display_name": "Python 3",
   "language": "python",
   "name": "python3"
  },
  "language_info": {
   "codemirror_mode": {
    "name": "ipython",
    "version": 2
   },
   "file_extension": ".py",
   "mimetype": "text/x-python",
   "name": "python",
   "nbconvert_exporter": "python",
   "pygments_lexer": "ipython2",
   "version": "2.7.6"
  }
 },
 "nbformat": 4,
 "nbformat_minor": 0
}